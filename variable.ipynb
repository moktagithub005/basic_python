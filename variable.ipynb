{
 "cells": [
  {
   "cell_type": "markdown",
   "id": "11aab8d4",
   "metadata": {},
   "source": [
    "1. Define what a variable is in Python. Give an example.\n",
    "\n",
    "A variable in Python is like a labeled box 📦 where you can store a piece of information, or data. \n",
    "\n",
    "Instead of working directly with the data's location in memory, you just use the easy-to-remember label (the variable name).\n",
    "\n",
    "Python is dynamically typed, meaning you don't have to declare what type of data (like a number or text) the variable will hold; you just assign a value, and Python figures it out.\n",
    "\n",
    "Concept: Variables are fundamental to programming because they allow us to store, reuse, and manipulate data throughout our code.\n"
   ]
  },
  {
   "cell_type": "code",
   "execution_count": 6,
   "id": "995fefae",
   "metadata": {},
   "outputs": [
    {
     "name": "stdout",
     "output_type": "stream",
     "text": [
      "Hello python\n",
      "Nmaste python\n"
     ]
    }
   ],
   "source": [
    "## create the variable \"greeting\" and store the text \"hello\" in it \n",
    "greeting=\"Hello\"\n",
    "## now we acan use variable greeting instead of Hello\n",
    "print(greeting +\" python\")\n",
    "\n",
    "## we can also change the variable later\n",
    "greeting=\"Nmaste\"\n",
    "print(greeting+\" python\")"
   ]
  },
  {
   "cell_type": "markdown",
   "id": "99987264",
   "metadata": {},
   "source": [
    "2. Create 3 variables x, y, and z with integer, float, and string values. Print their types.\n",
    "This question demonstrates the three most common data types in Python:\n",
    "\n",
    "Integer (int): Whole numbers (no decimal point).\n",
    "\n",
    "Float (float): Numbers with a decimal point.\n",
    "\n",
    "String (str): A sequence of characters (text), enclosed in quotes."
   ]
  },
  {
   "cell_type": "code",
   "execution_count": 7,
   "id": "f9c0a959",
   "metadata": {},
   "outputs": [
    {
     "name": "stdout",
     "output_type": "stream",
     "text": [
      "Variable x: value=10, type=<class 'int'>\n",
      "Variable y: value=3.14, type=<class 'float'>\n",
      "Variable z: value=python is fun, type=<class 'str'>\n"
     ]
    }
   ],
   "source": [
    "#1. integer variable(int)--> a whole number\n",
    "x=10\n",
    "#2. float variable(float)--> a number with decimal\n",
    "y=3.14\n",
    "\n",
    "#3. string variable(str)--> text enclosed in double quotes\n",
    "z=\"python is fun\"\n",
    "## print the values and teir types\n",
    "print(f\"Variable x: value={x}, type={type(x)}\")\n",
    "print(f\"Variable y: value={y}, type={type(y)}\")\n",
    "print(f\"Variable z: value={z}, type={type(z)}\")\n",
    "## type() return the data type of the variable"
   ]
  },
  {
   "cell_type": "markdown",
   "id": "eb6f2077",
   "metadata": {},
   "source": [
    "3. Swap the values of two variables without using a third variable.\n",
    "\n",
    "This is a classic Python trick! It uses tuple packing and unpacking to swap values in a single, elegant line of code.\n",
    "\n",
    "Concept: \n",
    "\n",
    "Python evaluates the right side of the assignment first, creating a temporary tuple (like a mini-list of values). Then, it simultaneously assigns those values to the variables on the left side."
   ]
  },
  {
   "cell_type": "code",
   "execution_count": 10,
   "id": "95eaa3bb",
   "metadata": {},
   "outputs": [
    {
     "name": "stdout",
     "output_type": "stream",
     "text": [
      "before swap: a=100,b=200\n",
      "after swap: a=200,b=100\n"
     ]
    }
   ],
   "source": [
    "a=100\n",
    "b=200\n",
    "print(f\"before swap: a={a},b={b}\")\n",
    "\n",
    "# magic swap \n",
    "a,b =b,a\n",
    "print(f\"after swap: a={a},b={b}\")\n",
    "#1. right side (b,a) crerates a tuple (200,100)\n",
    "#2. the left side (a,b) unpacks this tuple, assigning 200 to 'a'and 100 to 'b'"
   ]
  },
  {
   "cell_type": "markdown",
   "id": "9bc91b2a",
   "metadata": {},
   "source": [
    "4. Assign a single value to multiple variables in one line.\n",
    "\n",
    " Show with an example.\n",
    " \n",
    "You can chain variable assignments to give several variables the exact same value simultaneously.\n",
    "\n",
    "Concept: This is useful when initializing a group of variables to a default value (like 0 or an empty string) at the start of a program."
   ]
  },
  {
   "cell_type": "code",
   "execution_count": 11,
   "id": "264ed8e9",
   "metadata": {},
   "outputs": [
    {
     "name": "stdout",
     "output_type": "stream",
     "text": [
      "score1:0\n",
      "score2:0\n",
      "score3:0\n",
      "after changing score1: score 1 =50,score 2=0\n"
     ]
    }
   ],
   "source": [
    "## Assign the value Zero to three variables: score1, score2, score3\n",
    "score1=score2=score3=0\n",
    "print(f\"score1:{score1}\")\n",
    "print(f\"score2:{score2}\")\n",
    "print(f\"score3:{score3}\")\n",
    "## proof that they are independent variables(we can change one without affecting others)\n",
    "score1=50\n",
    "print(f\"after changing score1: score 1 ={score1},score 2={score2}\")"
   ]
  },
  {
   "cell_type": "markdown",
   "id": "dc2754f0",
   "metadata": {},
   "source": [
    "5. Assign multiple values to multiple variables in one line. Show with an example.\n",
    "\n",
    "This is known as Multiple Assignment or Tuple Unpacking. It's the standard, concise way to assign different values to different variables in one go.\n",
    "\n",
    "Concept: The number of variables on the left must exactly match the number of values on the right. The assignment happens in order: the first value goes to the first variable, the second value to the second variable, and so on."
   ]
  },
  {
   "cell_type": "code",
   "execution_count": 13,
   "id": "d050df4d",
   "metadata": {},
   "outputs": [
    {
     "name": "stdout",
     "output_type": "stream",
     "text": [
      "name: mokta\n",
      "city: shimla\n",
      "age: 23\n"
     ]
    }
   ],
   "source": [
    "## Assign three different values to three different variables\n",
    "name,city,age=\"mokta\", \"shimla\",23\n",
    "print(f\"name: {name}\")\n",
    "print(f\"city: {city}\")\n",
    "print(f\"age: {age}\")\n",
    "## note: this is exactly we used for the elegant swap in question 3!"
   ]
  },
  {
   "cell_type": "markdown",
   "id": "dacf52c8",
   "metadata": {},
   "source": [
    "6. Explain the difference between = and == with examples.\n",
    "These are two completely different operators that look similar but serve distinct purposes:\n",
    "\n",
    "   1. Operator \"=\"\n",
    "\n",
    "    Operator Name: Assignment Operator\n",
    "\n",
    "    purpose: Used to assign a value to a variable.\n",
    "\n",
    "    2. Operator \"==\"\n",
    "\n",
    "    Operator Name: Equality Operator\n",
    "\n",
    "    purpose: Used to compare two values to see if they are equal (returns True or False).\n"
   ]
  },
  {
   "cell_type": "code",
   "execution_count": 15,
   "id": "dfd2a403",
   "metadata": {},
   "outputs": [
    {
     "name": "stdout",
     "output_type": "stream",
     "text": [
      "is my_value equal to 10? True\n",
      "is my_value equal to 5? False\n"
     ]
    }
   ],
   "source": [
    "## The Assignmnet Operator \n",
    "my_value=10 # assigning the value 10 to variable \"my_value\"\n",
    "## the equality operator\n",
    "is_equal=(my_value==10)\n",
    "## compares the my_value(which is 10) with 10 \n",
    "# since 10 is equal to 10, the result is true \n",
    "is_not_equal=(my_value==5)\n",
    "print(f\"is my_value equal to 10? {is_equal}\")\n",
    "print(f\"is my_value equal to 5? {is_not_equal}\")"
   ]
  },
  {
   "cell_type": "markdown",
   "id": "dbfdfc3a",
   "metadata": {},
   "source": [
    "7. Write a program to calculate the area of a rectangle using variables length and breadth.\n",
    "\n",
    "The formula for the area of a rectangle is\n",
    " \n",
    " Area=length×breadth.\n",
    " \n",
    " We'll use variables to store the inputs and the result, making the code readable and easy to update."
   ]
  },
  {
   "cell_type": "code",
   "execution_count": 16,
   "id": "5ae1adc6",
   "metadata": {},
   "outputs": [
    {
     "name": "stdout",
     "output_type": "stream",
     "text": [
      "length of rectangle:7.5 units\n",
      "breadth of rectangle:4.0 units\n",
      "area of rectangle:30.0 square units\n"
     ]
    }
   ],
   "source": [
    "#1. defines the variables for the rectangle's dimensions\n",
    "length=7.5\n",
    "breadth=4.0\n",
    "## calculate the area store results in the new variable\n",
    "area=length*breadth\n",
    "\n",
    "# the \"*\" symbol is the multiplication operator\n",
    "# print  the final result in a clear format\n",
    "print(f\"length of rectangle:{length} units\")\n",
    "print(f\"breadth of rectangle:{breadth} units\")\n",
    "print(f\"area of rectangle:{area} square units\")"
   ]
  },
  {
   "cell_type": "markdown",
   "id": "1bd48c85",
   "metadata": {},
   "source": [
    "8. Write a Python program to compute the average of three numbers stored in variables.\n",
    "\n",
    "The average (mean) is calculated as:\n",
    "\n",
    "Average=(Sum of numbers)/(Count of numbers).\n",
    " \n",
    "We'll use parentheses to ensure the sum is calculated before the division."
   ]
  },
  {
   "cell_type": "code",
   "execution_count": 17,
   "id": "480bec59",
   "metadata": {},
   "outputs": [
    {
     "name": "stdout",
     "output_type": "stream",
     "text": [
      "the numbers are : 85, 92,78\n",
      "the total sum: 255\n",
      "the average is: 85.0\n"
     ]
    }
   ],
   "source": [
    "## define the three numbers using descriptive variables\n",
    "num1=85\n",
    "num2=92\n",
    "num3=78\n",
    "# calculate the sum and store it \n",
    "total_sum=num1+num2+num3\n",
    "## calculate the average\n",
    "average=total_sum/3\n",
    "print(f\"the numbers are : {num1}, {num2},{num3}\")\n",
    "print(f\"the total sum: {total_sum}\")\n",
    "print(f\"the average is: {average}\")"
   ]
  },
  {
   "cell_type": "markdown",
   "id": "874c7e62",
   "metadata": {},
   "source": [
    "9. Create variables a=10 and b=5. Perform addition, subtraction, multiplication, division, modulus, and floor division."
   ]
  },
  {
   "cell_type": "code",
   "execution_count": 22,
   "id": "1c8e5cf5",
   "metadata": {},
   "outputs": [
    {
     "name": "stdout",
     "output_type": "stream",
     "text": [
      "Variables are a=10, b=5\n",
      "\n",
      "Addition(a+b):15\n",
      "subtraction(a-b):5\n",
      "multiplication(a*b): 50\n",
      "division(a/b): 2.0\n",
      "Modulus(a%b): 0\n",
      "floor division(a//b): 2\n"
     ]
    }
   ],
   "source": [
    "a = 10\n",
    "b = 5\n",
    "\n",
    "print(f\"Variables are a={a}, b={b}\\n\")\n",
    "\n",
    "# Addition \n",
    "print(f\"Addition(a+b):{a+b}\")\n",
    "\n",
    "#subtraction\n",
    "print(f\"subtraction(a-b):{a-b}\")\n",
    "\n",
    "#Multiplication\n",
    "print(f\"multiplication(a*b): {a*b}\")\n",
    "\n",
    "# division (standard)\n",
    "print(f\"division(a/b): {a/b}\") # rersult is 2.0 (floats)\n",
    "\n",
    "# Modulus(Reminder)\n",
    "## 10 divide by 5 is 2 with a reminder of 0 \n",
    "print(f\"Modulus(a%b): {a%b}\")\n",
    "\n",
    "# Floor division(Quotient,rounded down)\n",
    "# 10 divided by 5, whole number part is 2\n",
    "print(f\"floor division(a//b): {a//b}\")"
   ]
  },
  {
   "cell_type": "markdown",
   "id": "2b39d37b",
   "metadata": {},
   "source": [
    "10. What are constants? Explain examples in Python.\n",
    "Constants are variables whose values are not intended to change throughout the execution of the program.\n",
    "\n",
    "Concept: Python, unlike some other languages (like Java or C++), does not have true, built-in constants that are enforced by the language.\n",
    "\n",
    "Convention: In Python, constants are established by naming convention to signal to other programmers: use all capital letters (e.g., PI, MAX_USERS). This is a convention, not a rule, meaning you can still change the value, but you shouldn't."
   ]
  },
  {
   "cell_type": "code",
   "execution_count": 23,
   "id": "d4eb8363",
   "metadata": {},
   "outputs": [
    {
     "name": "stdout",
     "output_type": "stream",
     "text": [
      "Circumference of radius 5: 31.4159\n"
     ]
    }
   ],
   "source": [
    "# Standard constant defined by convention (ALL CAPS)\n",
    "PI = 3.14159\n",
    "\n",
    "# Another constant, perhaps for configuration\n",
    "MAX_CONNECTIONS = 100\n",
    "\n",
    "def calculate_circumference(radius):\n",
    "    # We use PI, expecting its value to remain 3.14159\n",
    "    return 2 * PI * radius\n",
    "\n",
    "# Calling the function\n",
    "circumference = calculate_circumference(5)\n",
    "print(f\"Circumference of radius 5: {circumference}\")\n",
    "\n",
    "# Although discouraged, Python allows you to change it:\n",
    "# PI = 3.0 # BAD PRACTICE!\n",
    "\n"
   ]
  },
  {
   "cell_type": "markdown",
   "id": "dfa64725",
   "metadata": {},
   "source": [
    "### 11. Define variable naming rules in Python with correct and incorrect examples.\n",
    "\n",
    "Python variable names must follow specific rules to be valid. Adhering to these rules (and the conventions) makes your code readable.\n",
    "\n",
    "#### 📝 Python Variable Naming Rules:\n",
    "\n",
    "1.  **Start Character:** Must start with a **letter** (`a-z, A-Z`) or an **underscore** (`_`).\n",
    "2.  **Allowed Characters:** Can only contain **alphanumeric characters** (letters, numbers) and **underscores** (`_`).\n",
    "3.  **Case Sensitivity:** Variable names are **case-sensitive** (`Age`, `age`, and `AGE` are three different variables).\n",
    "4.  **Reserved Words:** Cannot be any of Python's **reserved keywords** (like `for`, `if`, `while`, `print`, etc.).\n",
    "\n",
    "#### Correct Examples (Convention: `snake_case` is preferred for variables):\n",
    "\n",
    "| Variable Name | Reason |\n",
    "| :--- | :--- |\n",
    "| `user_name` | Starts with a letter, uses `snake_case`. |\n",
    "| `_temp` | Starts with an underscore (often for internal use). |\n",
    "| `data2025` | Contains letters and numbers. |\n",
    "\n",
    "#### Incorrect Examples:\n",
    "\n",
    "| Variable Name | Reason |\n",
    "| :--- | :--- |\n",
    "| `2nd_data` | **Starts with a number** (Rule 1 violation). |\n",
    "| `my-variable` | Contains a **hyphen** (`-`), which is not allowed (Rule 2 violation, the hyphen is used for subtraction). |\n",
    "| `for` | Is a **reserved keyword** (Rule 4 violation). |\n",
    "| `Total$` | Contains a **special character** (`$`) (Rule 2 violation). |\n",
    "\n",
    "***\n",
    "\n",
    "### 12. What is the difference between local and global variables? Demonstrate with code.\n",
    "\n",
    "Variables in Python have a **scope**, which determines where they can be accessed. The two primary scopes are **Global** and **Local**.\n",
    "\n",
    "| Type | Definition | Access | Lifetime |\n",
    "| :---: | :---: | :--- | :--- |\n",
    "| **Global** | Defined outside of any function. | Accessible from **anywhere** in the script, inside or outside functions. | Exists until the program terminates. |\n",
    "| **Local** | Defined inside a function. | Accessible **only within** the function where it is created. | Exists only while the function is executing. |\n",
    "\n",
    "\n"
   ]
  },
  {
   "cell_type": "code",
   "execution_count": 24,
   "id": "a988e15f",
   "metadata": {},
   "outputs": [
    {
     "name": "stdout",
     "output_type": "stream",
     "text": [
      "Inside function: I am a global variable. I can be seen everywhere.\n",
      "Inside function: Local number is 42\n",
      "\n",
      "--- Outside the function ---\n",
      "Outside function: I am a global variable. I can be seen everywhere.\n"
     ]
    }
   ],
   "source": [
    "# GLOBAL VARIABLE: Defined outside any function\n",
    "global_message = \"I am a global variable. I can be seen everywhere.\"\n",
    "\n",
    "def my_function():\n",
    "    # LOCAL VARIABLE: Defined inside the function\n",
    "    local_number = 42 \n",
    "    \n",
    "    # Accessing the global variable is fine\n",
    "    print(f\"Inside function: {global_message}\") \n",
    "    \n",
    "    # Accessing the local variable is also fine\n",
    "    print(f\"Inside function: Local number is {local_number}\")\n",
    "    \n",
    "# Call the function to see the local variable created and destroyed\n",
    "my_function()\n",
    "\n",
    "print(\"\\n--- Outside the function ---\")\n",
    "\n",
    "# Accessing the global variable is still fine\n",
    "print(f\"Outside function: {global_message}\")\n",
    "\n",
    "# Attempting to access the local variable will cause an error!\n",
    "# print(local_number) # <--- This line would cause a 'NameError'"
   ]
  },
  {
   "cell_type": "markdown",
   "id": "adaa7c62",
   "metadata": {},
   "source": [
    "13. Show an example of dynamic typing in Python.\n",
    "\n",
    "Dynamic Typing means that the type of a variable is checked during execution (run-time), and a single variable can hold values of different types at different times.\n",
    "\n",
    "Concept: Python variables are more like tags attached to objects. When you assign a new value of a different type, you simply move the tag to a new object."
   ]
  },
  {
   "cell_type": "code",
   "execution_count": 25,
   "id": "72be2d75",
   "metadata": {},
   "outputs": [
    {
     "name": "stdout",
     "output_type": "stream",
     "text": [
      "value: 10, data_type:<class 'int'>\n",
      "value: unisole,data_type:<class 'str'>\n",
      "value: 9.81,data_type: <class 'float'>\n"
     ]
    }
   ],
   "source": [
    "## start with an integer\n",
    "data=10\n",
    "print(f\"value: {data}, data_type:{type(data)}\")\n",
    "\n",
    "#re-assign the variable to hold a string\n",
    "data=\"unisole\"\n",
    "print(f\"value: {data},data_type:{type(data)}\")\n",
    "\n",
    "# Re-assign the variable to hold a float\n",
    "data=9.81\n",
    "print(f\"value: {data},data_type: {type(data)}\")\n"
   ]
  },
  {
   "cell_type": "code",
   "execution_count": null,
   "id": "3f1fb3db",
   "metadata": {},
   "outputs": [],
   "source": []
  },
  {
   "cell_type": "markdown",
   "id": "1249a49a",
   "metadata": {},
   "source": [
    "4. Explain type casting with an example of converting integer to float and string to integer.\n",
    "\n",
    "Type Casting (or Type Conversion) is the process of explicitly changing a variable's data type from one type to another using built-in functions like int(), float(), and str().\n",
    "\n",
    "Concept: Type casting is essential when you need to perform operations that only work on specific types (e.g., you can't multiply a number by a string, so you must convert the string to a number first)."
   ]
  },
  {
   "cell_type": "code",
   "execution_count": null,
   "id": "2ee33e7c",
   "metadata": {},
   "outputs": [
    {
     "name": "stdout",
     "output_type": "stream",
     "text": [
      "initial: age_str is <class 'str'>, val_int is : <class 'int'>\n",
      "string to int: Value=25,data_type=<class 'int'>\n",
      "we can do math: 30\n",
      "int to float: value= 15.0,data_type=<class 'float'>\n"
     ]
    }
   ],
   "source": [
    "# origin variable\n",
    "age_str=\"25\" # a string representing a number\n",
    "val_int=15 # an integer\n",
    "\n",
    "print(f\"initial: age_str is {type(age_str)}, val_int is : {type(val_int)}\")\n",
    "\n",
    "# converting string to integer \n",
    "new_age=int(age_str)\n",
    "\n",
    "print(f\"string to int: Value={new_age},data_type={type(new_age)}\")\n",
    "print(f\"we can do math: {new_age+5}\") #proof it's an integer\n",
    "\n",
    "# convert integer to float \n",
    "val_float=float(val_int)\n",
    "print(f\"int to float: value= {val_float},data_type={type(val_float)}\")\n",
    "\n"
   ]
  },
  {
   "cell_type": "code",
   "execution_count": null,
   "id": "cfefc7cd",
   "metadata": {},
   "outputs": [],
   "source": []
  },
  {
   "cell_type": "markdown",
   "id": "73be4ba4",
   "metadata": {},
   "source": [
    "15. Write a program to calculate a simple interest using variables.\n",
    "\n",
    "The formula for simple interest is: Simple Interest=(Principal×Rate×Time)/100.\n",
    "\n",
    "We will define variables for Principal, Rate, and Time to make the calculation clear."
   ]
  },
  {
   "cell_type": "code",
   "execution_count": 27,
   "id": "4bf8b12a",
   "metadata": {},
   "outputs": [
    {
     "name": "stdout",
     "output_type": "stream",
     "text": [
      "calculate simple interset: $825.0\n",
      "total ampount to be paid: $5825.0\n"
     ]
    }
   ],
   "source": [
    "# define the variable for the interest calculation\n",
    "principal=5000.0\n",
    "rate=5.5\n",
    "time=3\n",
    "\n",
    "# apply the simple interest formula\n",
    "simple_interest=(principal*rate*time)/100\n",
    "\n",
    "#calculate the total amount (principal+interest)\n",
    "total_amount=principal+simple_interest\n",
    "\n",
    "print(f\"calculate simple interset: ${simple_interest}\")\n",
    "print(f\"total ampount to be paid: ${total_amount}\")"
   ]
  },
  {
   "cell_type": "code",
   "execution_count": null,
   "id": "bbc44e8c",
   "metadata": {},
   "outputs": [],
   "source": []
  },
  {
   "cell_type": "markdown",
   "id": "7133567b",
   "metadata": {},
   "source": [
    "16. Store your name, age, and course name in variables. Print them using formatted string (f-string).\n",
    "\n",
    "An f-string (or formatted string literal) is a powerful, modern way in Python to embed expressions and variables directly inside a string literal, making output formatting clean and highly readable. You simply prefix the string with an f and put variables in curly braces {}."
   ]
  },
  {
   "cell_type": "code",
   "execution_count": 28,
   "id": "2d30b632",
   "metadata": {},
   "outputs": [
    {
     "name": "stdout",
     "output_type": "stream",
     "text": [
      "Hello, my name is muskan. I am 20 years old and currently enrolled in data science\n",
      "None\n"
     ]
    }
   ],
   "source": [
    "#define the variable \n",
    "my_name=\"muskan\"\n",
    "my_age=20\n",
    "course_name=\"data science\"\n",
    "## use an f-string to combine the variable \n",
    "output_message=print(f\"Hello, my name is {my_name}. I am {my_age} years old and currently enrolled in {course_name}\")\n",
    "print(output_message)\n"
   ]
  },
  {
   "cell_type": "code",
   "execution_count": null,
   "id": "e498308d",
   "metadata": {},
   "outputs": [],
   "source": []
  },
  {
   "cell_type": "markdown",
   "id": "da224cdb",
   "metadata": {},
   "source": [
    "17. Write a program to swap two numbers using a temporary variable.\n",
    "\n",
    "This is the traditional way to swap two variables, common in many programming languages. It requires a third variable, often called temp, to act as a holding spot.\n",
    "\n",
    "Concept: Without the temporary variable, if you assign a = b, the original value of a is lost, and you can't correctly assign the original a value to b."
   ]
  },
  {
   "cell_type": "code",
   "execution_count": 29,
   "id": "a371c7c4",
   "metadata": {},
   "outputs": [
    {
     "name": "stdout",
     "output_type": "stream",
     "text": [
      "before swap: num1=50,num2=100\n",
      "after swap: num1=100, num2=50\n"
     ]
    }
   ],
   "source": [
    "num1=50\n",
    "num2=100\n",
    "\n",
    "print(f\"before swap: num1={num1},num2={num2}\")\n",
    "# 1. create a temporary variable and store the value of num1\n",
    "temp=num1 # temp now holds 50\n",
    "\n",
    "# 2. overerite  num1 value with the value num2\n",
    "num1=num2 # num1 now holda 100\n",
    "\n",
    "# 3. overwrite the num2 value with the temp variable \n",
    "num2=temp # num2 hold 50 now\n",
    "\n",
    "print(f\"after swap: num1={num1}, num2={num2}\")\n"
   ]
  },
  {
   "cell_type": "code",
   "execution_count": null,
   "id": "204f3c21",
   "metadata": {},
   "outputs": [],
   "source": []
  },
  {
   "cell_type": "markdown",
   "id": "b5c7ee01",
   "metadata": {},
   "source": [
    "18. Explain mutable vs immutable objects. Which category does a string belong to?\n",
    "\n",
    "This is a core concept in Python that relates to how data is stored and managed in memory.\n",
    "\n",
    "Mutable: Objects whose value can be changed after they are created. The object's identity (memory address) remains the same.\n",
    "\n",
    "example: Lists, Dictionaries, Sets\n",
    "\n",
    "Immutable: Objects whose value CANNOT be changed after they are created. Any operation that seems to \"change\" the object actually creates an entirely new object in memory.\n",
    "\n",
    "example: ntegers, Floats, Tuples, Strings\n",
    "\n",
    "tring Category\n",
    "\n",
    "A string (str) is immutable.\n",
    "\n",
    "Concept: When you \"modify\" a string in Python, you're not changing the original sequence of characters; you're creating a completely new string object and making the variable point to the new one. This ensures data consistency and makes strings safe to use as keys in dictionaries."
   ]
  },
  {
   "cell_type": "code",
   "execution_count": 31,
   "id": "a8d7421a",
   "metadata": {},
   "outputs": [
    {
     "name": "stdout",
     "output_type": "stream",
     "text": [
      "origin ID : 4386551584\n",
      "new value: python3\n",
      "new id : 4430362304\n"
     ]
    }
   ],
   "source": [
    "name=\"python\"\n",
    "print(f\"origin ID : {id(name)}\")# print the memory address(id) of the object\n",
    "\n",
    "# attempt to \"change\" the string(by concatenating)\n",
    "name=name+\"3\"\n",
    "print(f\"new value: {name}\")\n",
    "print(f\"new id : {id(name)}\")"
   ]
  },
  {
   "cell_type": "code",
   "execution_count": null,
   "id": "6a1945a5",
   "metadata": {},
   "outputs": [],
   "source": []
  },
  {
   "cell_type": "markdown",
   "id": "28f23c0d",
   "metadata": {},
   "source": [
    "19. Write a program to convert temperature from Celsius to Fahrenheit using variables.\n",
    "\n",
    "The formula for converting Celsius (C) to Fahrenheit (F) is: \n",
    "\n",
    "F=(C×9/5)+32\n",
    "We will use variables to store the input, the constants, and the final result."
   ]
  },
  {
   "cell_type": "code",
   "execution_count": 32,
   "id": "af28aaa3",
   "metadata": {},
   "outputs": [
    {
     "name": "stdout",
     "output_type": "stream",
     "text": [
      "temprature in celsius: 25.0\n",
      "temprature in fahreinheit: 77.0\n"
     ]
    }
   ],
   "source": [
    "# define the input temprature in celsius(C)\n",
    "celsius_temp=25.0\n",
    "# define the constants in the formula \n",
    "\n",
    "FACTOR=9.0/5.0\n",
    "OFFSET=32\n",
    "\n",
    "## apply the conversion formula \n",
    "fahrenheit_temp=(celsius_temp*FACTOR) + OFFSET\n",
    "print(f\"temprature in celsius: {celsius_temp}\")\n",
    "print(f\"temprature in fahreinheit: {fahrenheit_temp}\")"
   ]
  },
  {
   "cell_type": "code",
   "execution_count": null,
   "id": "560a62f2",
   "metadata": {},
   "outputs": [],
   "source": []
  },
  {
   "cell_type": "markdown",
   "id": "4b9bc237",
   "metadata": {},
   "source": [
    "20. Create a variable radius. Calculate the area and circumference of a circle.\n",
    "\n",
    "We will use the approximate value of pi (π=3.14159) and the standard formulas:\n",
    "\n",
    "Area (A): A=πr \n",
    "2\n",
    " \n",
    "\n",
    "Circumference (C): C=2πr"
   ]
  },
  {
   "cell_type": "code",
   "execution_count": 33,
   "id": "e912e5da",
   "metadata": {},
   "outputs": [
    {
     "name": "stdout",
     "output_type": "stream",
     "text": [
      "calculated area:113.09724\n",
      "calculated circumference: 37.699079999999995\n"
     ]
    }
   ],
   "source": [
    "# 1. define the consatnt PI(using ALL CAPS convention) and the radius\n",
    "PI=3.14159\n",
    "radius=6.0\n",
    "\n",
    "# calculate the area of circle\n",
    "area=PI*(radius**2)\n",
    "\n",
    "# calculate the circumference of the circle \n",
    "crm=2*PI*radius\n",
    "\n",
    "print(f\"calculated area:{area}\")\n",
    "print(f\"calculated circumference: {crm}\")"
   ]
  },
  {
   "cell_type": "code",
   "execution_count": null,
   "id": "f9d89370",
   "metadata": {},
   "outputs": [],
   "source": []
  },
  {
   "cell_type": "markdown",
   "id": "8de0139b",
   "metadata": {},
   "source": [
    "21. Demonstrate concatenation of integer and string with type conversion.\n",
    "Concatenation is the process of joining two or more strings together. You cannot directly concatenate a string and a number (integer or float) in Python, as it would cause a TypeError. You must first use type conversion (str()) to turn the number into a string.\n",
    "\n",
    "Concept: The + operator has two meanings: addition for numbers and concatenation for strings. Python prevents mixing these types to avoid ambiguity.\n"
   ]
  },
  {
   "cell_type": "code",
   "execution_count": 35,
   "id": "692ca96c",
   "metadata": {},
   "outputs": [
    {
     "name": "stdout",
     "output_type": "stream",
     "text": [
      "Project Name String: 'unisole ai lab'\n",
      "Version Number Type: <class 'int'>\n",
      "---------------------------------------\n",
      "Concatenated String (using str()): unisole ai lab3 (Released in 2025)\n"
     ]
    }
   ],
   "source": [
    "project_name=\"unisole ai lab\"\n",
    "version_number=3 \n",
    "released_year=2025\n",
    "# ❌ INCORRECT WAY (will cause a TypeError)\n",
    "# print(project_name + version_number)\n",
    "\n",
    "# ✅ CORRECT WAY: Use str() to convert the number to a string\n",
    "full_version_string = project_name + str(version_number) \n",
    "# str(version_number) converts the integer 3 into the string \"3\"\n",
    "\n",
    "# Another common use: joining a message with a year\n",
    "full_message = full_version_string + \" (Released in \" + str(released_year) + \")\"\n",
    "\n",
    "print(f\"Project Name String: '{project_name}'\")\n",
    "print(f\"Version Number Type: {type(version_number)}\")\n",
    "print(\"---------------------------------------\")\n",
    "print(f\"Concatenated String (using str()): {full_message}\")"
   ]
  },
  {
   "cell_type": "code",
   "execution_count": null,
   "id": "d33c834e",
   "metadata": {},
   "outputs": [],
   "source": []
  },
  {
   "cell_type": "markdown",
   "id": "e8589b8e",
   "metadata": {},
   "source": [
    "22. What happens if you use an undefined variable in Python? Show an example.\n",
    "\n",
    "If you attempt to use a variable that has not been assigned a value (i.e., not been defined), Python will raise a NameError.\n",
    "\n",
    "Concept: Python checks if a name exists in its current memory (scope) when it tries to execute a line of code. If the name hasn't been linked to an object (a value) yet, Python doesn't know what you're referring to, and it halts execution."
   ]
  },
  {
   "cell_type": "code",
   "execution_count": 36,
   "id": "85654a17",
   "metadata": {},
   "outputs": [
    {
     "name": "stdout",
     "output_type": "stream",
     "text": [
      "This works: 100\n",
      "\n",
      "--- ERROR OCCURRED ---\n",
      "Error Type: NameError\n",
      "Error Message: name 'undefined_variable' is not defined\n",
      "Explanation: The variable was used before it was assigned a value.\n"
     ]
    }
   ],
   "source": [
    "defined_variable = 100 \n",
    "print(f\"This works: {defined_variable}\")\n",
    "\n",
    "# The next line attempts to use 'undefined_variable' which was never created.\n",
    "# This is where the program stops and raises an error.\n",
    "\n",
    "try:\n",
    "    print(f\"Attempting to use undefined variable: {undefined_variable}\")\n",
    "except NameError as e:\n",
    "    print(\"\\n--- ERROR OCCURRED ---\")\n",
    "    print(f\"Error Type: {type(e).__name__}\")\n",
    "    print(f\"Error Message: {e}\")\n",
    "    print(\"Explanation: The variable was used before it was assigned a value.\")\n",
    "\n",
    "# Actual error output if not wrapped in try/except would be:\n",
    "# NameError: name 'undefined_variable' is not defined"
   ]
  },
  {
   "cell_type": "code",
   "execution_count": null,
   "id": "a1901e6f",
   "metadata": {},
   "outputs": [],
   "source": []
  },
  {
   "cell_type": "markdown",
   "id": "aa80ae7d",
   "metadata": {},
   "source": [
    "23. Write a program to calculate the perimeter of a triangle using variables.\n",
    "The perimeter of a triangle is the total distance around its three sides. The formula is simply: \n",
    "\n",
    "Perimeter=Side \n",
    "a\n",
    "​\n",
    " +Side \n",
    "b\n",
    "​\n",
    " +Side \n",
    "c\n",
    "​\n",
    " \n",
    "Python"
   ]
  },
  {
   "cell_type": "code",
   "execution_count": 37,
   "id": "06c6fcd3",
   "metadata": {},
   "outputs": [
    {
     "name": "stdout",
     "output_type": "stream",
     "text": [
      "the perimeter of the triangle is 34.0 cm\n"
     ]
    }
   ],
   "source": [
    "# define the variable for the three sides of the triangle\n",
    "side_a=15.5\n",
    "side_b=10.0\n",
    "side_C=8.5\n",
    "# calcuaalte the parameter by summing the three sides\n",
    "perimeter=side_a+side_b+side_C\n",
    "\n",
    "print(f\"the perimeter of the triangle is {perimeter} cm\")"
   ]
  },
  {
   "cell_type": "code",
   "execution_count": null,
   "id": "afa8c3c1",
   "metadata": {},
   "outputs": [],
   "source": []
  },
  {
   "cell_type": "markdown",
   "id": "43b237d8",
   "metadata": {},
   "source": [
    "24. Store marks of 5 subjects in variables. Calculate and print total and percentage.\n",
    "\n",
    "To calculate the percentage, we'll need the total marks obtained and the total possible marks.\n",
    "\n",
    "Total Marks = Sum of all subject marks.\n",
    "\n",
    "Percentage = (Total Marks Obtained/Total Possible Marks)×100"
   ]
  },
  {
   "cell_type": "code",
   "execution_count": 38,
   "id": "4d14cdf8",
   "metadata": {},
   "outputs": [
    {
     "name": "stdout",
     "output_type": "stream",
     "text": [
      "total marks obtained: 438\n",
      "percentage score: 87.60\n"
     ]
    }
   ],
   "source": [
    "# define variable for the marks obtained in 5 subjects\n",
    "math_marks=85\n",
    "science_marks=92\n",
    "history_marks=78\n",
    "art_marks=95\n",
    "english_marks=88\n",
    "\n",
    "# 2. define the total possible marks\n",
    "MAX_MARK_PER_SUBJECT=100\n",
    "NUMBER_OF_SUBJECTS=5\n",
    "TOTAL_POSSIBLE_MARKS=MAX_MARK_PER_SUBJECT*NUMBER_OF_SUBJECTS\n",
    "# calculate the total marks\n",
    "total_marks_obtained=(math_marks+science_marks+history_marks+art_marks+english_marks)\n",
    "# calculate the percentage \n",
    "percentage=(total_marks_obtained/TOTAL_POSSIBLE_MARKS)*100\n",
    "# print the results\n",
    "print(f\"total marks obtained: {total_marks_obtained}\")\n",
    "print(f\"percentage score: {percentage:.2f}\")"
   ]
  },
  {
   "cell_type": "code",
   "execution_count": null,
   "id": "d6204d15",
   "metadata": {},
   "outputs": [],
   "source": []
  },
  {
   "cell_type": "markdown",
   "id": "218f0965",
   "metadata": {},
   "source": [
    "25. Explain the difference between is and == operators with examples.\n",
    "\n",
    "These operators are often confused because they both deal with comparison, but they ask two fundamentally different questions about the objects being compared.\n",
    "\n",
    "  1. Operator \"==\" :Compares the content or value of the objects. (Equality check)\n",
    "\n",
    "  2. Operator \"is\" : Compares the identity or memory address (id()) of the objects. (Identity check)"
   ]
  },
  {
   "cell_type": "code",
   "execution_count": 40,
   "id": "868aa4ee",
   "metadata": {},
   "outputs": [
    {
     "name": "stdout",
     "output_type": "stream",
     "text": [
      "list_a==list_b: True\n",
      "list_a is list_b: False\n",
      "list_a is list_c:True\n"
     ]
    }
   ],
   "source": [
    "list_a=[10,20]\n",
    "list_b=[10,20]\n",
    "list_c=list_a\n",
    "#---- 1. the == operator(value comparison)\n",
    "print(f\"list_a==list_b: {list_a==list_b}\")\n",
    "# True, because the *content* ([10,20]) is the same in both lists.\n",
    "\n",
    "#--- 2. the \"is\" operator (identity comparision)\n",
    "print(f\"list_a is list_b: {list_a is list_b}\")\n",
    "\n",
    "# False, because 'list_a' and 'list_b' are two seprate objects in memory.as_integer_ratio\n",
    "print(f\"list_a is list_c:{list_a is list_c}\")\n",
    "#True, becaue 'list_c' was directly assigned 'list_a'"
   ]
  },
  {
   "cell_type": "code",
   "execution_count": null,
   "id": "935e31e6",
   "metadata": {},
   "outputs": [],
   "source": []
  }
 ],
 "metadata": {
  "kernelspec": {
   "display_name": "base",
   "language": "python",
   "name": "python3"
  },
  "language_info": {
   "codemirror_mode": {
    "name": "ipython",
    "version": 3
   },
   "file_extension": ".py",
   "mimetype": "text/x-python",
   "name": "python",
   "nbconvert_exporter": "python",
   "pygments_lexer": "ipython3",
   "version": "3.12.11"
  }
 },
 "nbformat": 4,
 "nbformat_minor": 5
}
