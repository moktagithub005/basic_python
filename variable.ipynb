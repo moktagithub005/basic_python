{
 "cells": [
  {
   "cell_type": "markdown",
   "id": "11aab8d4",
   "metadata": {},
   "source": [
    "1. Define what a variable is in Python. Give an example.\n",
    "\n",
    "A variable in Python is like a labeled box 📦 where you can store a piece of information, or data. \n",
    "\n",
    "Instead of working directly with the data's location in memory, you just use the easy-to-remember label (the variable name).\n",
    "\n",
    "Python is dynamically typed, meaning you don't have to declare what type of data (like a number or text) the variable will hold; you just assign a value, and Python figures it out.\n",
    "\n",
    "Concept: Variables are fundamental to programming because they allow us to store, reuse, and manipulate data throughout our code.\n"
   ]
  },
  {
   "cell_type": "code",
   "execution_count": 6,
   "id": "995fefae",
   "metadata": {},
   "outputs": [
    {
     "name": "stdout",
     "output_type": "stream",
     "text": [
      "Hello python\n",
      "Nmaste python\n"
     ]
    }
   ],
   "source": [
    "## create the variable \"greeting\" and store the text \"hello\" in it \n",
    "greeting=\"Hello\"\n",
    "## now we acan use variable greeting instead of Hello\n",
    "print(greeting +\" python\")\n",
    "\n",
    "## we can also change the variable later\n",
    "greeting=\"Nmaste\"\n",
    "print(greeting+\" python\")"
   ]
  },
  {
   "cell_type": "markdown",
   "id": "99987264",
   "metadata": {},
   "source": [
    "2. Create 3 variables x, y, and z with integer, float, and string values. Print their types.\n",
    "This question demonstrates the three most common data types in Python:\n",
    "\n",
    "Integer (int): Whole numbers (no decimal point).\n",
    "\n",
    "Float (float): Numbers with a decimal point.\n",
    "\n",
    "String (str): A sequence of characters (text), enclosed in quotes."
   ]
  },
  {
   "cell_type": "code",
   "execution_count": 7,
   "id": "f9c0a959",
   "metadata": {},
   "outputs": [
    {
     "name": "stdout",
     "output_type": "stream",
     "text": [
      "Variable x: value=10, type=<class 'int'>\n",
      "Variable y: value=3.14, type=<class 'float'>\n",
      "Variable z: value=python is fun, type=<class 'str'>\n"
     ]
    }
   ],
   "source": [
    "#1. integer variable(int)--> a whole number\n",
    "x=10\n",
    "#2. float variable(float)--> a number with decimal\n",
    "y=3.14\n",
    "\n",
    "#3. string variable(str)--> text enclosed in double quotes\n",
    "z=\"python is fun\"\n",
    "## print the values and teir types\n",
    "print(f\"Variable x: value={x}, type={type(x)}\")\n",
    "print(f\"Variable y: value={y}, type={type(y)}\")\n",
    "print(f\"Variable z: value={z}, type={type(z)}\")\n",
    "## type() return the data type of the variable"
   ]
  },
  {
   "cell_type": "markdown",
   "id": "eb6f2077",
   "metadata": {},
   "source": [
    "3. Swap the values of two variables without using a third variable.\n",
    "\n",
    "This is a classic Python trick! It uses tuple packing and unpacking to swap values in a single, elegant line of code.\n",
    "\n",
    "Concept: \n",
    "\n",
    "Python evaluates the right side of the assignment first, creating a temporary tuple (like a mini-list of values). Then, it simultaneously assigns those values to the variables on the left side."
   ]
  },
  {
   "cell_type": "code",
   "execution_count": 10,
   "id": "95eaa3bb",
   "metadata": {},
   "outputs": [
    {
     "name": "stdout",
     "output_type": "stream",
     "text": [
      "before swap: a=100,b=200\n",
      "after swap: a=200,b=100\n"
     ]
    }
   ],
   "source": [
    "a=100\n",
    "b=200\n",
    "print(f\"before swap: a={a},b={b}\")\n",
    "\n",
    "# magic swap \n",
    "a,b =b,a\n",
    "print(f\"after swap: a={a},b={b}\")\n",
    "#1. right side (b,a) crerates a tuple (200,100)\n",
    "#2. the left side (a,b) unpacks this tuple, assigning 200 to 'a'and 100 to 'b'"
   ]
  },
  {
   "cell_type": "markdown",
   "id": "9bc91b2a",
   "metadata": {},
   "source": [
    "4. Assign a single value to multiple variables in one line.\n",
    "\n",
    " Show with an example.\n",
    " \n",
    "You can chain variable assignments to give several variables the exact same value simultaneously.\n",
    "\n",
    "Concept: This is useful when initializing a group of variables to a default value (like 0 or an empty string) at the start of a program."
   ]
  },
  {
   "cell_type": "code",
   "execution_count": 11,
   "id": "264ed8e9",
   "metadata": {},
   "outputs": [
    {
     "name": "stdout",
     "output_type": "stream",
     "text": [
      "score1:0\n",
      "score2:0\n",
      "score3:0\n",
      "after changing score1: score 1 =50,score 2=0\n"
     ]
    }
   ],
   "source": [
    "## Assign the value Zero to three variables: score1, score2, score3\n",
    "score1=score2=score3=0\n",
    "print(f\"score1:{score1}\")\n",
    "print(f\"score2:{score2}\")\n",
    "print(f\"score3:{score3}\")\n",
    "## proof that they are independent variables(we can change one without affecting others)\n",
    "score1=50\n",
    "print(f\"after changing score1: score 1 ={score1},score 2={score2}\")"
   ]
  },
  {
   "cell_type": "markdown",
   "id": "dc2754f0",
   "metadata": {},
   "source": [
    "5. Assign multiple values to multiple variables in one line. Show with an example.\n",
    "\n",
    "This is known as Multiple Assignment or Tuple Unpacking. It's the standard, concise way to assign different values to different variables in one go.\n",
    "\n",
    "Concept: The number of variables on the left must exactly match the number of values on the right. The assignment happens in order: the first value goes to the first variable, the second value to the second variable, and so on."
   ]
  },
  {
   "cell_type": "code",
   "execution_count": 13,
   "id": "d050df4d",
   "metadata": {},
   "outputs": [
    {
     "name": "stdout",
     "output_type": "stream",
     "text": [
      "name: mokta\n",
      "city: shimla\n",
      "age: 23\n"
     ]
    }
   ],
   "source": [
    "## Assign three different values to three different variables\n",
    "name,city,age=\"mokta\", \"shimla\",23\n",
    "print(f\"name: {name}\")\n",
    "print(f\"city: {city}\")\n",
    "print(f\"age: {age}\")\n",
    "## note: this is exactly we used for the elegant swap in question 3!"
   ]
  },
  {
   "cell_type": "markdown",
   "id": "dacf52c8",
   "metadata": {},
   "source": [
    "6. Explain the difference between = and == with examples.\n",
    "These are two completely different operators that look similar but serve distinct purposes:\n",
    "\n",
    "   1. Operator \"=\"\n",
    "\n",
    "    Operator Name: Assignment Operator\n",
    "\n",
    "    purpose: Used to assign a value to a variable.\n",
    "\n",
    "    2. Operator \"==\"\n",
    "\n",
    "    Operator Name: Equality Operator\n",
    "\n",
    "    purpose: Used to compare two values to see if they are equal (returns True or False).\n"
   ]
  },
  {
   "cell_type": "code",
   "execution_count": 15,
   "id": "dfd2a403",
   "metadata": {},
   "outputs": [
    {
     "name": "stdout",
     "output_type": "stream",
     "text": [
      "is my_value equal to 10? True\n",
      "is my_value equal to 5? False\n"
     ]
    }
   ],
   "source": [
    "## The Assignmnet Operator \n",
    "my_value=10 # assigning the value 10 to variable \"my_value\"\n",
    "## the equality operator\n",
    "is_equal=(my_value==10)\n",
    "## compares the my_value(which is 10) with 10 \n",
    "# since 10 is equal to 10, the result is true \n",
    "is_not_equal=(my_value==5)\n",
    "print(f\"is my_value equal to 10? {is_equal}\")\n",
    "print(f\"is my_value equal to 5? {is_not_equal}\")"
   ]
  },
  {
   "cell_type": "markdown",
   "id": "dbfdfc3a",
   "metadata": {},
   "source": [
    "7. Write a program to calculate the area of a rectangle using variables length and breadth.\n",
    "\n",
    "The formula for the area of a rectangle is\n",
    " \n",
    " Area=length×breadth.\n",
    " \n",
    " We'll use variables to store the inputs and the result, making the code readable and easy to update."
   ]
  },
  {
   "cell_type": "code",
   "execution_count": 16,
   "id": "5ae1adc6",
   "metadata": {},
   "outputs": [
    {
     "name": "stdout",
     "output_type": "stream",
     "text": [
      "length of rectangle:7.5 units\n",
      "breadth of rectangle:4.0 units\n",
      "area of rectangle:30.0 square units\n"
     ]
    }
   ],
   "source": [
    "#1. defines the variables for the rectangle's dimensions\n",
    "length=7.5\n",
    "breadth=4.0\n",
    "## calculate the area store results in the new variable\n",
    "area=length*breadth\n",
    "\n",
    "# the \"*\" symbol is the multiplication operator\n",
    "# print  the final result in a clear format\n",
    "print(f\"length of rectangle:{length} units\")\n",
    "print(f\"breadth of rectangle:{breadth} units\")\n",
    "print(f\"area of rectangle:{area} square units\")"
   ]
  },
  {
   "cell_type": "markdown",
   "id": "1bd48c85",
   "metadata": {},
   "source": [
    "8. Write a Python program to compute the average of three numbers stored in variables.\n",
    "\n",
    "The average (mean) is calculated as:\n",
    "\n",
    "Average=(Sum of numbers)/(Count of numbers).\n",
    " \n",
    "We'll use parentheses to ensure the sum is calculated before the division."
   ]
  },
  {
   "cell_type": "code",
   "execution_count": 17,
   "id": "480bec59",
   "metadata": {},
   "outputs": [
    {
     "name": "stdout",
     "output_type": "stream",
     "text": [
      "the numbers are : 85, 92,78\n",
      "the total sum: 255\n",
      "the average is: 85.0\n"
     ]
    }
   ],
   "source": [
    "## define the three numbers using descriptive variables\n",
    "num1=85\n",
    "num2=92\n",
    "num3=78\n",
    "# calculate the sum and store it \n",
    "total_sum=num1+num2+num3\n",
    "## calculate the average\n",
    "average=total_sum/3\n",
    "print(f\"the numbers are : {num1}, {num2},{num3}\")\n",
    "print(f\"the total sum: {total_sum}\")\n",
    "print(f\"the average is: {average}\")"
   ]
  },
  {
   "cell_type": "markdown",
   "id": "874c7e62",
   "metadata": {},
   "source": [
    "9. Create variables a=10 and b=5. Perform addition, subtraction, multiplication, division, modulus, and floor division."
   ]
  },
  {
   "cell_type": "code",
   "execution_count": 22,
   "id": "1c8e5cf5",
   "metadata": {},
   "outputs": [
    {
     "name": "stdout",
     "output_type": "stream",
     "text": [
      "Variables are a=10, b=5\n",
      "\n",
      "Addition(a+b):15\n",
      "subtraction(a-b):5\n",
      "multiplication(a*b): 50\n",
      "division(a/b): 2.0\n",
      "Modulus(a%b): 0\n",
      "floor division(a//b): 2\n"
     ]
    }
   ],
   "source": [
    "a = 10\n",
    "b = 5\n",
    "\n",
    "print(f\"Variables are a={a}, b={b}\\n\")\n",
    "\n",
    "# Addition \n",
    "print(f\"Addition(a+b):{a+b}\")\n",
    "\n",
    "#subtraction\n",
    "print(f\"subtraction(a-b):{a-b}\")\n",
    "\n",
    "#Multiplication\n",
    "print(f\"multiplication(a*b): {a*b}\")\n",
    "\n",
    "# division (standard)\n",
    "print(f\"division(a/b): {a/b}\") # rersult is 2.0 (floats)\n",
    "\n",
    "# Modulus(Reminder)\n",
    "## 10 divide by 5 is 2 with a reminder of 0 \n",
    "print(f\"Modulus(a%b): {a%b}\")\n",
    "\n",
    "# Floor division(Quotient,rounded down)\n",
    "# 10 divided by 5, whole number part is 2\n",
    "print(f\"floor division(a//b): {a//b}\")"
   ]
  },
  {
   "cell_type": "markdown",
   "id": "2b39d37b",
   "metadata": {},
   "source": [
    "10. What are constants? Explain examples in Python.\n",
    "Constants are variables whose values are not intended to change throughout the execution of the program.\n",
    "\n",
    "Concept: Python, unlike some other languages (like Java or C++), does not have true, built-in constants that are enforced by the language.\n",
    "\n",
    "Convention: In Python, constants are established by naming convention to signal to other programmers: use all capital letters (e.g., PI, MAX_USERS). This is a convention, not a rule, meaning you can still change the value, but you shouldn't."
   ]
  },
  {
   "cell_type": "code",
   "execution_count": 23,
   "id": "d4eb8363",
   "metadata": {},
   "outputs": [
    {
     "name": "stdout",
     "output_type": "stream",
     "text": [
      "Circumference of radius 5: 31.4159\n"
     ]
    }
   ],
   "source": [
    "# Standard constant defined by convention (ALL CAPS)\n",
    "PI = 3.14159\n",
    "\n",
    "# Another constant, perhaps for configuration\n",
    "MAX_CONNECTIONS = 100\n",
    "\n",
    "def calculate_circumference(radius):\n",
    "    # We use PI, expecting its value to remain 3.14159\n",
    "    return 2 * PI * radius\n",
    "\n",
    "# Calling the function\n",
    "circumference = calculate_circumference(5)\n",
    "print(f\"Circumference of radius 5: {circumference}\")\n",
    "\n",
    "# Although discouraged, Python allows you to change it:\n",
    "# PI = 3.0 # BAD PRACTICE!\n",
    "\n"
   ]
  },
  {
   "cell_type": "markdown",
   "id": "dfa64725",
   "metadata": {},
   "source": [
    "### 11. Define variable naming rules in Python with correct and incorrect examples.\n",
    "\n",
    "Python variable names must follow specific rules to be valid. Adhering to these rules (and the conventions) makes your code readable.\n",
    "\n",
    "#### 📝 Python Variable Naming Rules:\n",
    "\n",
    "1.  **Start Character:** Must start with a **letter** (`a-z, A-Z`) or an **underscore** (`_`).\n",
    "2.  **Allowed Characters:** Can only contain **alphanumeric characters** (letters, numbers) and **underscores** (`_`).\n",
    "3.  **Case Sensitivity:** Variable names are **case-sensitive** (`Age`, `age`, and `AGE` are three different variables).\n",
    "4.  **Reserved Words:** Cannot be any of Python's **reserved keywords** (like `for`, `if`, `while`, `print`, etc.).\n",
    "\n",
    "#### Correct Examples (Convention: `snake_case` is preferred for variables):\n",
    "\n",
    "| Variable Name | Reason |\n",
    "| :--- | :--- |\n",
    "| `user_name` | Starts with a letter, uses `snake_case`. |\n",
    "| `_temp` | Starts with an underscore (often for internal use). |\n",
    "| `data2025` | Contains letters and numbers. |\n",
    "\n",
    "#### Incorrect Examples:\n",
    "\n",
    "| Variable Name | Reason |\n",
    "| :--- | :--- |\n",
    "| `2nd_data` | **Starts with a number** (Rule 1 violation). |\n",
    "| `my-variable` | Contains a **hyphen** (`-`), which is not allowed (Rule 2 violation, the hyphen is used for subtraction). |\n",
    "| `for` | Is a **reserved keyword** (Rule 4 violation). |\n",
    "| `Total$` | Contains a **special character** (`$`) (Rule 2 violation). |\n",
    "\n",
    "***\n",
    "\n",
    "### 12. What is the difference between local and global variables? Demonstrate with code.\n",
    "\n",
    "Variables in Python have a **scope**, which determines where they can be accessed. The two primary scopes are **Global** and **Local**.\n",
    "\n",
    "| Type | Definition | Access | Lifetime |\n",
    "| :---: | :---: | :--- | :--- |\n",
    "| **Global** | Defined outside of any function. | Accessible from **anywhere** in the script, inside or outside functions. | Exists until the program terminates. |\n",
    "| **Local** | Defined inside a function. | Accessible **only within** the function where it is created. | Exists only while the function is executing. |\n",
    "\n",
    "\n"
   ]
  },
  {
   "cell_type": "code",
   "execution_count": 24,
   "id": "a988e15f",
   "metadata": {},
   "outputs": [
    {
     "name": "stdout",
     "output_type": "stream",
     "text": [
      "Inside function: I am a global variable. I can be seen everywhere.\n",
      "Inside function: Local number is 42\n",
      "\n",
      "--- Outside the function ---\n",
      "Outside function: I am a global variable. I can be seen everywhere.\n"
     ]
    }
   ],
   "source": [
    "# GLOBAL VARIABLE: Defined outside any function\n",
    "global_message = \"I am a global variable. I can be seen everywhere.\"\n",
    "\n",
    "def my_function():\n",
    "    # LOCAL VARIABLE: Defined inside the function\n",
    "    local_number = 42 \n",
    "    \n",
    "    # Accessing the global variable is fine\n",
    "    print(f\"Inside function: {global_message}\") \n",
    "    \n",
    "    # Accessing the local variable is also fine\n",
    "    print(f\"Inside function: Local number is {local_number}\")\n",
    "    \n",
    "# Call the function to see the local variable created and destroyed\n",
    "my_function()\n",
    "\n",
    "print(\"\\n--- Outside the function ---\")\n",
    "\n",
    "# Accessing the global variable is still fine\n",
    "print(f\"Outside function: {global_message}\")\n",
    "\n",
    "# Attempting to access the local variable will cause an error!\n",
    "# print(local_number) # <--- This line would cause a 'NameError'"
   ]
  },
  {
   "cell_type": "code",
   "execution_count": null,
   "id": "72be2d75",
   "metadata": {},
   "outputs": [],
   "source": []
  },
  {
   "cell_type": "code",
   "execution_count": null,
   "id": "3f1fb3db",
   "metadata": {},
   "outputs": [],
   "source": []
  }
 ],
 "metadata": {
  "kernelspec": {
   "display_name": "base",
   "language": "python",
   "name": "python3"
  },
  "language_info": {
   "codemirror_mode": {
    "name": "ipython",
    "version": 3
   },
   "file_extension": ".py",
   "mimetype": "text/x-python",
   "name": "python",
   "nbconvert_exporter": "python",
   "pygments_lexer": "ipython3",
   "version": "3.12.11"
  }
 },
 "nbformat": 4,
 "nbformat_minor": 5
}
