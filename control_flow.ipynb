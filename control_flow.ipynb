{
 "cells": [
  {
   "cell_type": "markdown",
   "id": "8599ce55",
   "metadata": {},
   "source": [
    "Control Flow Programming Exercises\n",
    "\n",
    "Control flow statements, such as if-else, elif (else if), for loops, and while loops, determine the order in which statements are executed in a program. These exercises focus primarily on conditional logic using if-else statements."
   ]
  },
  {
   "cell_type": "markdown",
   "id": "6ebf8c6b",
   "metadata": {},
   "source": [
    "1. Check if a Given Number is Positive or Negative\n",
    "\n",
    "Concept: This program uses an if-else statement to determine if a number is greater than zero (positive) or less than or equal to zero (negative or zero)."
   ]
  },
  {
   "cell_type": "code",
   "execution_count": 2,
   "id": "c3c000d0",
   "metadata": {},
   "outputs": [
    {
     "name": "stdout",
     "output_type": "stream",
     "text": [
      "the number 15 is: positive\n",
      "the number -8 is: negative or zero\n",
      "the number 0 is: negative or zero\n"
     ]
    }
   ],
   "source": [
    "## function to check the sign of a number\n",
    "def check_sign(number):\n",
    "    if number > 1:\n",
    "        return \"positive\"\n",
    "    else:\n",
    "        return \"negative or zero\"\n",
    "\n",
    "# examplem usage\n",
    "num1=15\n",
    "num2=-8\n",
    "num3=0\n",
    "print(f\"the number {num1} is: {check_sign(num1)}\") \n",
    "print(f\"the number {num2} is: {check_sign(num2)}\") \n",
    "print(f\"the number {num3} is: {check_sign(num3)}\")  "
   ]
  },
  {
   "cell_type": "markdown",
   "id": "77f0697f",
   "metadata": {},
   "source": [
    "Working (Control Flow):\n",
    "\n",
    "The function check_sign takes a number as input.\n",
    "\n",
    "The if condition (number > 0) is checked.\n",
    "\n",
    "If True, the program executes the if block and returns \"Positive\".\n",
    "\n",
    "If False, the program executes the else block and returns \"Negative or Zero\".\n",
    "\n",
    "Example: If number is 15: 15>0 is True. → Output: Positive."
   ]
  },
  {
   "cell_type": "code",
   "execution_count": null,
   "id": "3b4c66f3",
   "metadata": {},
   "outputs": [],
   "source": []
  },
  {
   "cell_type": "markdown",
   "id": "994f9ada",
   "metadata": {},
   "source": [
    "2. Determine if a Person is Eligible to Vote Based on Their Age\n",
    "\n",
    "Concept: Voting eligibility is typically based on a minimum age (e.g., 18). An if-else statement compares the input age with the required voting age."
   ]
  },
  {
   "cell_type": "code",
   "execution_count": 3,
   "id": "77d94887",
   "metadata": {},
   "outputs": [
    {
     "name": "stdout",
     "output_type": "stream",
     "text": [
      "Age 20 : Eligible to vote\n",
      "Age 16 : Not eligible to vote\n"
     ]
    }
   ],
   "source": [
    "voting_age= 18\n",
    "def check_voting_eligiblity(age):\n",
    "    if age >= voting_age:\n",
    "        return \"Eligible to vote\"\n",
    "    else:\n",
    "        return \"Not eligible to vote\"\n",
    "    \n",
    "# example usage\n",
    "age1=20\n",
    "age2=16\n",
    "\n",
    "print(f\"Age {age1} : {check_voting_eligiblity(age1)}\")\n",
    "print(f\"Age {age2} : {check_voting_eligiblity(age2)}\")\n"
   ]
  },
  {
   "cell_type": "code",
   "execution_count": null,
   "id": "1b914032",
   "metadata": {},
   "outputs": [],
   "source": []
  },
  {
   "cell_type": "markdown",
   "id": "b224a69d",
   "metadata": {},
   "source": [
    "Working (Control Flow):\n",
    "\n",
    "The function check_voting_eligibility takes the person's age.\n",
    "\n",
    "The if condition (age >= VOTING_AGE) is checked.\n",
    "\n",
    "If the age is 18 or more (True), the program executes the if block and returns \"Eligible to vote\".\n",
    "\n",
    "If the age is less than 18 (False), the program executes the else block and returns \"Not eligible to vote\".\n",
    "\n",
    "Example: If age is 16: 16≥18 is False. → Output: Not eligible to vote."
   ]
  },
  {
   "cell_type": "markdown",
   "id": "e3501245",
   "metadata": {},
   "source": [
    "3. Find the Maximum of Two Numbers Using if-else Statements\n",
    "\n",
    "Concept: This program uses a simple if-else block to compare two numbers and determine which one is larger (the maximum)."
   ]
  },
  {
   "cell_type": "code",
   "execution_count": 5,
   "id": "b4682e85",
   "metadata": {},
   "outputs": [
    {
     "name": "stdout",
     "output_type": "stream",
     "text": [
      "the maximum of 48 and 56 is: 56\n"
     ]
    }
   ],
   "source": [
    "def find_maximum(num_a,num_b):\n",
    "    if num_a > num_b:\n",
    "        return num_a\n",
    "    else:\n",
    "        return num_b\n",
    "\n",
    "# example\n",
    "a=48\n",
    "b=56\n",
    "max_val=find_maximum(a,b)\n",
    "print(f\"the maximum of {a} and {b} is: {max_val}\")"
   ]
  },
  {
   "cell_type": "markdown",
   "id": "a455f642",
   "metadata": {},
   "source": [
    "Working (Control Flow):\n",
    "\n",
    "The function find_maximum receives two numbers, num_a and num_b.\n",
    "\n",
    "The if condition (num_a > num_b) is checked.\n",
    "\n",
    "If True, num_a is the maximum, and the if block returns num_a.\n",
    "\n",
    "If False, num_b must be the maximum (or they are equal), and the else block returns num_b.\n",
    "\n",
    "Example: If a is 45 and b is 78: 45>78 is False. → The else block executes. → Output: 78."
   ]
  },
  {
   "cell_type": "code",
   "execution_count": null,
   "id": "d82ca585",
   "metadata": {},
   "outputs": [],
   "source": []
  },
  {
   "cell_type": "markdown",
   "id": "575f9afa",
   "metadata": {},
   "source": [
    "4. Classify a Given Year as a Leap Year or Not\n",
    "Concept: A year is a leap year if it is divisible by 4, unless it is divisible by 100 but not by 400. This requires nested or chained if-elif-else logic."
   ]
  },
  {
   "cell_type": "code",
   "execution_count": 6,
   "id": "e02a5984",
   "metadata": {},
   "outputs": [],
   "source": [
    "# what is leap year?\n",
    "leap_year= \"\"\"\n",
    "a year is called leap year if it has 366 days\n",
    "instead of 365.\n",
    "februry has 29 days in a leap year\n",
    "\"\"\"\n",
    "# a year is considered as leap year if: \n",
    "# it is divisible by 4\n",
    "#BUT if it is divisible by 100, then it must be divisible by 400"
   ]
  },
  {
   "cell_type": "code",
   "execution_count": 12,
   "id": "e337b4ea",
   "metadata": {},
   "outputs": [
    {
     "name": "stdout",
     "output_type": "stream",
     "text": [
      "is 2000 leap year: True\n",
      "is 1900 leap year: False\n",
      "is 2024 leap year: True\n"
     ]
    }
   ],
   "source": [
    "def is_leap_year(year):\n",
    "    # rule 1: divisible by 400\n",
    "    if year % 400==0:\n",
    "        return True\n",
    "    # rule 2: divisible by 100 but NOT 400(e.g, 1900, 2008)--> NOT a leap year\n",
    "    elif year % 100==0:\n",
    "        return False\n",
    "    # rule 3: divisible by 400 but NOT by 100\n",
    "    elif year % 400:\n",
    "        return True\n",
    "    else:\n",
    "        return False\n",
    "    \n",
    "# example \n",
    "year1=2000 # divisible by 400-> leap\n",
    "year2=1900 #divisible by 100, not 400--> not leap\n",
    "year3=2024 # divisible by 4, not 100-> leap\n",
    "print(f\"is {year1} leap year: {is_leap_year(year1)}\")\n",
    "print(f\"is {year2} leap year: {is_leap_year(year2)}\")\n",
    "print(f\"is {year3} leap year: {is_leap_year(year3)}\")\n",
    "    \n"
   ]
  },
  {
   "cell_type": "markdown",
   "id": "d53c5d9b",
   "metadata": {},
   "source": [
    "Working (Control Flow):\n",
    "\n",
    "The function checks the conditions in order:\n",
    "\n",
    "if (year % 400 == 0): If True, it's a leap year, and the check stops.\n",
    "\n",
    "elif (year % 100 == 0): This is only reached if Rule 1 was False. If True (and Rule 1 was False), it's NOT a leap year, and the check stops.\n",
    "\n",
    "elif (year % 4 == 0): This is only reached if Rules 1 and 2 were False. If True, it IS a leap year, and the check stops.\n",
    "\n",
    "else: If none of the above are True, it is NOT a leap year.\n",
    "\n",
    "Example: If year is 1900:\n",
    "\n",
    "1900%400==0? False\n",
    "\n",
    "1900%100==0? True. → elif block executes. → Output: False."
   ]
  },
  {
   "cell_type": "code",
   "execution_count": null,
   "id": "864b30b1",
   "metadata": {},
   "outputs": [],
   "source": []
  },
  {
   "cell_type": "markdown",
   "id": "d75c051a",
   "metadata": {},
   "source": [
    "5. Check Whether a Character is a Vowel or a Consonant\n",
    "\n",
    "Concept: A character is a vowel if it is one of 'a', 'e', 'i', 'o', 'u' (case-insensitive). All other letters are consonants. This uses an if-else with multiple conditions (or a list/set check)."
   ]
  },
  {
   "cell_type": "code",
   "execution_count": 14,
   "id": "adee928f",
   "metadata": {},
   "outputs": [
    {
     "name": "stdout",
     "output_type": "stream",
     "text": [
      " 'A' is a: vowel\n",
      " 'k' is a: consonant\n",
      " '9' is a: not an aphabet character\n"
     ]
    }
   ],
   "source": [
    "def check_vowel_consonant(char):\n",
    "    char_lower=char.lower()\n",
    "    # check if the character is an alphabet letter\n",
    "    if 'a'<= char_lower <= 'z':\n",
    "        if char_lower in ['a','e','i','o','u']:\n",
    "            return \"vowel\"\n",
    "        else:\n",
    "            return \"consonant\"\n",
    "    else:\n",
    "        return \"not an aphabet character\"\n",
    "    \n",
    "#example\n",
    "char1='A'\n",
    "char2='k'\n",
    "char3='9'\n",
    "print(f\" '{char1}' is a: {check_vowel_consonant(char1)}\")\n",
    "print(f\" '{char2}' is a: {check_vowel_consonant(char2)}\")\n",
    "print(f\" '{char3}' is a: {check_vowel_consonant(char3)}\")\n"
   ]
  },
  {
   "cell_type": "markdown",
   "id": "97119034",
   "metadata": {},
   "source": [
    "Working (Control Flow):\n",
    "\n",
    "The input character is converted to lowercase.\n",
    "\n",
    "The outer if checks if it's a letter ('a' through 'z'). If not, the outer else is executed.\n",
    "\n",
    "If it is a letter, the inner if checks if the lowercase character is present in the list of vowels.\n",
    "\n",
    "If the inner if is True, it returns \"Vowel\".\n",
    "\n",
    "If the inner if is False, the inner else executes, returning \"Consonant\".\n",
    "\n",
    "Example: If char is 'k':\n",
    "\n",
    "char_lower is 'k'.\n",
    "\n",
    "'k' is a letter (True).\n",
    "\n",
    "Is 'k' in ['a', 'e', 'i', 'o', 'u']? False. → Inner else executes. → Output: Consonant."
   ]
  },
  {
   "cell_type": "code",
   "execution_count": null,
   "id": "debecde9",
   "metadata": {},
   "outputs": [],
   "source": []
  },
  {
   "cell_type": "code",
   "execution_count": null,
   "id": "de5626fa",
   "metadata": {},
   "outputs": [],
   "source": []
  },
  {
   "cell_type": "markdown",
   "id": "74b6f028",
   "metadata": {},
   "source": [
    "6. Implement a Program to Determine Whether a Given Number is Even or Odd\n",
    "\n",
    "\n",
    "Concept: An integer is even if it is perfectly divisible by 2 (remainder is 0); otherwise, it is odd. This uses the modulo operator (%) and an if-else statement."
   ]
  },
  {
   "cell_type": "code",
   "execution_count": 15,
   "id": "372abc56",
   "metadata": {},
   "outputs": [
    {
     "name": "stdout",
     "output_type": "stream",
     "text": [
      "the number 34 is : Even\n",
      "the number 17 is : Odd\n"
     ]
    }
   ],
   "source": [
    "def check_even_odd(number):\n",
    "    if number % 2 == 0:\n",
    "        return \"Even\"\n",
    "    else:\n",
    "        return \"Odd\"\n",
    "    \n",
    "# example usage \n",
    "num1=34\n",
    "num2=17\n",
    "print(f\"the number {num1} is : {check_even_odd(num1)}\")\n",
    "print(f\"the number {num2} is : {check_even_odd(num2)}\")\n"
   ]
  },
  {
   "cell_type": "code",
   "execution_count": null,
   "id": "b740b510",
   "metadata": {},
   "outputs": [],
   "source": []
  },
  {
   "cell_type": "markdown",
   "id": "916878ff",
   "metadata": {},
   "source": [
    "Working (Control Flow):\n",
    "\n",
    "The function check_even_odd takes a number.\n",
    "\n",
    "The if condition (number % 2 == 0) calculates the remainder when the number is divided by 2.\n",
    "\n",
    "If the remainder is 0 (True), the number is even, and the if block executes.\n",
    "\n",
    "If the remainder is 1 (False), the number is odd, and the else block executes.\n",
    "\n",
    "Example: If number is 17: 17%2 is 1. 1==0 is False. → else block executes. → Output: Odd."
   ]
  },
  {
   "cell_type": "code",
   "execution_count": null,
   "id": "840508c6",
   "metadata": {},
   "outputs": [],
   "source": []
  },
  {
   "cell_type": "markdown",
   "id": "a89c6873",
   "metadata": {},
   "source": [
    "7. Write a Python Function to Calculate the Absolute Value of a Number Without Using the abs() Function\n",
    "\n",
    "Concept: The absolute value of a number is its distance from zero, always a non-negative value. For a positive number or zero, it is the number itself. For a negative number, it is the number multiplied by −1."
   ]
  },
  {
   "cell_type": "code",
   "execution_count": 16,
   "id": "49a4feb7",
   "metadata": {},
   "outputs": [
    {
     "name": "stdout",
     "output_type": "stream",
     "text": [
      "the absolute value of 42 is: 42\n",
      "the absolute value of -12 is: 12\n"
     ]
    }
   ],
   "source": [
    "def calculate_absolute_value(number):\n",
    "    if number >= 0:\n",
    "        return number\n",
    "    else:\n",
    "        # for negative number multiply by -1\n",
    "        return -number\n",
    "    \n",
    "# example usage\n",
    "num1=42\n",
    "num2=-12\n",
    "\n",
    "print(f\"the absolute value of {num1} is: {calculate_absolute_value(num1)}\")\n",
    "print(f\"the absolute value of {num2} is: {calculate_absolute_value(num2)}\")\n",
    "\n"
   ]
  },
  {
   "cell_type": "markdown",
   "id": "8d68f6c6",
   "metadata": {},
   "source": [
    "Working (Control Flow):\n",
    "\n",
    "The function calculate_absolute_value takes a number.\n",
    "\n",
    "The if condition (number >= 0) checks if the number is non-negative.\n",
    "\n",
    "If True, the number is returned as is.\n",
    "\n",
    "If False (the number is negative), the else block executes, returning the negative of the number (e.g., −(−12)=12).\n",
    "\n",
    "Example: If number is -12: −12≥0 is False. → else block executes. → Output: −(−12) which is 12."
   ]
  },
  {
   "cell_type": "code",
   "execution_count": null,
   "id": "a2c717d7",
   "metadata": {},
   "outputs": [],
   "source": []
  },
  {
   "cell_type": "markdown",
   "id": "675bab5a",
   "metadata": {},
   "source": [
    "8. Develop a Program that Determines the Largest of Three Given Numbers Using if-else Statements\n",
    "Concept: To find the largest of three numbers (a,b,c), we can use nested or chained if-elif-else statements to compare them."
   ]
  },
  {
   "cell_type": "code",
   "execution_count": 20,
   "id": "72159a91",
   "metadata": {},
   "outputs": [
    {
     "name": "stdout",
     "output_type": "stream",
     "text": [
      " the largest of 10, 50, 30 is: 50\n"
     ]
    }
   ],
   "source": [
    "def find_largest_of_three(a,b,c):\n",
    "    if a >= b and a >= c:\n",
    "        return a\n",
    "    elif b >= a and b >= c:\n",
    "        return b\n",
    "    else:\n",
    "        return c\n",
    "    \n",
    "# example usage \n",
    "n1=10\n",
    "n2=50\n",
    "n3=30\n",
    "largest=find_largest_of_three(n1,n2,n3)\n",
    "print(f\" the largest of {n1}, {n2}, {n3} is: {largest}\")\n",
    "\n",
    "    \n"
   ]
  },
  {
   "cell_type": "markdown",
   "id": "d20a8e1d",
   "metadata": {},
   "source": [
    "Working (Control Flow):\n",
    "\n",
    "The if condition checks if a is greater than or equal to both b AND c. If True, a is returned.\n",
    "\n",
    "If the first if is False, the elif condition checks if b is greater than or equal to both a AND c. If True, b is returned.\n",
    "\n",
    "If both the if and elif are False, it means c is the largest, so the else block executes and returns c.\n",
    "\n",
    "Example: If a=10,b=50,c=30:\n",
    "\n",
    "10≥50 and 10≥30? False.\n",
    "\n",
    "50≥10 and 50≥30? True. → elif block executes. → Output: 50."
   ]
  },
  {
   "cell_type": "code",
   "execution_count": null,
   "id": "4046ecf7",
   "metadata": {},
   "outputs": [],
   "source": []
  },
  {
   "cell_type": "markdown",
   "id": "08152906",
   "metadata": {},
   "source": [
    "9. Create a Program that Checks if a Given String is a Palindrome\n",
    "Concept: A palindrome is a sequence (like a word or phrase) that reads the same forwards and backward (e.g., \"madam,\" \"level\"). The check involves comparing the original string with its reversed version."
   ]
  },
  {
   "cell_type": "code",
   "execution_count": 1,
   "id": "36560330",
   "metadata": {},
   "outputs": [
    {
     "name": "stdout",
     "output_type": "stream",
     "text": [
      " 'level' is a pallindrome: True\n",
      "'python' is a pallindrome: False\n"
     ]
    }
   ],
   "source": [
    "def is_pallindrome(text):\n",
    "    # optinal: remove spaces and convert to lowercase for broader defination\n",
    "    #cleaned_text= ''.join(filter(str.isnul,text)).lower()\n",
    "\n",
    "    #compare the string to its reverse\n",
    "    reversed_text=text[::-1]\n",
    "    if text==reversed_text:\n",
    "        return True\n",
    "    else:\n",
    "        return False\n",
    "str1=\"level\"\n",
    "str2=\"python\"\n",
    "\n",
    "print(f\" '{str1}' is a pallindrome: {is_pallindrome(str1)}\")\n",
    "print(f\"'{str2}' is a pallindrome: {is_pallindrome(str2)}\")"
   ]
  },
  {
   "cell_type": "markdown",
   "id": "8e0bd875",
   "metadata": {},
   "source": [
    "Working (Control Flow):\n",
    "\n",
    "The function is_palindrome takes a string, text.\n",
    "\n",
    "It creates reversed_text using Python's slice notation ([::-1]).\n",
    "\n",
    "The if statement compares the original text with reversed_text.\n",
    "\n",
    "If they are equal (True), the string is a palindrome.\n",
    "\n",
    "If they are not equal (False), the else block executes, indicating it is not a palindrome.\n",
    "\n",
    "Example: If text is \"level\":\n",
    "\n",
    "reversed_text is \"level\".\n",
    "\n",
    "\"level\" == \"level\" is True. → Output: True."
   ]
  },
  {
   "cell_type": "code",
   "execution_count": null,
   "id": "56cc54f1",
   "metadata": {},
   "outputs": [],
   "source": []
  },
  {
   "cell_type": "markdown",
   "id": "036e7882",
   "metadata": {},
   "source": [
    "10. Write a Python Program to Calculate the Grade Based on a Student's Score\n",
    "\n",
    "Concept: Grading often involves a series of thresholds. This requires using if-elif-else statements to check the score against descending grade cutoffs."
   ]
  },
  {
   "cell_type": "code",
   "execution_count": 4,
   "id": "d3b478d7",
   "metadata": {},
   "outputs": [
    {
     "name": "stdout",
     "output_type": "stream",
     "text": [
      " score 85 result in grade: B\n",
      " score 55 result in grade: F\n"
     ]
    }
   ],
   "source": [
    "def calculate_grade(score):\n",
    "    if score >= 90:\n",
    "        return \"A\"\n",
    "    elif score >= 80:\n",
    "        return \"B\"\n",
    "    elif score >= 70:\n",
    "        return \"C\"\n",
    "    elif score >= 60:\n",
    "        return \"D\"\n",
    "    else:\n",
    "        return \"F\"\n",
    "#example Usage\n",
    "score1=85\n",
    "score2=55\n",
    "print(f\" score {score1} result in grade: {calculate_grade(score1)}\")\n",
    "print(f\" score {score2} result in grade: {calculate_grade(score2)}\")\n"
   ]
  },
  {
   "cell_type": "markdown",
   "id": "62237efb",
   "metadata": {},
   "source": [
    "Working (Control Flow):\n",
    "\n",
    "The function checks the conditions sequentially:\n",
    "\n",
    "if score >= 90: If True, returns \"A\" and stops.\n",
    "\n",
    "elif score >= 80: Only checked if the score was less than 90. If True, returns \"B\" and stops.\n",
    "\n",
    "This pattern continues. Because the checks are sequential, if a score of 85 passes the second elif, we already know it failed the first if (i.e., it's 80≤score<90).\n",
    "\n",
    "else: If all conditions fail, the score is below 60, and \"F\" is returned.\n",
    "\n",
    "Example: If score is 85:\n",
    "\n",
    "85≥90? False.\n",
    "\n",
    "85≥80? True. → elif block executes. → Output: B."
   ]
  },
  {
   "cell_type": "code",
   "execution_count": null,
   "id": "695f95f7",
   "metadata": {},
   "outputs": [],
   "source": []
  },
  {
   "cell_type": "markdown",
   "id": "c6bb7590",
   "metadata": {},
   "source": [
    "11. Write a Program to Find the Largest Among Three Numbers Using Nested if-else Statements\n",
    "\n",
    "Concept: This is similar to question 8, but specifically uses nested if-else blocks to find the largest number through successive comparisons."
   ]
  },
  {
   "cell_type": "code",
   "execution_count": 5,
   "id": "4d89377b",
   "metadata": {},
   "outputs": [
    {
     "name": "stdout",
     "output_type": "stream",
     "text": [
      "the largest of 65, 40 and 80 (nested) is: 80\n"
     ]
    }
   ],
   "source": [
    "def find_largest_nested(a,b,c):\n",
    "    if a >= b:\n",
    "        if a >= c:\n",
    "            return a # a is largest\n",
    "        else:\n",
    "            return c\n",
    "    else:\n",
    "        if b >= c:\n",
    "            return b\n",
    "        else:\n",
    "            return c\n",
    "# example usage\n",
    "n1=65\n",
    "n2=40\n",
    "n3=80\n",
    "largest=find_largest_nested(n1,n2,n3)\n",
    "print(f\"the largest of {n1}, {n2} and {n3} (nested) is: {largest}\")"
   ]
  },
  {
   "cell_type": "markdown",
   "id": "50d341cd",
   "metadata": {},
   "source": [
    "Working (Control Flow):\n",
    "\n",
    "Outer if (a >= b):\n",
    "\n",
    "If True: a is greater than or equal to b.\n",
    "\n",
    "Inner if (a >= c): If True, a is the largest.\n",
    "\n",
    "Inner else: If False, c is the largest (since c>a≥b).\n",
    "\n",
    "If False (else): b is strictly greater than a (b>a).\n",
    "\n",
    "Inner if (b >= c): If True, b is the largest (since b>a and b≥c).\n",
    "\n",
    "Inner else: If False, c is the largest (since c>b>a).\n",
    "\n",
    "Example: If a=65,b=40,c=80:\n",
    "\n",
    "65≥40? True. (Enters Outer if)\n",
    "\n",
    "65≥80? False. (Enters Inner else) → Output: 80.\n"
   ]
  },
  {
   "cell_type": "code",
   "execution_count": null,
   "id": "768aff74",
   "metadata": {},
   "outputs": [],
   "source": []
  },
  {
   "cell_type": "markdown",
   "id": "c444d679",
   "metadata": {},
   "source": [
    "12. Implement a Program to Determine if a Triangle is Equilateral, Isosceles, or Scalene\n",
    "Concept: A triangle is classified based on the length of its three sides (s \n",
    "1\n",
    "​\n",
    " ,s \n",
    "2\n",
    "​\n",
    " ,s \n",
    "3\n",
    "​\n",
    " ):\n",
    "\n",
    "Equilateral: All three sides are equal (s \n",
    "1\n",
    "​\n",
    " =s \n",
    "2\n",
    "​\n",
    " =s \n",
    "3\n",
    "​\n",
    " ).\n",
    "\n",
    "Isosceles: Exactly two sides are equal.\n",
    "\n",
    "Scalene: No sides are equal."
   ]
  },
  {
   "cell_type": "code",
   "execution_count": 7,
   "id": "112d187e",
   "metadata": {},
   "outputs": [
    {
     "name": "stdout",
     "output_type": "stream",
     "text": [
      "Triangle (5,5,5) is equilateral\n",
      "triangle (5,5,7) is Isosceles\n",
      "triangle (3,4,5) is scalene\n"
     ]
    }
   ],
   "source": [
    "def classify_triangle(s1,s2,s3):\n",
    "    # check for the valid triangle(sum of any two sides > third side)\n",
    "    if not(s1+s2 > s3 and s1+s3 > s2 and s2+s3 >s1):\n",
    "        return \"Invalid triangle\"\n",
    "    if s1==s2 and s2==s3:\n",
    "        return \"equilateral\"\n",
    "    elif s1==s2 or s1==s3 or s2==s3:\n",
    "        return \"Isosceles\"\n",
    "    else:\n",
    "        return \"scalene\"\n",
    "    \n",
    "#example usage\n",
    "t1=classify_triangle(5,5,5)\n",
    "t2=classify_triangle(5,5,7)\n",
    "t3=classify_triangle(3,4,5)\n",
    "\n",
    "print(f\"Triangle (5,5,5) is {t1}\")\n",
    "print(f\"triangle (5,5,7) is {t2}\")\n",
    "print(f\"triangle (3,4,5) is {t3}\")\n"
   ]
  },
  {
   "cell_type": "markdown",
   "id": "bcab5459",
   "metadata": {},
   "source": [
    "Working (Control Flow):\n",
    "\n",
    "An initial check ensures the sides can form a valid triangle.\n",
    "\n",
    "if (s1 == s2 and s2 == s3): If all sides are equal, it's Equilateral.\n",
    "\n",
    "elif (s1 == s2 or s1 == s3 or s2 == s3): If the first condition was False, this checks if any two sides are equal. If True, it's Isosceles.\n",
    "\n",
    "else: If neither of the above conditions were met, it means no sides are equal, so it's Scalene.\n",
    "\n",
    "Example: If sides are (5, 5, 7):\n",
    "\n",
    "5=5 and 5=7? False.\n",
    "\n",
    "5=5 or 5=7 or 5=7? True (since 5=5). → elif block executes. → Output: Isosceles."
   ]
  },
  {
   "cell_type": "code",
   "execution_count": null,
   "id": "9d47c5e4",
   "metadata": {},
   "outputs": [],
   "source": []
  },
  {
   "cell_type": "markdown",
   "id": "add8df3f",
   "metadata": {},
   "source": [
    "13. Develop a Program that Checks if a Year is a Leap Year and also if it is a Century Year\n",
    "\n",
    "Concept: A century year is any year divisible by 100 (e.g., 1900, 2000). This program combines the leap year logic (from Q4) with a check for divisibility by 100."
   ]
  },
  {
   "cell_type": "code",
   "execution_count": 8,
   "id": "67f8d561",
   "metadata": {},
   "outputs": [
    {
     "name": "stdout",
     "output_type": "stream",
     "text": [
      " 2000 is a leap centuary year (divisible by 400)\n",
      "1900 is a non-leap cetuary year (divisible by 100 but not 400)\n",
      " 2024 is a Non-centuary  leap year (divisible by 4 not 100)\n",
      "2023 is a regular year\n"
     ]
    }
   ],
   "source": [
    "def check_year_type(year):\n",
    "    # a centuary year is any year which is divisible by 100\n",
    "    is_century= (year%100==0)\n",
    "    #leap year logic\n",
    "    is_leap=(year%400==0) or (year % 4 ==0 and year % 100 != 0)\n",
    "    # combine check\n",
    "    if is_leap and is_century:\n",
    "        return f\" {year} is a leap centuary year (divisible by 400)\"\n",
    "    elif not is_leap and is_century:\n",
    "        return f\"{year} is a non-leap cetuary year (divisible by 100 but not 400)\"\n",
    "    elif is_leap and not is_century:\n",
    "        return f\" {year} is a Non-centuary  leap year (divisible by 4 not 100)\"\n",
    "    else:\n",
    "        return f\"{year} is a regular year\"\n",
    "\n",
    "#example usage \n",
    "y1=2000 # leap centuary\n",
    "y2=1900 # non-leap centuary\n",
    "y3=2024 # non centuary leap\n",
    "y4=2023 #regular\n",
    "\n",
    "print(check_year_type(y1))\n",
    "print(check_year_type(y2))\n",
    "print(check_year_type(y3))\n",
    "print(check_year_type(y4))\n"
   ]
  },
  {
   "cell_type": "markdown",
   "id": "6ef55eac",
   "metadata": {},
   "source": [
    "Working (Control Flow):\n",
    "\n",
    "It first determines the boolean states for is_century and is_leap (using the definition of a leap year).\n",
    "\n",
    "The if-elif-else checks the four possible combinations of these two boolean flags.\n",
    "\n",
    "Example: If year is 1900:\n",
    "\n",
    "is_century is True (1900%100=0).\n",
    "\n",
    "is_leap is False (since 1900%400\n",
    "\n",
    "=0).\n",
    "\n",
    "The second elif (not is_leap and is_century) is True. → Output: Non-Leap Century Year."
   ]
  },
  {
   "cell_type": "code",
   "execution_count": null,
   "id": "e7777ee2",
   "metadata": {},
   "outputs": [],
   "source": []
  },
  {
   "cell_type": "markdown",
   "id": "2026c101",
   "metadata": {},
   "source": [
    "14. Write a Python Script to Determine if a Number is Positive, Negative, or Zero\n",
    "\n",
    "Concept: This extends question 1 by explicitly checking for zero using an if-elif-else chain."
   ]
  },
  {
   "cell_type": "code",
   "execution_count": 2,
   "id": "cd244a82",
   "metadata": {},
   "outputs": [
    {
     "name": "stdout",
     "output_type": "stream",
     "text": [
      "5 is: positive\n",
      "-5 is: Negative\n",
      "0 is: Zero\n"
     ]
    }
   ],
   "source": [
    "def check_sign_detailed(number):\n",
    "    if number > 0:\n",
    "        return \"positive\"\n",
    "    elif number < 0:\n",
    "        return \"Negative\"\n",
    "    else:\n",
    "        # if not > 0 and not < 0, it must be zero\n",
    "        return \"Zero\"\n",
    "    \n",
    "#example Usage\n",
    "num1=5\n",
    "num2=-5\n",
    "num3=0\n",
    "\n",
    "print(f\"{num1} is: {check_sign_detailed(num1)}\")\n",
    "print(f\"{num2} is: {check_sign_detailed(num2)}\")\n",
    "print(f\"{num3} is: {check_sign_detailed(num3)}\")\n"
   ]
  },
  {
   "cell_type": "markdown",
   "id": "a7a09d45",
   "metadata": {},
   "source": [
    "Working (Control Flow):\n",
    "\n",
    "if number > 0: If True, returns \"Positive\".\n",
    "\n",
    "elif number < 0: Only checked if the number is not positive. If True, returns \"Negative\".\n",
    "\n",
    "else: If it's neither positive nor negative, it must be zero, so it returns \"Zero\".\n",
    "\n",
    "Example: If number is 0:\n",
    "\n",
    "0>0? False.\n",
    "\n",
    "0<0? False. → else block executes. → Output: Zero."
   ]
  },
  {
   "cell_type": "code",
   "execution_count": null,
   "id": "d3b0eab7",
   "metadata": {},
   "outputs": [],
   "source": []
  },
  {
   "cell_type": "markdown",
   "id": "65b7575b",
   "metadata": {},
   "source": [
    "15. Create a Program to Check if a Person is a Teenager (Between 13 and 19 Years Old)\n",
    "Concept: A teenager falls within a specific age range (inclusive of 13 and 19). This uses an if-else statement with a logical AND operator."
   ]
  },
  {
   "cell_type": "code",
   "execution_count": 5,
   "id": "17bd35c9",
   "metadata": {},
   "outputs": [
    {
     "name": "stdout",
     "output_type": "stream",
     "text": [
      "person with 15 is: Teenager\n",
      "person with 12 is: Not a Teenager\n",
      "person with 12 is: Not a Teenager\n"
     ]
    }
   ],
   "source": [
    "def is_teenager(age):\n",
    "    if age >= 13 and age <= 19:\n",
    "        return \"Teenager\"\n",
    "    else:\n",
    "        return \"Not a Teenager\"\n",
    "#example usage\n",
    "age1=15\n",
    "age2=12\n",
    "age3=20\n",
    "\n",
    "print(f\"person with {age1} is: {is_teenager(age1)}\")\n",
    "print(f\"person with {age2} is: {is_teenager(age2)}\")\n",
    "print(f\"person with {age2} is: {is_teenager(age2)}\")\n",
    "\n"
   ]
  },
  {
   "cell_type": "markdown",
   "id": "5a275460",
   "metadata": {},
   "source": [
    "Working (Control Flow):\n",
    "\n",
    "The if condition uses the and operator to ensure both conditions are met: the age must be greater than or equal to 13 AND less than or equal to 19.\n",
    "\n",
    "If True, the person is a teenager.\n",
    "\n",
    "If False, the else block executes, meaning the person is not a teenager.\n",
    "\n",
    "Example: If age is 12:\n",
    "\n",
    "12≥13? False.\n",
    "\n",
    "Since the first part of the and is False, the whole condition is False. → else block executes. → Output: Not a Teenager."
   ]
  },
  {
   "cell_type": "code",
   "execution_count": null,
   "id": "5cdcb200",
   "metadata": {},
   "outputs": [],
   "source": []
  },
  {
   "cell_type": "markdown",
   "id": "218c0f83",
   "metadata": {},
   "source": [
    "6. Develop a Program that Determines the Type of Angle Based on Its Measure (Acute, Obtuse, or Right)\n",
    "Concept: Angles are classified based on their measure θ:\n",
    "\n",
    "Acute: 0 \n",
    "∘\n",
    " <θ<90 \n",
    "∘\n",
    " \n",
    "\n",
    "Right: θ=90 \n",
    "∘\n",
    " \n",
    "\n",
    "Obtuse: 90 \n",
    "∘\n",
    " <θ<180"
   ]
  },
  {
   "cell_type": "code",
   "execution_count": 6,
   "id": "8c7213b3",
   "metadata": {},
   "outputs": [
    {
     "name": "stdout",
     "output_type": "stream",
     "text": [
      "Angle 45 is: Acute Angle\n",
      "Angle 90 is: Right Angle\n",
      "Angle 90 is: Right Angle\n"
     ]
    }
   ],
   "source": [
    "def determine_type_angle(angle):\n",
    "    if angle <= 0 or angle >= 180:\n",
    "        return \"Invalid angle (mus be 0 < angle < 180)\"\n",
    "    elif angle < 90:\n",
    "        return \"Acute Angle\"\n",
    "    elif angle == 90:\n",
    "        return \"Right Angle\"\n",
    "    else:\n",
    "        return \"Obtuse Angle\"\n",
    "    \n",
    "# eaxmple usage\n",
    "a1=45\n",
    "a2=90\n",
    "a3=120\n",
    "\n",
    "print(f\"Angle {a1} is: {determine_type_angle(a1)}\")\n",
    "print(f\"Angle {a2} is: {determine_type_angle(a2)}\")\n",
    "print(f\"Angle {a2} is: {determine_type_angle(a2)}\")"
   ]
  },
  {
   "cell_type": "markdown",
   "id": "9a22973f",
   "metadata": {},
   "source": [
    "Working (Control Flow):\n",
    "\n",
    "Initial if checks for angle validity.\n",
    "\n",
    "elif angle < 90: If True, it's Acute.\n",
    "\n",
    "elif angle == 90: If True, it's a Right angle.\n",
    "\n",
    "else: If it passed the validity check and is not <90 or =90, it must be >90 (i.e., Obtuse).\n",
    "\n",
    "Example: If angle is 120:\n",
    "\n",
    "Validity check passes.\n",
    "\n",
    "120<90? False.\n",
    "\n",
    "120==90? False. → else block executes. → Output: Obtuse Angle."
   ]
  },
  {
   "cell_type": "code",
   "execution_count": null,
   "id": "430f7f25",
   "metadata": {},
   "outputs": [],
   "source": []
  },
  {
   "cell_type": "markdown",
   "id": "6107b5fe",
   "metadata": {},
   "source": [
    "17. Write a Python Program to Calculate the Roots of a Quadratic EquationConcept: The roots of a quadratic equation ($ax^2 + bx + c = 0$) are found using the quadratic formula:$$x = \\frac{-b \\pm \\sqrt{b^2 - 4ac}}{2a}$$The discriminant, $\\Delta = b^2 - 4ac$, determines the nature of the roots:$\\Delta > 0$: Two distinct real roots.$\\Delta = 0$: One real root (two equal roots).$\\Delta < 0$: Two complex roots."
   ]
  },
  {
   "cell_type": "code",
   "execution_count": 8,
   "id": "aef6b9c4",
   "metadata": {},
   "outputs": [
    {
     "name": "stdout",
     "output_type": "stream",
     "text": [
      " Two distincts real roots: x1 = -2.000000, x2 = -3.000000\n",
      "one real root: x = -1.000000\n",
      "Two complex roots: x1 = (-0.5+0.8660254037844386j), x2 = (-0.5-0.8660254037844386j)\n"
     ]
    }
   ],
   "source": [
    "import cmath # used for complex numbers\n",
    "\n",
    "def calculate_quadratic_roots(a,b,c):\n",
    "    #claculate discrement\n",
    "    delta=(b**2) - 4*a*c\n",
    "\n",
    "    if delta > 0:\n",
    "        # two dstincts real roots\n",
    "        root1= (-b + delta**0.5)/(2*a)\n",
    "        root2= (-b - delta**0.5)/(2*a)\n",
    "        return f\" Two distincts real roots: x1 = {root1:2f}, x2 = {root2:2f}\"\n",
    "    elif delta == 0:\n",
    "        # one real root\n",
    "        root = -b/(2*a)\n",
    "        return f\"one real root: x = {root:2f}\"\n",
    "    else:\n",
    "        # Two complex roots (using cmath for square root of negative number)\n",
    "        root1 = (-b + cmath.sqrt(delta)) / (2 * a)\n",
    "        root2 = (-b - cmath.sqrt(delta)) / (2 * a)\n",
    "        return f\"Two complex roots: x1 = {root1}, x2 = {root2}\"\n",
    "# Example Usage\n",
    "#x^2 + 5x + 6 = 0  (a=1, b=5, c=6; delta=25-24=1)\n",
    "r1 = calculate_quadratic_roots(1, 5, 6)\n",
    "\n",
    "# x^2 + 2x + 1 = 0 (a=1, b=2, c=1; delta=4-4=0)\n",
    "r2 = calculate_quadratic_roots(1, 2, 1) \n",
    "\n",
    "# x^2 + x + 1 = 0 (a=1, b=1, c=1; delta=1-4=-3)\n",
    "r3 = calculate_quadratic_roots(1, 1, 1)\n",
    "\n",
    "print(r1)\n",
    "print(r2)\n",
    "print(r3)"
   ]
  },
  {
   "cell_type": "markdown",
   "id": "89bd3896",
   "metadata": {},
   "source": [
    "Working (Control Flow):\n",
    "\n",
    "The discriminant (Δ) is calculated.\n",
    "\n",
    "if delta > 0: If True, calculates and returns the two distinct real roots.\n",
    "\n",
    "elif delta == 0: If True, calculates and returns the single real root.\n",
    "\n",
    "else: If Δ<0, calculates and returns the two complex roots using cmath.\n",
    "\n",
    "Example: If a=1,b=1,c=1: Δ=1 \n",
    "2\n",
    " −4(1)(1)=−3.\n",
    "\n",
    "−3>0? False.\n",
    "\n",
    "−3==0? False. → else block executes. → Output: Two complex roots."
   ]
  },
  {
   "cell_type": "code",
   "execution_count": null,
   "id": "4c079816",
   "metadata": {},
   "outputs": [],
   "source": []
  },
  {
   "cell_type": "markdown",
   "id": "2d86c0c8",
   "metadata": {},
   "source": [
    "18. Implement a Program to Determine the Day of the Week Based on a User-Provided Number (1 for Monday, 2 for Tuesday, etc.)\n",
    "Concept: This uses a series of if-elif-else statements or a dictionary (lookup table) to map an integer input (1 to 7) to the corresponding day of the week."
   ]
  },
  {
   "cell_type": "code",
   "execution_count": 9,
   "id": "8cb0e05f",
   "metadata": {},
   "outputs": [
    {
     "name": "stdout",
     "output_type": "stream",
     "text": [
      "Day number 1 corresponds to: Monday\n",
      "Day number 7 corresponds to: Sunday\n",
      "Day number 9 corresponds to: Invalid day number. Please enter a number between 1 and 7.\n"
     ]
    }
   ],
   "source": [
    "def get_day_of_week(day_number):\n",
    "    if day_number == 1:\n",
    "        return \"Monday\"\n",
    "    elif day_number == 2:\n",
    "        return \"Tuesday\"\n",
    "    elif day_number == 3:\n",
    "        return \"Wednesday\"\n",
    "    elif day_number == 4:\n",
    "        return \"Thursday\"\n",
    "    elif day_number == 5:\n",
    "        return \"Friday\"\n",
    "    elif day_number == 6:\n",
    "        return \"Saturday\"\n",
    "    elif day_number == 7:\n",
    "        return \"Sunday\"\n",
    "    else:\n",
    "        return \"Invalid day number. Please enter a number between 1 and 7.\"\n",
    "\n",
    "# Example Usage\n",
    "d1 = 1\n",
    "d2 = 7\n",
    "d3 = 9\n",
    "\n",
    "print(f\"Day number {d1} corresponds to: {get_day_of_week(d1)}\")\n",
    "print(f\"Day number {d2} corresponds to: {get_day_of_week(d2)}\")\n",
    "print(f\"Day number {d3} corresponds to: {get_day_of_week(d3)}\")"
   ]
  },
  {
   "cell_type": "markdown",
   "id": "cdba629e",
   "metadata": {},
   "source": [
    "Working (Control Flow):\n",
    "\n",
    "The function checks the input day_number against values 1 through 7 sequentially using if-elif.\n",
    "\n",
    "The first match encountered determines the day and the function returns, stopping further checks.\n",
    "\n",
    "If no match is found after checking all 7 days, the else block executes, indicating an invalid input.\n",
    "\n",
    "Example: If day_number is 7:\n",
    "\n",
    "7==1? False...\n",
    "\n",
    "7==6? False.\n",
    "\n",
    "7==7? True. → elif block executes. → Output: Sunday."
   ]
  },
  {
   "cell_type": "code",
   "execution_count": null,
   "id": "eb254fc6",
   "metadata": {},
   "outputs": [],
   "source": []
  },
  {
   "cell_type": "markdown",
   "id": "c86a9a24",
   "metadata": {},
   "source": [
    "19. Create a Program that Determines if a Year is a Leap Year and also if it is Evenly Divisible by 400\n",
    "Concept: This is a specific check combining the leap year rule (divisible by 400 is the highest priority for century years) and the general leap year rule. This essentially isolates years that pass the most stringent leap year test."
   ]
  },
  {
   "cell_type": "code",
   "execution_count": 10,
   "id": "16a38043",
   "metadata": {},
   "outputs": [
    {
     "name": "stdout",
     "output_type": "stream",
     "text": [
      "2000 is a Leap Year AND is divisible by 400.\n",
      "2024 is a Leap Year but NOT divisible by 400 (e.g., 2004).\n",
      "1900 is NOT a Leap Year.\n"
     ]
    }
   ],
   "source": [
    "def check_leap_and_divisible_by_400(year):\n",
    "    # Check 1: Is it divisible by 400?\n",
    "    divisible_by_400 = (year % 400 == 0)\n",
    "    \n",
    "    # Check 2: Is it a leap year (general definition)?\n",
    "    is_leap = (year % 4 == 0 and year % 100 != 0) or (year % 400 == 0)\n",
    "    \n",
    "    if is_leap and divisible_by_400:\n",
    "        return f\"{year} is a Leap Year AND is divisible by 400.\"\n",
    "    elif is_leap and not divisible_by_400:\n",
    "        return f\"{year} is a Leap Year but NOT divisible by 400 (e.g., 2004).\"\n",
    "    else:\n",
    "        return f\"{year} is NOT a Leap Year.\"\n",
    "\n",
    "# Example Usage\n",
    "y1 = 2000 # Leap and Divisible by 400\n",
    "y2 = 2024 # Leap but NOT Divisible by 400\n",
    "y3 = 1900 # Not Leap\n",
    "\n",
    "print(check_leap_and_divisible_by_400(y1))\n",
    "print(check_leap_and_divisible_by_400(y2))\n",
    "print(check_leap_and_divisible_by_400(y3))"
   ]
  },
  {
   "cell_type": "markdown",
   "id": "f27962ee",
   "metadata": {},
   "source": [
    "Working (Control Flow):\n",
    "\n",
    "Two boolean variables, divisible_by_400 and is_leap, are calculated.\n",
    "\n",
    "The if condition checks if both are True.\n",
    "\n",
    "The elif checks if it's a leap year but not divisible by 400 (e.g., 2024, which is divisible by 4 but not 100 or 400).\n",
    "\n",
    "The else covers all other cases (not a leap year).\n",
    "\n",
    "Example: If year is 2024:\n",
    "\n",
    "divisible_by_400 is False.\n",
    "\n",
    "is_leap is True (since 2024%4==0 and 2024%100\n",
    "\n",
    "=0).\n",
    "\n",
    "The elif (is_leap and not divisible_by_400) is True (True and not False). → Output: Leap Year but NOT divisible by 400."
   ]
  },
  {
   "cell_type": "code",
   "execution_count": null,
   "id": "226fb240",
   "metadata": {},
   "outputs": [],
   "source": []
  }
 ],
 "metadata": {
  "kernelspec": {
   "display_name": "base",
   "language": "python",
   "name": "python3"
  },
  "language_info": {
   "codemirror_mode": {
    "name": "ipython",
    "version": 3
   },
   "file_extension": ".py",
   "mimetype": "text/x-python",
   "name": "python",
   "nbconvert_exporter": "python",
   "pygments_lexer": "ipython3",
   "version": "3.12.11"
  }
 },
 "nbformat": 4,
 "nbformat_minor": 5
}
