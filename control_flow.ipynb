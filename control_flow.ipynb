{
 "cells": [
  {
   "cell_type": "markdown",
   "id": "8599ce55",
   "metadata": {},
   "source": [
    "Control Flow Programming Exercises\n",
    "\n",
    "Control flow statements, such as if-else, elif (else if), for loops, and while loops, determine the order in which statements are executed in a program. These exercises focus primarily on conditional logic using if-else statements."
   ]
  },
  {
   "cell_type": "markdown",
   "id": "6ebf8c6b",
   "metadata": {},
   "source": [
    "1. Check if a Given Number is Positive or Negative\n",
    "\n",
    "Concept: This program uses an if-else statement to determine if a number is greater than zero (positive) or less than or equal to zero (negative or zero)."
   ]
  },
  {
   "cell_type": "code",
   "execution_count": 2,
   "id": "c3c000d0",
   "metadata": {},
   "outputs": [
    {
     "name": "stdout",
     "output_type": "stream",
     "text": [
      "the number 15 is: positive\n",
      "the number -8 is: negative or zero\n",
      "the number 0 is: negative or zero\n"
     ]
    }
   ],
   "source": [
    "## function to check the sign of a number\n",
    "def check_sign(number):\n",
    "    if number > 1:\n",
    "        return \"positive\"\n",
    "    else:\n",
    "        return \"negative or zero\"\n",
    "\n",
    "# examplem usage\n",
    "num1=15\n",
    "num2=-8\n",
    "num3=0\n",
    "print(f\"the number {num1} is: {check_sign(num1)}\") \n",
    "print(f\"the number {num2} is: {check_sign(num2)}\") \n",
    "print(f\"the number {num3} is: {check_sign(num3)}\")  "
   ]
  },
  {
   "cell_type": "markdown",
   "id": "77f0697f",
   "metadata": {},
   "source": [
    "Working (Control Flow):\n",
    "\n",
    "The function check_sign takes a number as input.\n",
    "\n",
    "The if condition (number > 0) is checked.\n",
    "\n",
    "If True, the program executes the if block and returns \"Positive\".\n",
    "\n",
    "If False, the program executes the else block and returns \"Negative or Zero\".\n",
    "\n",
    "Example: If number is 15: 15>0 is True. → Output: Positive."
   ]
  },
  {
   "cell_type": "code",
   "execution_count": null,
   "id": "3b4c66f3",
   "metadata": {},
   "outputs": [],
   "source": []
  },
  {
   "cell_type": "markdown",
   "id": "994f9ada",
   "metadata": {},
   "source": [
    "2. Determine if a Person is Eligible to Vote Based on Their Age\n",
    "\n",
    "Concept: Voting eligibility is typically based on a minimum age (e.g., 18). An if-else statement compares the input age with the required voting age."
   ]
  },
  {
   "cell_type": "code",
   "execution_count": 3,
   "id": "77d94887",
   "metadata": {},
   "outputs": [
    {
     "name": "stdout",
     "output_type": "stream",
     "text": [
      "Age 20 : Eligible to vote\n",
      "Age 16 : Not eligible to vote\n"
     ]
    }
   ],
   "source": [
    "voting_age= 18\n",
    "def check_voting_eligiblity(age):\n",
    "    if age >= voting_age:\n",
    "        return \"Eligible to vote\"\n",
    "    else:\n",
    "        return \"Not eligible to vote\"\n",
    "    \n",
    "# example usage\n",
    "age1=20\n",
    "age2=16\n",
    "\n",
    "print(f\"Age {age1} : {check_voting_eligiblity(age1)}\")\n",
    "print(f\"Age {age2} : {check_voting_eligiblity(age2)}\")\n"
   ]
  },
  {
   "cell_type": "code",
   "execution_count": null,
   "id": "1b914032",
   "metadata": {},
   "outputs": [],
   "source": []
  },
  {
   "cell_type": "markdown",
   "id": "b224a69d",
   "metadata": {},
   "source": [
    "Working (Control Flow):\n",
    "\n",
    "The function check_voting_eligibility takes the person's age.\n",
    "\n",
    "The if condition (age >= VOTING_AGE) is checked.\n",
    "\n",
    "If the age is 18 or more (True), the program executes the if block and returns \"Eligible to vote\".\n",
    "\n",
    "If the age is less than 18 (False), the program executes the else block and returns \"Not eligible to vote\".\n",
    "\n",
    "Example: If age is 16: 16≥18 is False. → Output: Not eligible to vote."
   ]
  },
  {
   "cell_type": "markdown",
   "id": "e3501245",
   "metadata": {},
   "source": [
    "3. Find the Maximum of Two Numbers Using if-else Statements\n",
    "\n",
    "Concept: This program uses a simple if-else block to compare two numbers and determine which one is larger (the maximum)."
   ]
  },
  {
   "cell_type": "code",
   "execution_count": 5,
   "id": "b4682e85",
   "metadata": {},
   "outputs": [
    {
     "name": "stdout",
     "output_type": "stream",
     "text": [
      "the maximum of 48 and 56 is: 56\n"
     ]
    }
   ],
   "source": [
    "def find_maximum(num_a,num_b):\n",
    "    if num_a > num_b:\n",
    "        return num_a\n",
    "    else:\n",
    "        return num_b\n",
    "\n",
    "# example\n",
    "a=48\n",
    "b=56\n",
    "max_val=find_maximum(a,b)\n",
    "print(f\"the maximum of {a} and {b} is: {max_val}\")"
   ]
  },
  {
   "cell_type": "markdown",
   "id": "a455f642",
   "metadata": {},
   "source": [
    "Working (Control Flow):\n",
    "\n",
    "The function find_maximum receives two numbers, num_a and num_b.\n",
    "\n",
    "The if condition (num_a > num_b) is checked.\n",
    "\n",
    "If True, num_a is the maximum, and the if block returns num_a.\n",
    "\n",
    "If False, num_b must be the maximum (or they are equal), and the else block returns num_b.\n",
    "\n",
    "Example: If a is 45 and b is 78: 45>78 is False. → The else block executes. → Output: 78."
   ]
  },
  {
   "cell_type": "code",
   "execution_count": null,
   "id": "d82ca585",
   "metadata": {},
   "outputs": [],
   "source": []
  },
  {
   "cell_type": "markdown",
   "id": "575f9afa",
   "metadata": {},
   "source": [
    "4. Classify a Given Year as a Leap Year or Not\n",
    "Concept: A year is a leap year if it is divisible by 4, unless it is divisible by 100 but not by 400. This requires nested or chained if-elif-else logic."
   ]
  },
  {
   "cell_type": "code",
   "execution_count": 6,
   "id": "e02a5984",
   "metadata": {},
   "outputs": [],
   "source": [
    "# what is leap year?\n",
    "leap_year= \"\"\"\n",
    "a year is called leap year if it has 366 days\n",
    "instead of 365.\n",
    "februry has 29 days in a leap year\n",
    "\"\"\"\n",
    "# a year is considered as leap year if: \n",
    "# it is divisible by 4\n",
    "#BUT if it is divisible by 100, then it must be divisible by 400"
   ]
  },
  {
   "cell_type": "code",
   "execution_count": 12,
   "id": "e337b4ea",
   "metadata": {},
   "outputs": [
    {
     "name": "stdout",
     "output_type": "stream",
     "text": [
      "is 2000 leap year: True\n",
      "is 1900 leap year: False\n",
      "is 2024 leap year: True\n"
     ]
    }
   ],
   "source": [
    "def is_leap_year(year):\n",
    "    # rule 1: divisible by 400\n",
    "    if year % 400==0:\n",
    "        return True\n",
    "    # rule 2: divisible by 100 but NOT 400(e.g, 1900, 2008)--> NOT a leap year\n",
    "    elif year % 100==0:\n",
    "        return False\n",
    "    # rule 3: divisible by 400 but NOT by 100\n",
    "    elif year % 400:\n",
    "        return True\n",
    "    else:\n",
    "        return False\n",
    "    \n",
    "# example \n",
    "year1=2000 # divisible by 400-> leap\n",
    "year2=1900 #divisible by 100, not 400--> not leap\n",
    "year3=2024 # divisible by 4, not 100-> leap\n",
    "print(f\"is {year1} leap year: {is_leap_year(year1)}\")\n",
    "print(f\"is {year2} leap year: {is_leap_year(year2)}\")\n",
    "print(f\"is {year3} leap year: {is_leap_year(year3)}\")\n",
    "    \n"
   ]
  },
  {
   "cell_type": "markdown",
   "id": "d53c5d9b",
   "metadata": {},
   "source": [
    "Working (Control Flow):\n",
    "\n",
    "The function checks the conditions in order:\n",
    "\n",
    "if (year % 400 == 0): If True, it's a leap year, and the check stops.\n",
    "\n",
    "elif (year % 100 == 0): This is only reached if Rule 1 was False. If True (and Rule 1 was False), it's NOT a leap year, and the check stops.\n",
    "\n",
    "elif (year % 4 == 0): This is only reached if Rules 1 and 2 were False. If True, it IS a leap year, and the check stops.\n",
    "\n",
    "else: If none of the above are True, it is NOT a leap year.\n",
    "\n",
    "Example: If year is 1900:\n",
    "\n",
    "1900%400==0? False\n",
    "\n",
    "1900%100==0? True. → elif block executes. → Output: False."
   ]
  },
  {
   "cell_type": "code",
   "execution_count": null,
   "id": "864b30b1",
   "metadata": {},
   "outputs": [],
   "source": []
  },
  {
   "cell_type": "markdown",
   "id": "d75c051a",
   "metadata": {},
   "source": [
    "5. Check Whether a Character is a Vowel or a Consonant\n",
    "\n",
    "Concept: A character is a vowel if it is one of 'a', 'e', 'i', 'o', 'u' (case-insensitive). All other letters are consonants. This uses an if-else with multiple conditions (or a list/set check)."
   ]
  },
  {
   "cell_type": "code",
   "execution_count": 14,
   "id": "adee928f",
   "metadata": {},
   "outputs": [
    {
     "name": "stdout",
     "output_type": "stream",
     "text": [
      " 'A' is a: vowel\n",
      " 'k' is a: consonant\n",
      " '9' is a: not an aphabet character\n"
     ]
    }
   ],
   "source": [
    "def check_vowel_consonant(char):\n",
    "    char_lower=char.lower()\n",
    "    # check if the character is an alphabet letter\n",
    "    if 'a'<= char_lower <= 'z':\n",
    "        if char_lower in ['a','e','i','o','u']:\n",
    "            return \"vowel\"\n",
    "        else:\n",
    "            return \"consonant\"\n",
    "    else:\n",
    "        return \"not an aphabet character\"\n",
    "    \n",
    "#example\n",
    "char1='A'\n",
    "char2='k'\n",
    "char3='9'\n",
    "print(f\" '{char1}' is a: {check_vowel_consonant(char1)}\")\n",
    "print(f\" '{char2}' is a: {check_vowel_consonant(char2)}\")\n",
    "print(f\" '{char3}' is a: {check_vowel_consonant(char3)}\")\n"
   ]
  },
  {
   "cell_type": "markdown",
   "id": "97119034",
   "metadata": {},
   "source": [
    "Working (Control Flow):\n",
    "\n",
    "The input character is converted to lowercase.\n",
    "\n",
    "The outer if checks if it's a letter ('a' through 'z'). If not, the outer else is executed.\n",
    "\n",
    "If it is a letter, the inner if checks if the lowercase character is present in the list of vowels.\n",
    "\n",
    "If the inner if is True, it returns \"Vowel\".\n",
    "\n",
    "If the inner if is False, the inner else executes, returning \"Consonant\".\n",
    "\n",
    "Example: If char is 'k':\n",
    "\n",
    "char_lower is 'k'.\n",
    "\n",
    "'k' is a letter (True).\n",
    "\n",
    "Is 'k' in ['a', 'e', 'i', 'o', 'u']? False. → Inner else executes. → Output: Consonant."
   ]
  },
  {
   "cell_type": "code",
   "execution_count": null,
   "id": "debecde9",
   "metadata": {},
   "outputs": [],
   "source": []
  },
  {
   "cell_type": "code",
   "execution_count": null,
   "id": "de5626fa",
   "metadata": {},
   "outputs": [],
   "source": []
  },
  {
   "cell_type": "markdown",
   "id": "74b6f028",
   "metadata": {},
   "source": [
    "6. Implement a Program to Determine Whether a Given Number is Even or Odd\n",
    "\n",
    "\n",
    "Concept: An integer is even if it is perfectly divisible by 2 (remainder is 0); otherwise, it is odd. This uses the modulo operator (%) and an if-else statement."
   ]
  },
  {
   "cell_type": "code",
   "execution_count": 15,
   "id": "372abc56",
   "metadata": {},
   "outputs": [
    {
     "name": "stdout",
     "output_type": "stream",
     "text": [
      "the number 34 is : Even\n",
      "the number 17 is : Odd\n"
     ]
    }
   ],
   "source": [
    "def check_even_odd(number):\n",
    "    if number % 2 == 0:\n",
    "        return \"Even\"\n",
    "    else:\n",
    "        return \"Odd\"\n",
    "    \n",
    "# example usage \n",
    "num1=34\n",
    "num2=17\n",
    "print(f\"the number {num1} is : {check_even_odd(num1)}\")\n",
    "print(f\"the number {num2} is : {check_even_odd(num2)}\")\n"
   ]
  },
  {
   "cell_type": "code",
   "execution_count": null,
   "id": "b740b510",
   "metadata": {},
   "outputs": [],
   "source": []
  },
  {
   "cell_type": "markdown",
   "id": "916878ff",
   "metadata": {},
   "source": [
    "Working (Control Flow):\n",
    "\n",
    "The function check_even_odd takes a number.\n",
    "\n",
    "The if condition (number % 2 == 0) calculates the remainder when the number is divided by 2.\n",
    "\n",
    "If the remainder is 0 (True), the number is even, and the if block executes.\n",
    "\n",
    "If the remainder is 1 (False), the number is odd, and the else block executes.\n",
    "\n",
    "Example: If number is 17: 17%2 is 1. 1==0 is False. → else block executes. → Output: Odd."
   ]
  },
  {
   "cell_type": "code",
   "execution_count": null,
   "id": "840508c6",
   "metadata": {},
   "outputs": [],
   "source": []
  },
  {
   "cell_type": "markdown",
   "id": "a89c6873",
   "metadata": {},
   "source": [
    "7. Write a Python Function to Calculate the Absolute Value of a Number Without Using the abs() Function\n",
    "\n",
    "Concept: The absolute value of a number is its distance from zero, always a non-negative value. For a positive number or zero, it is the number itself. For a negative number, it is the number multiplied by −1."
   ]
  },
  {
   "cell_type": "code",
   "execution_count": 16,
   "id": "49a4feb7",
   "metadata": {},
   "outputs": [
    {
     "name": "stdout",
     "output_type": "stream",
     "text": [
      "the absolute value of 42 is: 42\n",
      "the absolute value of -12 is: 12\n"
     ]
    }
   ],
   "source": [
    "def calculate_absolute_value(number):\n",
    "    if number >= 0:\n",
    "        return number\n",
    "    else:\n",
    "        # for negative number multiply by -1\n",
    "        return -number\n",
    "    \n",
    "# example usage\n",
    "num1=42\n",
    "num2=-12\n",
    "\n",
    "print(f\"the absolute value of {num1} is: {calculate_absolute_value(num1)}\")\n",
    "print(f\"the absolute value of {num2} is: {calculate_absolute_value(num2)}\")\n",
    "\n"
   ]
  },
  {
   "cell_type": "markdown",
   "id": "8d68f6c6",
   "metadata": {},
   "source": [
    "Working (Control Flow):\n",
    "\n",
    "The function calculate_absolute_value takes a number.\n",
    "\n",
    "The if condition (number >= 0) checks if the number is non-negative.\n",
    "\n",
    "If True, the number is returned as is.\n",
    "\n",
    "If False (the number is negative), the else block executes, returning the negative of the number (e.g., −(−12)=12).\n",
    "\n",
    "Example: If number is -12: −12≥0 is False. → else block executes. → Output: −(−12) which is 12."
   ]
  },
  {
   "cell_type": "code",
   "execution_count": null,
   "id": "a2c717d7",
   "metadata": {},
   "outputs": [],
   "source": []
  },
  {
   "cell_type": "markdown",
   "id": "675bab5a",
   "metadata": {},
   "source": [
    "8. Develop a Program that Determines the Largest of Three Given Numbers Using if-else Statements\n",
    "Concept: To find the largest of three numbers (a,b,c), we can use nested or chained if-elif-else statements to compare them."
   ]
  },
  {
   "cell_type": "code",
   "execution_count": 20,
   "id": "72159a91",
   "metadata": {},
   "outputs": [
    {
     "name": "stdout",
     "output_type": "stream",
     "text": [
      " the largest of 10, 50, 30 is: 50\n"
     ]
    }
   ],
   "source": [
    "def find_largest_of_three(a,b,c):\n",
    "    if a >= b and a >= c:\n",
    "        return a\n",
    "    elif b >= a and b >= c:\n",
    "        return b\n",
    "    else:\n",
    "        return c\n",
    "    \n",
    "# example usage \n",
    "n1=10\n",
    "n2=50\n",
    "n3=30\n",
    "largest=find_largest_of_three(n1,n2,n3)\n",
    "print(f\" the largest of {n1}, {n2}, {n3} is: {largest}\")\n",
    "\n",
    "    \n"
   ]
  },
  {
   "cell_type": "markdown",
   "id": "d20a8e1d",
   "metadata": {},
   "source": [
    "Working (Control Flow):\n",
    "\n",
    "The if condition checks if a is greater than or equal to both b AND c. If True, a is returned.\n",
    "\n",
    "If the first if is False, the elif condition checks if b is greater than or equal to both a AND c. If True, b is returned.\n",
    "\n",
    "If both the if and elif are False, it means c is the largest, so the else block executes and returns c.\n",
    "\n",
    "Example: If a=10,b=50,c=30:\n",
    "\n",
    "10≥50 and 10≥30? False.\n",
    "\n",
    "50≥10 and 50≥30? True. → elif block executes. → Output: 50."
   ]
  },
  {
   "cell_type": "code",
   "execution_count": null,
   "id": "4046ecf7",
   "metadata": {},
   "outputs": [],
   "source": []
  }
 ],
 "metadata": {
  "kernelspec": {
   "display_name": "base",
   "language": "python",
   "name": "python3"
  },
  "language_info": {
   "codemirror_mode": {
    "name": "ipython",
    "version": 3
   },
   "file_extension": ".py",
   "mimetype": "text/x-python",
   "name": "python",
   "nbconvert_exporter": "python",
   "pygments_lexer": "ipython3",
   "version": "3.12.11"
  }
 },
 "nbformat": 4,
 "nbformat_minor": 5
}
