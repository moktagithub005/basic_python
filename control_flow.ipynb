{
 "cells": [
  {
   "cell_type": "markdown",
   "id": "8599ce55",
   "metadata": {},
   "source": [
    "Control Flow Programming Exercises\n",
    "\n",
    "Control flow statements, such as if-else, elif (else if), for loops, and while loops, determine the order in which statements are executed in a program. These exercises focus primarily on conditional logic using if-else statements."
   ]
  },
  {
   "cell_type": "markdown",
   "id": "6ebf8c6b",
   "metadata": {},
   "source": [
    "1. Check if a Given Number is Positive or Negative\n",
    "\n",
    "Concept: This program uses an if-else statement to determine if a number is greater than zero (positive) or less than or equal to zero (negative or zero)."
   ]
  },
  {
   "cell_type": "code",
   "execution_count": 2,
   "id": "c3c000d0",
   "metadata": {},
   "outputs": [
    {
     "name": "stdout",
     "output_type": "stream",
     "text": [
      "the number 15 is: positive\n",
      "the number -8 is: negative or zero\n",
      "the number 0 is: negative or zero\n"
     ]
    }
   ],
   "source": [
    "## function to check the sign of a number\n",
    "def check_sign(number):\n",
    "    if number > 1:\n",
    "        return \"positive\"\n",
    "    else:\n",
    "        return \"negative or zero\"\n",
    "\n",
    "# examplem usage\n",
    "num1=15\n",
    "num2=-8\n",
    "num3=0\n",
    "print(f\"the number {num1} is: {check_sign(num1)}\") \n",
    "print(f\"the number {num2} is: {check_sign(num2)}\") \n",
    "print(f\"the number {num3} is: {check_sign(num3)}\")  "
   ]
  },
  {
   "cell_type": "markdown",
   "id": "77f0697f",
   "metadata": {},
   "source": [
    "Working (Control Flow):\n",
    "\n",
    "The function check_sign takes a number as input.\n",
    "\n",
    "The if condition (number > 0) is checked.\n",
    "\n",
    "If True, the program executes the if block and returns \"Positive\".\n",
    "\n",
    "If False, the program executes the else block and returns \"Negative or Zero\".\n",
    "\n",
    "Example: If number is 15: 15>0 is True. → Output: Positive."
   ]
  },
  {
   "cell_type": "code",
   "execution_count": null,
   "id": "3b4c66f3",
   "metadata": {},
   "outputs": [],
   "source": []
  },
  {
   "cell_type": "markdown",
   "id": "994f9ada",
   "metadata": {},
   "source": [
    "2. Determine if a Person is Eligible to Vote Based on Their Age\n",
    "\n",
    "Concept: Voting eligibility is typically based on a minimum age (e.g., 18). An if-else statement compares the input age with the required voting age."
   ]
  },
  {
   "cell_type": "code",
   "execution_count": 3,
   "id": "77d94887",
   "metadata": {},
   "outputs": [
    {
     "name": "stdout",
     "output_type": "stream",
     "text": [
      "Age 20 : Eligible to vote\n",
      "Age 16 : Not eligible to vote\n"
     ]
    }
   ],
   "source": [
    "voting_age= 18\n",
    "def check_voting_eligiblity(age):\n",
    "    if age >= voting_age:\n",
    "        return \"Eligible to vote\"\n",
    "    else:\n",
    "        return \"Not eligible to vote\"\n",
    "    \n",
    "# example usage\n",
    "age1=20\n",
    "age2=16\n",
    "\n",
    "print(f\"Age {age1} : {check_voting_eligiblity(age1)}\")\n",
    "print(f\"Age {age2} : {check_voting_eligiblity(age2)}\")\n"
   ]
  },
  {
   "cell_type": "code",
   "execution_count": null,
   "id": "1b914032",
   "metadata": {},
   "outputs": [],
   "source": []
  },
  {
   "cell_type": "markdown",
   "id": "b224a69d",
   "metadata": {},
   "source": [
    "Working (Control Flow):\n",
    "\n",
    "The function check_voting_eligibility takes the person's age.\n",
    "\n",
    "The if condition (age >= VOTING_AGE) is checked.\n",
    "\n",
    "If the age is 18 or more (True), the program executes the if block and returns \"Eligible to vote\".\n",
    "\n",
    "If the age is less than 18 (False), the program executes the else block and returns \"Not eligible to vote\".\n",
    "\n",
    "Example: If age is 16: 16≥18 is False. → Output: Not eligible to vote."
   ]
  },
  {
   "cell_type": "markdown",
   "id": "e3501245",
   "metadata": {},
   "source": [
    "3. Find the Maximum of Two Numbers Using if-else Statements\n",
    "\n",
    "Concept: This program uses a simple if-else block to compare two numbers and determine which one is larger (the maximum)."
   ]
  },
  {
   "cell_type": "code",
   "execution_count": 5,
   "id": "b4682e85",
   "metadata": {},
   "outputs": [
    {
     "name": "stdout",
     "output_type": "stream",
     "text": [
      "the maximum of 48 and 56 is: 56\n"
     ]
    }
   ],
   "source": [
    "def find_maximum(num_a,num_b):\n",
    "    if num_a > num_b:\n",
    "        return num_a\n",
    "    else:\n",
    "        return num_b\n",
    "\n",
    "# example\n",
    "a=48\n",
    "b=56\n",
    "max_val=find_maximum(a,b)\n",
    "print(f\"the maximum of {a} and {b} is: {max_val}\")"
   ]
  },
  {
   "cell_type": "markdown",
   "id": "a455f642",
   "metadata": {},
   "source": [
    "Working (Control Flow):\n",
    "\n",
    "The function find_maximum receives two numbers, num_a and num_b.\n",
    "\n",
    "The if condition (num_a > num_b) is checked.\n",
    "\n",
    "If True, num_a is the maximum, and the if block returns num_a.\n",
    "\n",
    "If False, num_b must be the maximum (or they are equal), and the else block returns num_b.\n",
    "\n",
    "Example: If a is 45 and b is 78: 45>78 is False. → The else block executes. → Output: 78."
   ]
  },
  {
   "cell_type": "code",
   "execution_count": null,
   "id": "d82ca585",
   "metadata": {},
   "outputs": [],
   "source": []
  },
  {
   "cell_type": "markdown",
   "id": "575f9afa",
   "metadata": {},
   "source": [
    "4. Classify a Given Year as a Leap Year or Not\n",
    "Concept: A year is a leap year if it is divisible by 4, unless it is divisible by 100 but not by 400. This requires nested or chained if-elif-else logic."
   ]
  },
  {
   "cell_type": "code",
   "execution_count": 6,
   "id": "e02a5984",
   "metadata": {},
   "outputs": [],
   "source": [
    "# what is leap year?\n",
    "leap_year= \"\"\"\n",
    "a year is called leap year if it has 366 days\n",
    "instead of 365.\n",
    "februry has 29 days in a leap year\n",
    "\"\"\"\n",
    "# a year is considered as leap year if: \n",
    "# it is divisible by 4\n",
    "#BUT if it is divisible by 100, then it must be divisible by 400"
   ]
  },
  {
   "cell_type": "code",
   "execution_count": 12,
   "id": "e337b4ea",
   "metadata": {},
   "outputs": [
    {
     "name": "stdout",
     "output_type": "stream",
     "text": [
      "is 2000 leap year: True\n",
      "is 1900 leap year: False\n",
      "is 2024 leap year: True\n"
     ]
    }
   ],
   "source": [
    "def is_leap_year(year):\n",
    "    # rule 1: divisible by 400\n",
    "    if year % 400==0:\n",
    "        return True\n",
    "    # rule 2: divisible by 100 but NOT 400(e.g, 1900, 2008)--> NOT a leap year\n",
    "    elif year % 100==0:\n",
    "        return False\n",
    "    # rule 3: divisible by 400 but NOT by 100\n",
    "    elif year % 400:\n",
    "        return True\n",
    "    else:\n",
    "        return False\n",
    "    \n",
    "# example \n",
    "year1=2000 # divisible by 400-> leap\n",
    "year2=1900 #divisible by 100, not 400--> not leap\n",
    "year3=2024 # divisible by 4, not 100-> leap\n",
    "print(f\"is {year1} leap year: {is_leap_year(year1)}\")\n",
    "print(f\"is {year2} leap year: {is_leap_year(year2)}\")\n",
    "print(f\"is {year3} leap year: {is_leap_year(year3)}\")\n",
    "    \n"
   ]
  },
  {
   "cell_type": "code",
   "execution_count": null,
   "id": "864b30b1",
   "metadata": {},
   "outputs": [],
   "source": []
  }
 ],
 "metadata": {
  "kernelspec": {
   "display_name": "base",
   "language": "python",
   "name": "python3"
  },
  "language_info": {
   "codemirror_mode": {
    "name": "ipython",
    "version": 3
   },
   "file_extension": ".py",
   "mimetype": "text/x-python",
   "name": "python",
   "nbconvert_exporter": "python",
   "pygments_lexer": "ipython3",
   "version": "3.12.11"
  }
 },
 "nbformat": 4,
 "nbformat_minor": 5
}
