{
 "cells": [
  {
   "cell_type": "markdown",
   "id": "9d52b839",
   "metadata": {},
   "source": [
    "Part B: Strings (26-51)\n",
    "26. Define what a string is in Python.\n",
    " \n",
    "Give 3 examples of string declarations.\n",
    "\n",
    "A string (str) in Python is a sequence of characters (letters, numbers, symbols, and spaces) enclosed in quotation marks.\n",
    "\n",
    "Concept: Strings are used to store textual information. They are immutable, meaning once created, their contents cannot be changed (a new string object must be created for any modification).\n",
    "\n",
    "3 Examples of String Declarations:\n",
    "\n",
    "Python allows you to use single, double, or triple quotes, which is especially useful when the text itself contains quotes."
   ]
  },
  {
   "cell_type": "code",
   "execution_count": 3,
   "id": "53d21bd0",
   "metadata": {},
   "outputs": [
    {
     "name": "stdout",
     "output_type": "stream",
     "text": [
      "type 1: welcome to Unisole\n",
      "type 2: I'm learning variables\n",
      "type 3:\n",
      "this string\n",
      "spans multiple\n",
      "lines easily\n",
      "\n"
     ]
    }
   ],
   "source": [
    "# 1. using single quotes (')- Most common for short string\n",
    "single_quoted_string='welcome to Unisole'\n",
    "print(f\"type 1: {single_quoted_string}\")\n",
    "\n",
    "# 2. using double quotes (\")- useful if the string contains single quotes\n",
    "double_quoted_string=\"I'm learning variables\"\n",
    "print(f\"type 2: {double_quoted_string}\")\n",
    "\n",
    "# 3. using triple quotes (\"\"\" or ''')-- used for multiline strings or docstring\n",
    "multi_line_string= \"\"\"\n",
    "this string\n",
    "spans multiple\n",
    "lines easily\n",
    "\"\"\"\n",
    "print(f\"type 3:{multi_line_string}\")\n"
   ]
  },
  {
   "cell_type": "code",
   "execution_count": null,
   "id": "74ad1d5f",
   "metadata": {},
   "outputs": [],
   "source": []
  },
  {
   "cell_type": "markdown",
   "id": "21299aff",
   "metadata": {},
   "source": [
    "27. Write a program to print your name in uppercase, lowercase, and title case.\n",
    "\n",
    "Python provides powerful string methods to easily change the casing of text:\n",
    "\n",
    ".upper(): Converts all characters to uppercase.\n",
    "\n",
    ".lower(): Converts all characters to lowercase.\n",
    "\n",
    ".title(): Converts the string to title case (first letter of every word is capitalized)."
   ]
  },
  {
   "cell_type": "code",
   "execution_count": 5,
   "id": "6cc5526f",
   "metadata": {},
   "outputs": [
    {
     "name": "stdout",
     "output_type": "stream",
     "text": [
      "original name: Ajay Mokta\n",
      "uppercase: AJAY MOKTA\n",
      "lowercase:ajay mokta\n",
      "Title case: Ajay Mokta\n"
     ]
    }
   ],
   "source": [
    "my_name= \"Ajay Mokta\"\n",
    "print(f\"original name: {my_name}\")\n",
    "\n",
    "# Convert to ALL CAPS\n",
    "uppercase_name=my_name.upper()\n",
    "print(f\"uppercase: {uppercase_name}\")\n",
    "\n",
    "# convert to all small letters\n",
    "lowercase_name=my_name.lower()\n",
    "print(f\"lowercase:{lowercase_name}\")\n",
    "\n",
    "# convert to Title case\n",
    "titlecase_name=my_name.title()\n",
    "print(f\"Title case: {titlecase_name}\")\n"
   ]
  },
  {
   "cell_type": "code",
   "execution_count": null,
   "id": "3a391894",
   "metadata": {},
   "outputs": [],
   "source": []
  },
  {
   "cell_type": "markdown",
   "id": "2812957f",
   "metadata": {},
   "source": [
    "28. Find the length of a string using len().\n",
    "\n",
    "The built-in Python function len() calculates and returns the number of characters in a string (including spaces and punctuation)."
   ]
  },
  {
   "cell_type": "code",
   "execution_count": 6,
   "id": "51f2edbf",
   "metadata": {},
   "outputs": [
    {
     "name": "stdout",
     "output_type": "stream",
     "text": [
      "the string is: unisole is a research community\n",
      "its length (number of character) is: 31\n"
     ]
    }
   ],
   "source": [
    "my_string=\"unisole is a research community\"\n",
    "# use the len() function to get the number of characters\n",
    "string_length=len(my_string)\n",
    "print(f\"the string is: {my_string}\")\n",
    "print(f\"its length (number of character) is: {string_length}\")"
   ]
  },
  {
   "cell_type": "code",
   "execution_count": null,
   "id": "cede97e2",
   "metadata": {},
   "outputs": [],
   "source": []
  },
  {
   "cell_type": "markdown",
   "id": "3667a17b",
   "metadata": {},
   "source": [
    "29. Concatenate two strings and print the result.\n",
    "Concatenation means joining strings end-to-end. This is most commonly done using the + operator."
   ]
  },
  {
   "cell_type": "code",
   "execution_count": 8,
   "id": "68f9ec6b",
   "metadata": {},
   "outputs": [
    {
     "name": "stdout",
     "output_type": "stream",
     "text": [
      "concatenated result: ajay mokta\n"
     ]
    }
   ],
   "source": [
    "first_name=\"ajay\"\n",
    "last_name=\"mokta\"\n",
    "# Use the '+' operator to concatenate the two strings\n",
    "full_name=first_name + \" \"+last_name\n",
    "print(f\"concatenated result: {full_name}\")"
   ]
  },
  {
   "cell_type": "code",
   "execution_count": null,
   "id": "508e11da",
   "metadata": {},
   "outputs": [],
   "source": []
  },
  {
   "cell_type": "markdown",
   "id": "f2d2a927",
   "metadata": {},
   "source": [
    "30. Extract the first 5 characters of the string \"Unisole Empower\".\n",
    "\n",
    "This uses string slicing, a powerful technique to extract a part of a string.\n",
    "\n",
    "Concept: Slicing uses the format [start:end]. The character at the start index is included, but the character at the end index is excluded (it's non-inclusive).\n",
    "\n",
    "Indices: String indices start at 0.\n",
    "\n",
    "To get the first 5 characters (index 0, 1, 2, 3, 4), the slice needs to go up to index 5.\n",
    "\n",
    "[0:5] or simply [:5]"
   ]
  },
  {
   "cell_type": "code",
   "execution_count": 9,
   "id": "5eb824c6",
   "metadata": {},
   "outputs": [
    {
     "name": "stdout",
     "output_type": "stream",
     "text": [
      "original string: Unisole Empower\n",
      "first 5 character: Uniso\n"
     ]
    }
   ],
   "source": [
    "text=\"Unisole Empower\"\n",
    "# slicing from the start(index 0) up to, but not including, index 5.as_integer_ratio\n",
    "first_five_character=text[0:5]\n",
    "print(f\"original string: {text}\")\n",
    "print(f\"first 5 character: {first_five_character}\")"
   ]
  },
  {
   "cell_type": "code",
   "execution_count": null,
   "id": "f83fe461",
   "metadata": {},
   "outputs": [],
   "source": []
  },
  {
   "cell_type": "markdown",
   "id": "2cdd9394",
   "metadata": {},
   "source": [
    "31. Extract the last 4 characters of the string \"DataScience\".\n",
    "\n",
    "We can use negative indexing for slicing, which starts counting from the end of the string. The last character is index -1.\n",
    "\n",
    "Indices: The last 4 characters are at indices -4, -3, -2, and -1.\n",
    "\n",
    "Slice: To include the last character (-1) and everything before it, we omit the end index: [-4:]"
   ]
  },
  {
   "cell_type": "code",
   "execution_count": 10,
   "id": "ee3457be",
   "metadata": {},
   "outputs": [
    {
     "name": "stdout",
     "output_type": "stream",
     "text": [
      "original string: DataScience\n",
      "Last four characters: ence\n"
     ]
    }
   ],
   "source": [
    "text=\"DataScience\"\n",
    "# slicing from index -4 until the end of the string\n",
    "last_four_chars=text[-4:]\n",
    "print(f\"original string: {text}\")\n",
    "print(f\"Last four characters: {last_four_chars}\")"
   ]
  },
  {
   "cell_type": "code",
   "execution_count": null,
   "id": "a494cd27",
   "metadata": {},
   "outputs": [],
   "source": []
  },
  {
   "cell_type": "markdown",
   "id": "13fafb9d",
   "metadata": {},
   "source": [
    "32. Write a program to reverse a string.\n",
    "\n",
    "String reversal is a common task, often achieved using a special slicing technique called the step or stride.\n",
    "\n",
    "Slice Format: [start:end:step]\n",
    "\n",
    "Reversal Trick: Using a step of -1 tells Python to read the string backwards from the start to the end."
   ]
  },
  {
   "cell_type": "code",
   "execution_count": 11,
   "id": "156852fd",
   "metadata": {},
   "outputs": [
    {
     "name": "stdout",
     "output_type": "stream",
     "text": [
      "original: Dynamic Typing\n",
      "Reversed: gnipyT cimanyD\n"
     ]
    }
   ],
   "source": [
    "original_string=\"Dynamic Typing\"\n",
    "# use the slice [::-1] to reverse the string\n",
    "reversed_string=original_string[::-1]\n",
    "print(f\"original: {original_string}\")\n",
    "print(f\"Reversed: {reversed_string}\")"
   ]
  },
  {
   "cell_type": "code",
   "execution_count": null,
   "id": "7a8b3540",
   "metadata": {},
   "outputs": [],
   "source": []
  },
  {
   "cell_type": "markdown",
   "id": "0b99a188",
   "metadata": {},
   "source": [
    "33. Check if a substring \"Empower\" exists in \"Unisole Empower\".\n",
    "\n",
    "We can check for the presence of a substring using the in operator, which returns a boolean value (True or False)."
   ]
  },
  {
   "cell_type": "code",
   "execution_count": 12,
   "id": "20fd17dd",
   "metadata": {},
   "outputs": [
    {
     "name": "stdout",
     "output_type": "stream",
     "text": [
      "Is Empower present? True\n"
     ]
    }
   ],
   "source": [
    "main_string= \"Unisole Empower\"\n",
    "substring=\"Empower\"\n",
    "\n",
    "# the \"in\" operator checks if the sub_string exists within the main_string\n",
    "is_present= substring in main_string\n",
    "print(f\"Is {substring} present? {is_present}\")"
   ]
  },
  {
   "cell_type": "code",
   "execution_count": null,
   "id": "37b55336",
   "metadata": {},
   "outputs": [],
   "source": []
  },
  {
   "cell_type": "markdown",
   "id": "418508ff",
   "metadata": {},
   "source": [
    "34. Replace \"Python\" with \"Data Science\" in the string \"I am learning Python\".\n",
    "\n",
    "The .replace() method searches for all occurrences of a specified substring and replaces them with a new substring.\n",
    "\n",
    "Syntax: string.replace(\"old_text\", \"new_text\")\n",
    "\n",
    "Key Concept: Since strings are immutable, this method does not change the original string; it returns a new string with the replacements made."
   ]
  },
  {
   "cell_type": "code",
   "execution_count": 14,
   "id": "c5974066",
   "metadata": {},
   "outputs": [
    {
     "name": "stdout",
     "output_type": "stream",
     "text": [
      "new sentence is: I am leraning Data science\n"
     ]
    }
   ],
   "source": [
    "original_sentence=\"I am leraning Python\"\n",
    "## replace all occurrences of \"Python\" with \"Data Science\"\n",
    "new_sentence=original_sentence.replace(\"Python\",\"Data science\")\n",
    "print(f\"new sentence is: {new_sentence}\")"
   ]
  },
  {
   "cell_type": "code",
   "execution_count": null,
   "id": "02f00fc2",
   "metadata": {},
   "outputs": [],
   "source": []
  },
  {
   "cell_type": "markdown",
   "id": "7c271b96",
   "metadata": {},
   "source": [
    "35. Remove spaces from the string \" Hello World \".\n",
    "The .strip() method is used to remove leading (at the start) and trailing (at the end) whitespace (spaces, tabs, newlines) from a string.\n",
    "\n",
    ".lstrip(): Removes leading (left) spaces only.\n",
    "\n",
    ".rstrip(): Removes trailing (right) spaces only."
   ]
  },
  {
   "cell_type": "code",
   "execution_count": 22,
   "id": "3f108a25",
   "metadata": {},
   "outputs": [
    {
     "name": "stdout",
     "output_type": "stream",
     "text": [
      "orginal string length:15\n",
      "clean string lenght:12\n"
     ]
    }
   ],
   "source": [
    "messy_string=\"  hello world. \"\n",
    "## use .strip() to remove all leading and trailing whitespaces\n",
    "clean_string=messy_string.strip()\n",
    "print(f\"orginal string length:{len(messy_string)}\")\n",
    "print(f\"clean string lenght:{len(clean_string)}\")"
   ]
  },
  {
   "cell_type": "code",
   "execution_count": null,
   "id": "247370eb",
   "metadata": {},
   "outputs": [],
   "source": []
  },
  {
   "cell_type": "markdown",
   "id": "fae90f64",
   "metadata": {},
   "source": [
    "36. Split the string \"apple,banana,mango\" into a list.\n",
    "The .split() method breaks a string into a list of substrings based on a specified delimiter (separator).\n",
    "\n",
    "Syntax: string.split(delimiter)\n",
    "\n",
    "Concept: This is essential for parsing data that is separated by a comma (CSV), a tab, or any other character."
   ]
  },
  {
   "cell_type": "code",
   "execution_count": 23,
   "id": "35ed401b",
   "metadata": {},
   "outputs": [
    {
     "name": "stdout",
     "output_type": "stream",
     "text": [
      "['apple', 'banana', 'mango']\n"
     ]
    }
   ],
   "source": [
    "fruits_string=\"apple,banana,mango\"\n",
    "delimeter=\",\"\n",
    "# use split() with the commaas the delimeter\n",
    "fruits_list=fruits_string.split(delimeter)\n",
    "print(fruits_list)"
   ]
  },
  {
   "cell_type": "code",
   "execution_count": null,
   "id": "059743f6",
   "metadata": {},
   "outputs": [],
   "source": []
  },
  {
   "cell_type": "markdown",
   "id": "4146fb2d",
   "metadata": {},
   "source": [
    "37. Join the list [\"AI\", \"ML\", \"DL\"] into a string with a separator.\n",
    "\n",
    "The .join() method is the opposite of .split(). It concatenates a list of strings into a single string, inserting the specified separator between each element.\n",
    "\n",
    "Syntax: separator.join(list_of_strings)\n",
    "\n",
    "Note: The method is called on the separator string, not the list."
   ]
  },
  {
   "cell_type": "code",
   "execution_count": 28,
   "id": "0daac466",
   "metadata": {},
   "outputs": [
    {
     "name": "stdout",
     "output_type": "stream",
     "text": [
      "AI|ML|DL\n"
     ]
    }
   ],
   "source": [
    "#syntax: seprator.join(list_of _string)\n",
    "technologies_list=[\"AI\",\"ML\",\"DL\"]\n",
    "separator=\"|\"\n",
    "## use the separator string to call join() on he list \n",
    "joined_string=separator.join(technologies_list)\n",
    "print(joined_string)"
   ]
  },
  {
   "cell_type": "code",
   "execution_count": null,
   "id": "3838aa9a",
   "metadata": {},
   "outputs": [],
   "source": []
  },
  {
   "cell_type": "markdown",
   "id": "cc8df97b",
   "metadata": {},
   "source": [
    "38. Write a program to count the number of vowels in a string.\n",
    "This requires iteration (looping) through the string, checking each character against a set of vowels, and keeping a running count."
   ]
  },
  {
   "cell_type": "code",
   "execution_count": 30,
   "id": "dbe7873b",
   "metadata": {},
   "outputs": [
    {
     "name": "stdout",
     "output_type": "stream",
     "text": [
      "input string is: programming is fun\n",
      "count the nubmers of vowels:18\n"
     ]
    }
   ],
   "source": [
    "input_string=\"programming is fun\"\n",
    "#define the set of vowels(can be lowercase or uppercase)\n",
    "vowels=\"aeiouAEIOU\"\n",
    "count=0\n",
    "for i in input_string:\n",
    "    if i in input_string:\n",
    "        count+=1\n",
    "print(f\"input string is: {input_string}\")\n",
    "print(f\"count the nubmers of vowels:{count}\")"
   ]
  },
  {
   "cell_type": "code",
   "execution_count": null,
   "id": "7db8a5d2",
   "metadata": {},
   "outputs": [],
   "source": []
  },
  {
   "cell_type": "markdown",
   "id": "4e7c71aa",
   "metadata": {},
   "source": [
    "39. Check if a string is palindrome or not.\n",
    "A palindrome is a word, phrase, or sequence that reads the same backward as forward (e.g., \"madam\" or \"level\"). We can check this by comparing the original string to its reversed version (from question 32).\n"
   ]
  },
  {
   "cell_type": "code",
   "execution_count": 33,
   "id": "6ecc3b48",
   "metadata": {},
   "outputs": [
    {
     "name": "stdout",
     "output_type": "stream",
     "text": [
      "level is pallindrome:True\n",
      "python is pallindrome: False\n"
     ]
    }
   ],
   "source": [
    "word1=\"level\"\n",
    "word2=\"python\"\n",
    "def is_pallindrome(text):\n",
    "    # 1. clean the text (convert to lowecase and remove spaces for better check)\n",
    "    clean_text=text.lower().replace(\" \",\"\")\n",
    "    # 2. Reversed the cleaned text using slicing\n",
    "    reversed_text=clean_text[::-1]\n",
    "    # 3. compare the original clean text with the reversed text\n",
    "    return clean_text==reversed_text\n",
    "print(f\"{word1} is pallindrome:{is_pallindrome(word1)}\")\n",
    "print(f\"{word2} is pallindrome: {is_pallindrome(word2)}\")"
   ]
  },
  {
   "cell_type": "code",
   "execution_count": null,
   "id": "2f7e7f6f",
   "metadata": {},
   "outputs": [],
   "source": []
  },
  {
   "cell_type": "markdown",
   "id": "68677530",
   "metadata": {},
   "source": [
    "40. Write a program to print each character of a string on a new line.\n",
    "\n",
    "We use a for loop to iterate over the string. In Python, looping over a string automatically yields each character sequentially."
   ]
  },
  {
   "cell_type": "code",
   "execution_count": 34,
   "id": "c76c0e67",
   "metadata": {},
   "outputs": [
    {
     "name": "stdout",
     "output_type": "stream",
     "text": [
      "printing characters...\n",
      "C\n",
      "O\n",
      "D\n",
      "E\n"
     ]
    }
   ],
   "source": [
    "data_string=\"CODE\"\n",
    "print(\"printing characters...\")\n",
    "#loop through the string\n",
    "for char in data_string:\n",
    "    print(char)# print function automatically adds a newline character at the end\n",
    "    "
   ]
  },
  {
   "cell_type": "code",
   "execution_count": null,
   "id": "c9da3d04",
   "metadata": {},
   "outputs": [],
   "source": []
  },
  {
   "cell_type": "markdown",
   "id": "4dd373eb",
   "metadata": {},
   "source": [
    "41. Convert \"12345\" (string) into integer and perform addition with another integer.\n",
    "\n",
    "This is a critical example of type casting (int()) to enable arithmetic operations."
   ]
  },
  {
   "cell_type": "code",
   "execution_count": 36,
   "id": "a8c882a6",
   "metadata": {},
   "outputs": [
    {
     "name": "stdout",
     "output_type": "stream",
     "text": [
      "print addition after conversion:12400\n",
      "concatenation result is diffferent: 1234555\n"
     ]
    }
   ],
   "source": [
    "string_number=\"12345\"\n",
    "integer_to_add=55\n",
    "# 1. convert the string to an integer using int()\n",
    "converted_number=int(string_number)\n",
    "# 2. perform the arithmatic addition, which is now possible\n",
    "result=converted_number+integer_to_add\n",
    "# 3. proof that string addition(concatnation) is different\n",
    "concatenation_result=string_number + str(integer_to_add)\n",
    "print(f\"print addition after conversion:{result}\")\n",
    "print(f\"concatenation result is diffferent: {concatenation_result}\")"
   ]
  },
  {
   "cell_type": "code",
   "execution_count": null,
   "id": "9b7a9839",
   "metadata": {},
   "outputs": [],
   "source": []
  },
  {
   "cell_type": "markdown",
   "id": "5b79923b",
   "metadata": {},
   "source": [
    "42. Find the index of \"E\" in \"Empower\".\n",
    "The .find() method (or .index()) is used to locate the starting position (index) of a substring within a string.\n",
    "\n",
    "Concept: Indexing starts at 0.\n",
    "\n",
    ".find(): Returns the index of the first occurrence. Returns -1 if the substring is not found.\n",
    "\n",
    ".index(): Returns the index of the first occurrence. Raises a ValueError if the substring is not found."
   ]
  },
  {
   "cell_type": "code",
   "execution_count": 42,
   "id": "1553670c",
   "metadata": {},
   "outputs": [
    {
     "name": "stdout",
     "output_type": "stream",
     "text": [
      "index of  E in Empower: 0\n",
      "index of e in Empower: 5\n"
     ]
    }
   ],
   "source": [
    "word=\"Empower\"\n",
    "## find the index of the first 'E'\n",
    "index_of_E=word.find('E')\n",
    "print(f\"index of  E in Empower: {index_of_E}\")\n",
    "## find the index of lowercase 'e'\n",
    "index_of_e=word.find(\"e\")\n",
    "print(f\"index of e in Empower: {index_of_e}\")"
   ]
  },
  {
   "cell_type": "code",
   "execution_count": null,
   "id": "22595b53",
   "metadata": {},
   "outputs": [],
   "source": []
  },
  {
   "cell_type": "markdown",
   "id": "2039a204",
   "metadata": {},
   "source": [
    "43. Use slicing to print characters from index 2 to 6 of \"DataScience\".\n",
    "\n",
    "As established in question 30, string slicing uses the format [start:end], where start is inclusive and end is exclusive.\n",
    "\n",
    "To include indices 2, 3, 4, 5, and 6, the slice must go up to (but not include) index 7.\n",
    "\n",
    "Slice: [2:7]"
   ]
  },
  {
   "cell_type": "code",
   "execution_count": 44,
   "id": "a3380ada",
   "metadata": {},
   "outputs": [
    {
     "name": "stdout",
     "output_type": "stream",
     "text": [
      "original: 'dataScience'\n",
      "slice [2:7]: 'taSci'\n"
     ]
    }
   ],
   "source": [
    "text=\"dataScience\"\n",
    "# Indices: 0  1  2  3  4  5  6  7  8  9 10\n",
    "# Chars:   D  a  t  a  S  c  i  e  n  c  e\n",
    "# slice from index 2 (t) up to index 7 (e is excluded)\n",
    "sub_string=text[2:7]\n",
    "print(f\"original: '{text}'\")\n",
    "print(f\"slice [2:7]: '{sub_string}'\")"
   ]
  },
  {
   "cell_type": "code",
   "execution_count": null,
   "id": "590cd708",
   "metadata": {},
   "outputs": [],
   "source": []
  },
  {
   "cell_type": "markdown",
   "id": "b428599a",
   "metadata": {},
   "source": [
    "44. Demonstrate the difference between single quotes, double quotes, and triple quotes.\n",
    "\n",
    "The primary difference lies in handling quotes within the string and dealing with multiple lines.\n",
    "\n",
    "Single Quotes ('): Standard, simple strings.\n",
    "\n",
    "example: 'This is a standard string.'\n",
    "\n",
    "Double Quotes (\"): Standard strings, but allows single quotes (apostrophes) inside without escaping.\n",
    "\n",
    "example: \"I'm a happy coder.\"\n",
    "\n",
    "Triple Quotes (\"\"\" or '''): Multi-line strings, or strings containing both single and double quotes. Used for documentation (docstrings).\n",
    "\n",
    "example: \"\"\"Text spans\n",
    "             \n",
    "             \\nlines.\"\"\"\n"
   ]
  },
  {
   "cell_type": "code",
   "execution_count": 45,
   "id": "a9966791",
   "metadata": {},
   "outputs": [
    {
     "name": "stdout",
     "output_type": "stream",
     "text": [
      "Single: It's a sunny day.\n",
      "Double: It's a sunny day.\n",
      "Triple:\n",
      "\n",
      "This\n",
      "text\n",
      "is\n",
      "multi-line!\n",
      "\n"
     ]
    }
   ],
   "source": [
    "# Single quotes (need a backslash to include an apostrophe)\n",
    "quote1 = 'It\\'s a sunny day.'\n",
    "print(f\"Single: {quote1}\")\n",
    "\n",
    "# Double quotes (allows an apostrophe without a backslash)\n",
    "quote2 = \"It's a sunny day.\"\n",
    "print(f\"Double: {quote2}\")\n",
    "\n",
    "# Triple quotes (used for multi-line text)\n",
    "quote3 = \"\"\"\n",
    "This\n",
    "text\n",
    "is\n",
    "multi-line!\n",
    "\"\"\"\n",
    "print(f\"Triple:\\n{quote3}\")"
   ]
  },
  {
   "cell_type": "code",
   "execution_count": null,
   "id": "57d26288",
   "metadata": {},
   "outputs": [],
   "source": []
  },
  {
   "cell_type": "markdown",
   "id": "d078e47b",
   "metadata": {},
   "source": [
    "45. Format a string using the .format() method. Example: \"My name is {}, I am {} years old\".\n",
    "\n",
    "The .format() method is the classic way (pre-f-strings) to insert values into placeholders ({}) within a string.\n",
    "\n",
    "Concept: It separates the string template from the data, making templates reusable. The values are passed as arguments to the method."
   ]
  },
  {
   "cell_type": "code",
   "execution_count": 46,
   "id": "a1018ba5",
   "metadata": {},
   "outputs": [
    {
     "name": "stdout",
     "output_type": "stream",
     "text": [
      "Formatted String: My name is Charlie, I am 35 years old.\n"
     ]
    }
   ],
   "source": [
    "name = \"Charlie\"\n",
    "age = 35\n",
    "\n",
    "# 1. Define the string template with placeholders {}\n",
    "template = \"My name is {}, I am {} years old.\"\n",
    "\n",
    "# 2. Call .format() on the template, passing the variables in order\n",
    "formatted_string = template.format(name, age)\n",
    "\n",
    "print(f\"Formatted String: {formatted_string}\")"
   ]
  },
  {
   "cell_type": "code",
   "execution_count": null,
   "id": "caba24f7",
   "metadata": {},
   "outputs": [],
   "source": []
  },
  {
   "cell_type": "markdown",
   "id": "ff21b93b",
   "metadata": {},
   "source": [
    "46. Count how many times \"a\" appears in \"banana\".\n",
    "The .count() method returns the number of non-overlapping occurrences of a specified substring within a string."
   ]
  },
  {
   "cell_type": "code",
   "execution_count": 49,
   "id": "127a62e4",
   "metadata": {},
   "outputs": [
    {
     "name": "stdout",
     "output_type": "stream",
     "text": [
      "a appears 3 times in the banana\n"
     ]
    }
   ],
   "source": [
    "word=\"banana\"\n",
    "char_to_count=\"a\"\n",
    "# use .count() to find the. total occurrences\n",
    "count_a=word.count(char_to_count)\n",
    "print(f\"a appears {count_a} times in the {word}\")"
   ]
  },
  {
   "cell_type": "code",
   "execution_count": null,
   "id": "9d2f1c60",
   "metadata": {},
   "outputs": [],
   "source": []
  },
  {
   "cell_type": "markdown",
   "id": "42ee9b0b",
   "metadata": {},
   "source": [
    "47. Write a program to check if a string starts with \"Uni\" and ends with \"wer\".\n",
    "Python provides two highly specific string methods for these checks:\n",
    "\n",
    ".startswith(prefix): Returns True if the string begins with the specified prefix.\n",
    "\n",
    ".endswith(suffix): Returns True if the string ends with the specified suffix."
   ]
  },
  {
   "cell_type": "code",
   "execution_count": 52,
   "id": "9020a01d",
   "metadata": {},
   "outputs": [
    {
     "name": "stdout",
     "output_type": "stream",
     "text": [
      "original string is : Unisole Empower\n",
      "is string start with Uni: True\n",
      "is ends with wer: True\n"
     ]
    }
   ],
   "source": [
    "text=\"Unisole Empower\"\n",
    "# check if the string with \"Uni\"\n",
    "starts_with_Uni=text.startswith(\"Uni\")\n",
    "# check if the string starts with \"wer\"\n",
    "ends_with_wer=text.endswith(\"wer\")\n",
    "print(f\"original string is : {text}\")\n",
    "print(f\"is string start with Uni: {starts_with_Uni}\")\n",
    "print(f\"is ends with wer: {ends_with_wer}\")\n"
   ]
  },
  {
   "cell_type": "code",
   "execution_count": null,
   "id": "e5301c12",
   "metadata": {},
   "outputs": [],
   "source": []
  },
  {
   "cell_type": "markdown",
   "id": "e63bf131",
   "metadata": {},
   "source": [
    "48. Explain string immutability.\n",
    "Immutability means that a data object cannot be changed after it is created. Strings in Python are immutable.\n",
    "\n",
    "Concept: When you perform an operation that seems to change a string (like concatenation or replacement), Python does not modify the original string object in memory. Instead, it creates an entirely new string object that holds the modified content, and the variable is then updated to reference this new object.\n",
    "\n",
    "Why is this important? Immutability makes strings predictable and thread-safe. It also allows Python to optimize memory usage for common string values."
   ]
  },
  {
   "cell_type": "code",
   "execution_count": 53,
   "id": "b132be07",
   "metadata": {},
   "outputs": [
    {
     "name": "stdout",
     "output_type": "stream",
     "text": [
      "initial ID(memory address): 4394753392\n",
      "new string value: old stringnew part\n",
      "new ID (memory Address): 4401503024\n"
     ]
    }
   ],
   "source": [
    "s=\"old string\"\n",
    "print(f\"initial ID(memory address): {id(s)}\")\n",
    "# operation that appears to change 's'\n",
    "s=s+\"new part\"\n",
    "print(f\"new string value: {s}\")\n",
    "print(f\"new ID (memory Address): {id(s)}\")\n"
   ]
  },
  {
   "cell_type": "code",
   "execution_count": null,
   "id": "88f971cc",
   "metadata": {},
   "outputs": [],
   "source": []
  },
  {
   "cell_type": "markdown",
   "id": "9c7ca756",
   "metadata": {},
   "source": [
    "49. Write a program to remove all digits from the string \"Unisoft123Empower456\".\n",
    "\n",
    "We can achieve this by iterating through the string and checking each character using the string method .isdigit(), keeping only the characters that are not digits."
   ]
  },
  {
   "cell_type": "code",
   "execution_count": 54,
   "id": "d8c61d24",
   "metadata": {},
   "outputs": [
    {
     "name": "stdout",
     "output_type": "stream",
     "text": [
      "original string:Unisole123Empower546\n",
      "string without string: UnisoleEmpower\n"
     ]
    }
   ],
   "source": [
    "mixed_string=\"Unisole123Empower546\"\n",
    "result_string=\"\" # initialize a empty string\n",
    "for char in mixed_string:\n",
    "    #check if the character is not a digit \n",
    "    if not char.isdigit():\n",
    "        result_string+=char\n",
    "\n",
    "print(f\"original string:{mixed_string}\")\n",
    "print(f\"string without string: {result_string}\")"
   ]
  },
  {
   "cell_type": "code",
   "execution_count": null,
   "id": "e564d00f",
   "metadata": {},
   "outputs": [],
   "source": []
  },
  {
   "cell_type": "markdown",
   "id": "01a15a46",
   "metadata": {},
   "source": [
    "50. Write a program to check if a string contains only alphabets.\n",
    "\n",
    "The .isalpha() method checks if a string contains only alphabetic characters (a-z and A-Z) and is not empty. If it contains numbers, spaces, or punctuation, it returns False."
   ]
  },
  {
   "cell_type": "code",
   "execution_count": 56,
   "id": "671a56ad",
   "metadata": {},
   "outputs": [
    {
     "name": "stdout",
     "output_type": "stream",
     "text": [
      "'helloworld' contains only alphabets:  True\n",
      " 'hello world'contains only alphabets:False\n",
      " 'Unisole Empower' coontains only alphabets: False \n"
     ]
    }
   ],
   "source": [
    "text1=\"helloworld\"\n",
    "text2=\"hello world\" # contains a space\n",
    "text3=\"hello123\" # contains digits\n",
    "\n",
    "print(f\"'{text1}' contains only alphabets:  {text1.isalpha()}\")\n",
    "print(f\" '{text2}'contains only alphabets:{text2.isalpha()}\")\n",
    "print(f\" '{text}' coontains only alphabets: {text3.isalpha()} \") "
   ]
  },
  {
   "cell_type": "code",
   "execution_count": null,
   "id": "704bd8a5",
   "metadata": {},
   "outputs": [],
   "source": []
  },
  {
   "cell_type": "markdown",
   "id": "ff4906af",
   "metadata": {},
   "source": [
    "51. Write a program to check if a string contains only digits.\n",
    "The .isdigit() method checks if a string contains only digits (0-9) and is not empty."
   ]
  },
  {
   "cell_type": "code",
   "execution_count": 57,
   "id": "19e611d2",
   "metadata": {},
   "outputs": [
    {
     "name": "stdout",
     "output_type": "stream",
     "text": [
      "'12345' contains only digits: True\n",
      "'123.45' contains only digits: False\n",
      "'a123' contains only digits: False\n"
     ]
    }
   ],
   "source": [
    "data1 = \"12345\"\n",
    "data2 = \"123.45\" # Contains a decimal point (which is not a digit)\n",
    "data3 = \"a123\"\n",
    "\n",
    "print(f\"'{data1}' contains only digits: {data1.isdigit()}\") # True\n",
    "print(f\"'{data2}' contains only digits: {data2.isdigit()}\") # False (because of '.')\n",
    "print(f\"'{data3}' contains only digits: {data3.isdigit()}\") # False (because of 'a')"
   ]
  },
  {
   "cell_type": "code",
   "execution_count": null,
   "id": "0c5bd101",
   "metadata": {},
   "outputs": [],
   "source": []
  },
  {
   "cell_type": "markdown",
   "id": "486959ed",
   "metadata": {},
   "source": [
    "52. Create a multiline string and print it.\n",
    "A multiline string is created using triple quotes (\"\"\" or '''). This allows the string to span across multiple lines in your source code, including the newline characters in the resulting string."
   ]
  },
  {
   "cell_type": "code",
   "execution_count": 58,
   "id": "0cb4e3f4",
   "metadata": {},
   "outputs": [
    {
     "name": "stdout",
     "output_type": "stream",
     "text": [
      "--- Multiline String Output ---\n",
      "\n",
      "This is the first line.\n",
      "This is the second line.\n",
      "    This line is indented (spaces are preserved).\n",
      "The end.\n",
      "\n"
     ]
    }
   ],
   "source": [
    "# Use triple double quotes to start and end the string\n",
    "multiline_text = \"\"\"\n",
    "This is the first line.\n",
    "This is the second line.\n",
    "    This line is indented (spaces are preserved).\n",
    "The end.\n",
    "\"\"\"\n",
    "# Note: The newline characters and indentation are part of the string.\n",
    "\n",
    "print(\"--- Multiline String Output ---\")\n",
    "# Print the variable, which outputs all the lines\n",
    "print(multiline_text)"
   ]
  },
  {
   "cell_type": "code",
   "execution_count": null,
   "id": "2f11d134",
   "metadata": {},
   "outputs": [],
   "source": []
  },
  {
   "cell_type": "markdown",
   "id": "8d6e7510",
   "metadata": {},
   "source": [
    "53. Write a program that takes a string input from the user and prints it in reverse.\n",
    "This combines two concepts: getting user input using the input() function, and reversing the string using the slicing trick [::-1]."
   ]
  },
  {
   "cell_type": "code",
   "execution_count": 59,
   "id": "709a6248",
   "metadata": {},
   "outputs": [
    {
     "name": "stdout",
     "output_type": "stream",
     "text": [
      "Original: mokta\n",
      "Reversed: atkom\n"
     ]
    }
   ],
   "source": [
    "# 1. Take input from the user\n",
    "user_input = input(\"Enter a word or phrase: \")\n",
    "# The input() function pauses the program and waits for the user to type something and press Enter.\n",
    "\n",
    "# 2. Reverse the string using the [::-1] slice\n",
    "reversed_string = user_input[::-1]\n",
    "# [start:end:step], where -1 step reads the string backward.\n",
    "\n",
    "# 3. Print the results\n",
    "print(f\"Original: {user_input}\")\n",
    "print(f\"Reversed: {reversed_string}\")\n",
    "\n",
    "# Example Input: code\n",
    "# Example Output: edoc"
   ]
  },
  {
   "cell_type": "code",
   "execution_count": null,
   "id": "2ef57ee4",
   "metadata": {},
   "outputs": [],
   "source": []
  },
  {
   "cell_type": "markdown",
   "id": "c93e8a2d",
   "metadata": {},
   "source": [
    "54. Explain raw strings with an example.\n",
    "A raw string is created by prefixing the string literal with the letter r or R (e.g., r\"C:\\Users\\Name\").\n",
    "\n",
    "Concept: In a regular Python string, the backslash (\\) is an escape character used to insert special characters (e.g., \\n for a newline, \\t for a tab). A raw string treats the backslash as a literal character, ignoring its special meaning.\n",
    "\n",
    "Primary Use Case: Defining file paths (especially on Windows) or regular expressions, where backslashes are common and need to be preserved exactly as typed."
   ]
  },
  {
   "cell_type": "code",
   "execution_count": 65,
   "id": "f051a617",
   "metadata": {},
   "outputs": [
    {
     "name": "stdout",
     "output_type": "stream",
     "text": [
      "Raw String: C:\\Users\\new\\text.txt\n"
     ]
    }
   ],
   "source": [
    "# 1. Regular String (backslashes are interpreted as escape sequences)\n",
    "#regular_path = \"C:\\Users\\new\\text.txt\"\n",
    "#print(f\"Regular String: {regular_path}\") \n",
    "# Notice how '\\n' became a newline, which is incorrect for a path.\n",
    "\n",
    "# 2. Raw String (backslashes are treated literally)\n",
    "raw_path = r\"C:\\Users\\new\\text.txt\" \n",
    "print(f\"Raw String: {raw_path}\") \n",
    "# The path is preserved exactly as written.\n",
    "\n",
    "# The 'r' prefix effectively turns off Python's escaping mechanism for that string."
   ]
  },
  {
   "cell_type": "code",
   "execution_count": null,
   "id": "8973e7f3",
   "metadata": {},
   "outputs": [],
   "source": []
  },
  {
   "cell_type": "markdown",
   "id": "ccd62e06",
   "metadata": {},
   "source": [
    "55. Write a program to capitalize the first letter of each word in a string.\n",
    "\n",
    "This is exactly what the .title() string method does. It converts a string into title case, where the first character of every word is converted to uppercase and all other characters are converted to lowercase."
   ]
  },
  {
   "cell_type": "code",
   "execution_count": 66,
   "id": "6b02be21",
   "metadata": {},
   "outputs": [
    {
     "name": "stdout",
     "output_type": "stream",
     "text": [
      "Original: this is a great python question.\n",
      "Title Cased: This Is A Great Python Question.\n"
     ]
    }
   ],
   "source": [
    "sentence = \"this is a great python question.\"\n",
    "\n",
    "# Use the .title() method\n",
    "title_cased_sentence = sentence.title()\n",
    "\n",
    "print(f\"Original: {sentence}\")\n",
    "print(f\"Title Cased: {title_cased_sentence}\") \n",
    "# Output: This Is A Great Python Question."
   ]
  },
  {
   "cell_type": "code",
   "execution_count": null,
   "id": "a110a2de",
   "metadata": {},
   "outputs": [],
   "source": []
  },
  {
   "cell_type": "markdown",
   "id": "868459ef",
   "metadata": {},
   "source": [
    "56. Check if a string is a valid email address.\n",
    "Checking for a valid email address requires ensuring the string follows a specific pattern (e.g., name@domain.ext). The most robust way to do this in Python is using regular expressions (regex), via the built-in re module.\n",
    "\n",
    "Concept: Regular expressions define complex search patterns. We'll use a simplified pattern that checks for one or more characters, followed by @, followed by one or more characters, followed by a dot, followed by two or more letters."
   ]
  },
  {
   "cell_type": "code",
   "execution_count": 67,
   "id": "0abdc6c1",
   "metadata": {},
   "outputs": [
    {
     "name": "stdout",
     "output_type": "stream",
     "text": [
      "'coder@python.org' is valid: True\n",
      "'invalid-email' is valid: False\n"
     ]
    }
   ],
   "source": [
    "import re # Import the regular expression module\n",
    "\n",
    "def is_valid_email(email):\n",
    "    # Simplified Regex pattern for email validity: \n",
    "    # ^: start of string, [^@]+: one or more characters that are NOT @\n",
    "    # @: literal @ sign, [^@]+\\.: one or more chars followed by a dot\n",
    "    # [a-z]{2,3}$: 2-3 letters at the end\n",
    "    email_pattern = r'[^@]+@[^@]+\\.[a-z]{2,3}' \n",
    "    \n",
    "    # re.fullmatch() attempts to match the pattern to the ENTIRE string.\n",
    "    # If a match is found, it returns a match object (True); otherwise, None (False).\n",
    "    if re.fullmatch(email_pattern, email):\n",
    "        return True\n",
    "    else:\n",
    "        return False\n",
    "\n",
    "test_email_1 = \"coder@python.org\"\n",
    "test_email_2 = \"invalid-email\"\n",
    "\n",
    "print(f\"'{test_email_1}' is valid: {is_valid_email(test_email_1)}\") # True\n",
    "print(f\"'{test_email_2}' is valid: {is_valid_email(test_email_2)}\") # False"
   ]
  },
  {
   "cell_type": "code",
   "execution_count": null,
   "id": "45222e0b",
   "metadata": {},
   "outputs": [],
   "source": []
  },
  {
   "cell_type": "markdown",
   "id": "31318e46",
   "metadata": {},
   "source": [
    "57. Extract the protocol (http or https) from a URL string.\n",
    "We can solve this using the string method .split() on the separator ://. The protocol will be the first element of the resulting list."
   ]
  },
  {
   "cell_type": "code",
   "execution_count": 68,
   "id": "d2ce1677",
   "metadata": {},
   "outputs": [
    {
     "name": "stdout",
     "output_type": "stream",
     "text": [
      "URL: https://www.google.com/search\n",
      "Extracted protocol: https\n"
     ]
    }
   ],
   "source": [
    "url = \"https://www.google.com/search\"\n",
    "# Use split(://) to break string into two parts \n",
    "parts=url.split(\"://\")\n",
    "# parts will be ['https', 'www.google.com/search']\n",
    "# the protocol is the first element at index 0\n",
    "protocol=parts[0]\n",
    "print(f\"URL: {url}\")\n",
    "print(f\"Extracted protocol: {protocol}\")"
   ]
  },
  {
   "cell_type": "code",
   "execution_count": null,
   "id": "f06de369",
   "metadata": {},
   "outputs": [],
   "source": []
  },
  {
   "cell_type": "markdown",
   "id": "846f17b7",
   "metadata": {},
   "source": [
    "58. Find the frequency of each character in a string.\n",
    "This requires iterating through the string and using a dictionary to store the count (frequency) of each character.\n",
    "\n",
    "Concept: A dictionary is perfect here because it stores key-value pairs, where the key is the character and the value is its count."
   ]
  },
  {
   "cell_type": "code",
   "execution_count": 71,
   "id": "11ff6372",
   "metadata": {},
   "outputs": [
    {
     "name": "stdout",
     "output_type": "stream",
     "text": [
      "string: programming\n",
      "character Frequencies:{'p': 1, 'r': 2, 'o': 1, 'g': 2, 'a': 1, 'm': 2, 'i': 1, 'n': 1}\n"
     ]
    }
   ],
   "source": [
    "text=\"programming\"\n",
    "frequency={} # initialize an empty dictionary\n",
    "# iterate over each character in the string\n",
    "for char in text:\n",
    "    if char in frequency:\n",
    "       frequency[char]+=1\n",
    "    else:\n",
    "        frequency[char]=1\n",
    "    \n",
    "print(f\"string: {text}\")\n",
    "print(f\"character Frequencies:{frequency}\")"
   ]
  },
  {
   "cell_type": "code",
   "execution_count": null,
   "id": "1706a8d4",
   "metadata": {},
   "outputs": [],
   "source": []
  },
  {
   "cell_type": "markdown",
   "id": "ce5912d7",
   "metadata": {},
   "source": [
    "text = \"programming\"\n",
    "\n",
    "Creates a string variable named text that holds the characters p-r-o-g-r-a-m-m-i-n-g.\n",
    "\n",
    "frequency = {}\n",
    "\n",
    "Creates an empty dictionary.\n",
    "\n",
    "This will map each character to how many times it appears, e.g. later it will look like {'p': 1, 'r': 2, ...}.\n",
    "\n",
    "for char in text:\n",
    "\n",
    "Starts a loop that goes through the string one character at a time, left to right.\n",
    "\n",
    "On each pass, char is the current character (first 'p', then 'r', then 'o', …).\n",
    "\n",
    "if char in frequency:\n",
    "\n",
    "Checks whether we have already seen this character.\n",
    "\n",
    "Dictionary membership test: True if a key char already exists in frequency.\n",
    "\n",
    "frequency[char] += 1\n",
    "\n",
    "(Runs only if the if above is True.)\n",
    "\n",
    "Increments the stored count for that character by 1.\n",
    "\n",
    "else:\n",
    "\n",
    "Runs when the character hasn’t been seen before (i.e., it’s not yet a key in the dictionary).\n",
    "\n",
    "frequency[char] = 1\n",
    "\n",
    "Creates a new key for this character and sets its count to 1 (first time we’ve seen it).\n",
    "\n",
    "(end of loop)\n",
    "\n",
    "Steps 4–7 repeat for every character in \"programming\" until all characters are processed.\n",
    "\n",
    "print(f\"string: {text}\")\n",
    "\n",
    "Prints the original string using an f-string (string formatting that inserts the value of text).\n",
    "\n",
    "print(f\"character Frequencies:{frequency}\")\n",
    "\n",
    "Prints the whole dictionary so you can see each character’s final count.\n",
    "\n",
    "Quick mini-run-through of the first few loop steps (just to connect it):\n",
    "\n",
    "See 'p': not in dict → add {'p': 1}\n",
    "\n",
    "See 'r': not in dict → {'p': 1, 'r': 1}\n",
    "\n",
    "See 'o': not in dict → {'p': 1, 'r': 1, 'o': 1}\n",
    "\n",
    "See 'g': not in dict → {'p': 1, 'r': 1, 'o': 1, 'g': 1}\n",
    "\n",
    "See 'r' again: in dict → increment → {'p': 1, 'r': 2, 'o': 1, 'g': 1}\n",
    "… and so on until the final result:\n",
    "{'p': 1, 'r': 2, 'o': 1, 'g': 2, 'a': 1, 'm': 2, 'i': 1, 'n': 1}."
   ]
  },
  {
   "cell_type": "markdown",
   "id": "9b9ab4ab",
   "metadata": {},
   "source": []
  },
  {
   "cell_type": "markdown",
   "id": "544a4ba8",
   "metadata": {},
   "source": [
    "59. Check if strings are anagrams.\n",
    "Anagrams are words or phrases formed by rearranging the letters of another, such as \"listen\" and \"silent.\" The key to checking this is: If two strings are anagrams, their sorted lists of characters must be identical."
   ]
  },
  {
   "cell_type": "code",
   "execution_count": 72,
   "id": "8dcfc396",
   "metadata": {},
   "outputs": [
    {
     "name": "stdout",
     "output_type": "stream",
     "text": [
      "'listen' and 'silent' are anagrams: True\n",
      "'python' and 'typhon' are anagrams: True\n"
     ]
    }
   ],
   "source": [
    "word1 = \"listen\"\n",
    "word2 = \"silent\"\n",
    "\n",
    "def are_anagrams(str1, str2):\n",
    "    # 1. Remove spaces and convert to lowercase for case-insensitive comparison\n",
    "    clean_str1 = str1.replace(\" \", \"\").lower()\n",
    "    clean_str2 = str2.replace(\" \", \"\").lower()\n",
    "    \n",
    "    # 2. Check if the lengths are different (a quick exit)\n",
    "    if len(clean_str1) != len(clean_str2):\n",
    "        return False\n",
    "    \n",
    "    # 3. Sort the characters of both strings and compare the resulting lists\n",
    "    # sorted() converts the string to a sorted list of characters.\n",
    "    return sorted(clean_str1) == sorted(clean_str2)\n",
    "\n",
    "print(f\"'{word1}' and '{word2}' are anagrams: {are_anagrams(word1, word2)}\") # True\n",
    "\n",
    "word3 = \"python\"\n",
    "word4 = \"typhon\" # Not a match\n",
    "print(f\"'{word3}' and '{word4}' are anagrams: {are_anagrams(word3, word4)}\") # False"
   ]
  },
  {
   "cell_type": "code",
   "execution_count": null,
   "id": "966a15c0",
   "metadata": {},
   "outputs": [],
   "source": []
  },
  {
   "cell_type": "markdown",
   "id": "03451265",
   "metadata": {},
   "source": [
    "60. Encode a string using a Caesar Cipher.\n",
    "The Caesar Cipher is a simple substitution cipher where each letter is shifted a fixed number of places down the alphabet. We will implement a shift of 3.\n",
    "\n",
    "Concept: Use the built-in functions ord() (converts character to its ASCII/Unicode number) and chr() (converts the number back to a character)."
   ]
  },
  {
   "cell_type": "code",
   "execution_count": 1,
   "id": "8c25de9c",
   "metadata": {},
   "outputs": [
    {
     "name": "stdout",
     "output_type": "stream",
     "text": [
      "Original: ABC XYZ\n",
      "Encoded (Shift +3): DEF ABC\n"
     ]
    }
   ],
   "source": [
    "def caesar_encode(text, shift=3):\n",
    "    result = \"\"\n",
    "    # Loop through each character\n",
    "    for char in text:\n",
    "        # Check if the character is an alphabet letter\n",
    "        if char.isalpha():\n",
    "            # Determine the starting point (A for uppercase, a for lowercase)\n",
    "            start = ord('A') if char.isupper() else ord('a')\n",
    "            \n",
    "            # 1. Get the 0-based index of the character (0-25)\n",
    "            # ord(char) - start calculates the position (e.g., ord('C') - ord('A') = 2)\n",
    "            # 2. Apply the shift and use the modulus operator (%) 26 to wrap around the alphabet\n",
    "            shifted_index = (ord(char) - start + shift) % 26\n",
    "            \n",
    "            # 3. Convert the new index back to the character\n",
    "            new_char = chr(start + shifted_index)\n",
    "            result += new_char\n",
    "        else:\n",
    "            # Keep non-alphabet characters (like spaces) unchanged\n",
    "            result += char\n",
    "    return result\n",
    "\n",
    "original = \"ABC XYZ\"\n",
    "encoded = caesar_encode(original, 3) \n",
    "\n",
    "print(f\"Original: {original}\")\n",
    "print(f\"Encoded (Shift +3): {encoded}\") # Output: DEF ABC"
   ]
  },
  {
   "cell_type": "code",
   "execution_count": null,
   "id": "edba574f",
   "metadata": {},
   "outputs": [],
   "source": []
  },
  {
   "cell_type": "markdown",
   "id": "54a1510a",
   "metadata": {},
   "source": [
    "61. Decode a Caesar Cipher encoded string.\n",
    "Decoding the Caesar Cipher is the same process as encoding, but the shift is applied in the opposite direction (negative shift). We can simply reuse the function from Q60 with a negative shift."
   ]
  },
  {
   "cell_type": "code",
   "execution_count": 2,
   "id": "916e632f",
   "metadata": {},
   "outputs": [
    {
     "name": "stdout",
     "output_type": "stream",
     "text": [
      "Encoded String: DEF ABC\n",
      "Decoded (Shift -3): ABC XYZ\n"
     ]
    }
   ],
   "source": [
    "# Reuse the caesar_encode function from Q60.\n",
    "# A shift of -3 will reverse an original shift of +3.\n",
    "decoded = caesar_encode(encoded, -3)\n",
    "\n",
    "print(f\"Encoded String: {encoded}\")\n",
    "print(f\"Decoded (Shift -3): {decoded}\") # Output: ABC XYZ"
   ]
  },
  {
   "cell_type": "code",
   "execution_count": null,
   "id": "ba3a732e",
   "metadata": {},
   "outputs": [],
   "source": []
  },
  {
   "cell_type": "markdown",
   "id": "e1530892",
   "metadata": {},
   "source": [
    "62. Find all unique words in a string.\n",
    "To find unique words, we first need to tokenize the string (split it into words) and then use a set, which inherently stores only unique elements."
   ]
  },
  {
   "cell_type": "code",
   "execution_count": 3,
   "id": "33368abe",
   "metadata": {},
   "outputs": [
    {
     "name": "stdout",
     "output_type": "stream",
     "text": [
      "Sentence: The quick brown fox jumps over the lazy brown fox\n",
      "Unique Words: ['quick', 'the', 'over', 'lazy', 'jumps', 'brown', 'fox']\n"
     ]
    }
   ],
   "source": [
    "sentence = \"The quick brown fox jumps over the lazy brown fox\"\n",
    "\n",
    "# 1. Convert to lowercase and split the string into a list of words\n",
    "words = sentence.lower().split()\n",
    "\n",
    "# 2. Convert the list of words into a set\n",
    "# A set automatically eliminates duplicates.\n",
    "unique_words_set = set(words)\n",
    "\n",
    "# 3. Convert the set back to a list (optional, for ordered display)\n",
    "unique_words_list = list(unique_words_set)\n",
    "\n",
    "print(f\"Sentence: {sentence}\")\n",
    "print(f\"Unique Words: {unique_words_list}\")\n",
    "# Output: ['the', 'quick', 'brown', 'fox', 'jumps', 'over', 'lazy']"
   ]
  },
  {
   "cell_type": "code",
   "execution_count": null,
   "id": "609df5d5",
   "metadata": {},
   "outputs": [],
   "source": []
  },
  {
   "cell_type": "markdown",
   "id": "4b15d5c3",
   "metadata": {},
   "source": [
    "63. Remove the n \n",
    "th\n",
    "  word from a string.\n",
    "This involves splitting the string into a list of words, removing the element at the specified index, and then joining the list back into a string.\n",
    "\n",
    "Concept: Python lists are 0-indexed. If the user specifies the n \n",
    "th\n",
    "  word (e.g., 3rd word), the index in the list will be n−1."
   ]
  },
  {
   "cell_type": "code",
   "execution_count": 4,
   "id": "7a9a847a",
   "metadata": {},
   "outputs": [
    {
     "name": "stdout",
     "output_type": "stream",
     "text": [
      "Original Words: ['Python', 'lists', 'make', 'string', 'manipulation', 'easy']\n",
      "After removing 3rd word: Python lists string manipulation easy\n"
     ]
    }
   ],
   "source": [
    "sentence = \"Python lists make string manipulation easy\"\n",
    "n = 3 # We want to remove the 3rd word ('make')\n",
    "\n",
    "# 1. Split the sentence into a list of words\n",
    "word_list = sentence.split()\n",
    "print(f\"Original Words: {word_list}\")\n",
    "\n",
    "# 2. Calculate the 0-based index (n - 1)\n",
    "index_to_remove = n - 1 # 3 - 1 = 2 (index of 'make')\n",
    "\n",
    "# 3. Check if the index is valid and use the .pop() method to remove the word\n",
    "if 0 <= index_to_remove < len(word_list):\n",
    "    word_list.pop(index_to_remove) # Removes and returns the word at index 2\n",
    "    \n",
    "    # 4. Join the remaining words back into a single string with spaces\n",
    "    new_sentence = \" \".join(word_list)\n",
    "    print(f\"After removing {n}rd word: {new_sentence}\")\n",
    "else:\n",
    "    print(f\"Error: Word position {n} is out of range.\")"
   ]
  },
  {
   "cell_type": "code",
   "execution_count": 5,
   "id": "8f08f675",
   "metadata": {},
   "outputs": [
    {
     "name": "stdout",
     "output_type": "stream",
     "text": [
      "Original Words: ['Data', 'is', 'the', 'future.']\n",
      "Word inserted: 'Science'\n",
      "New Sentence: Data Science is the future.\n"
     ]
    }
   ],
   "source": [
    "sentence = \"Data is the future.\"\n",
    "word_to_insert = \"Science\"\n",
    "n = 2 # Insert 'Science' at the 2nd position (after 'Data')\n",
    "\n",
    "# 1. Split the sentence into a list of words\n",
    "word_list = sentence.split()\n",
    "print(f\"Original Words: {word_list}\")\n",
    "\n",
    "# 2. Calculate the 0-based index (n - 1)\n",
    "index_to_insert = n - 1 # 2 - 1 = 1 (index after 'Data')\n",
    "\n",
    "# 3. Use the .insert() method: list.insert(index, element)\n",
    "word_list.insert(index_to_insert, word_to_insert)\n",
    "\n",
    "# 4. Join the modified list back into a string\n",
    "new_sentence = \" \".join(word_list)\n",
    "\n",
    "print(f\"Word inserted: '{word_to_insert}'\")\n",
    "print(f\"New Sentence: {new_sentence}\") # Output: Data Science is the future."
   ]
  },
  {
   "cell_type": "code",
   "execution_count": null,
   "id": "072e40b1",
   "metadata": {},
   "outputs": [],
   "source": []
  }
 ],
 "metadata": {
  "kernelspec": {
   "display_name": "base",
   "language": "python",
   "name": "python3"
  },
  "language_info": {
   "codemirror_mode": {
    "name": "ipython",
    "version": 3
   },
   "file_extension": ".py",
   "mimetype": "text/x-python",
   "name": "python",
   "nbconvert_exporter": "python",
   "pygments_lexer": "ipython3",
   "version": "3.12.11"
  }
 },
 "nbformat": 4,
 "nbformat_minor": 5
}
