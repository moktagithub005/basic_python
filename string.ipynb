{
 "cells": [
  {
   "cell_type": "markdown",
   "id": "9d52b839",
   "metadata": {},
   "source": [
    "Part B: Strings (26-51)\n",
    "26. Define what a string is in Python.\n",
    " \n",
    "Give 3 examples of string declarations.\n",
    "\n",
    "A string (str) in Python is a sequence of characters (letters, numbers, symbols, and spaces) enclosed in quotation marks.\n",
    "\n",
    "Concept: Strings are used to store textual information. They are immutable, meaning once created, their contents cannot be changed (a new string object must be created for any modification).\n",
    "\n",
    "3 Examples of String Declarations:\n",
    "\n",
    "Python allows you to use single, double, or triple quotes, which is especially useful when the text itself contains quotes."
   ]
  },
  {
   "cell_type": "code",
   "execution_count": 3,
   "id": "53d21bd0",
   "metadata": {},
   "outputs": [
    {
     "name": "stdout",
     "output_type": "stream",
     "text": [
      "type 1: welcome to Unisole\n",
      "type 2: I'm learning variables\n",
      "type 3:\n",
      "this string\n",
      "spans multiple\n",
      "lines easily\n",
      "\n"
     ]
    }
   ],
   "source": [
    "# 1. using single quotes (')- Most common for short string\n",
    "single_quoted_string='welcome to Unisole'\n",
    "print(f\"type 1: {single_quoted_string}\")\n",
    "\n",
    "# 2. using double quotes (\")- useful if the string contains single quotes\n",
    "double_quoted_string=\"I'm learning variables\"\n",
    "print(f\"type 2: {double_quoted_string}\")\n",
    "\n",
    "# 3. using triple quotes (\"\"\" or ''')-- used for multiline strings or docstring\n",
    "multi_line_string= \"\"\"\n",
    "this string\n",
    "spans multiple\n",
    "lines easily\n",
    "\"\"\"\n",
    "print(f\"type 3:{multi_line_string}\")\n"
   ]
  },
  {
   "cell_type": "code",
   "execution_count": null,
   "id": "74ad1d5f",
   "metadata": {},
   "outputs": [],
   "source": []
  },
  {
   "cell_type": "markdown",
   "id": "21299aff",
   "metadata": {},
   "source": [
    "27. Write a program to print your name in uppercase, lowercase, and title case.\n",
    "\n",
    "Python provides powerful string methods to easily change the casing of text:\n",
    "\n",
    ".upper(): Converts all characters to uppercase.\n",
    "\n",
    ".lower(): Converts all characters to lowercase.\n",
    "\n",
    ".title(): Converts the string to title case (first letter of every word is capitalized)."
   ]
  },
  {
   "cell_type": "code",
   "execution_count": 5,
   "id": "6cc5526f",
   "metadata": {},
   "outputs": [
    {
     "name": "stdout",
     "output_type": "stream",
     "text": [
      "original name: Ajay Mokta\n",
      "uppercase: AJAY MOKTA\n",
      "lowercase:ajay mokta\n",
      "Title case: Ajay Mokta\n"
     ]
    }
   ],
   "source": [
    "my_name= \"Ajay Mokta\"\n",
    "print(f\"original name: {my_name}\")\n",
    "\n",
    "# Convert to ALL CAPS\n",
    "uppercase_name=my_name.upper()\n",
    "print(f\"uppercase: {uppercase_name}\")\n",
    "\n",
    "# convert to all small letters\n",
    "lowercase_name=my_name.lower()\n",
    "print(f\"lowercase:{lowercase_name}\")\n",
    "\n",
    "# convert to Title case\n",
    "titlecase_name=my_name.title()\n",
    "print(f\"Title case: {titlecase_name}\")\n"
   ]
  },
  {
   "cell_type": "code",
   "execution_count": null,
   "id": "3a391894",
   "metadata": {},
   "outputs": [],
   "source": []
  },
  {
   "cell_type": "markdown",
   "id": "2812957f",
   "metadata": {},
   "source": [
    "28. Find the length of a string using len().\n",
    "\n",
    "The built-in Python function len() calculates and returns the number of characters in a string (including spaces and punctuation)."
   ]
  },
  {
   "cell_type": "code",
   "execution_count": 6,
   "id": "51f2edbf",
   "metadata": {},
   "outputs": [
    {
     "name": "stdout",
     "output_type": "stream",
     "text": [
      "the string is: unisole is a research community\n",
      "its length (number of character) is: 31\n"
     ]
    }
   ],
   "source": [
    "my_string=\"unisole is a research community\"\n",
    "# use the len() function to get the number of characters\n",
    "string_length=len(my_string)\n",
    "print(f\"the string is: {my_string}\")\n",
    "print(f\"its length (number of character) is: {string_length}\")"
   ]
  },
  {
   "cell_type": "code",
   "execution_count": null,
   "id": "cede97e2",
   "metadata": {},
   "outputs": [],
   "source": []
  },
  {
   "cell_type": "markdown",
   "id": "3667a17b",
   "metadata": {},
   "source": [
    "29. Concatenate two strings and print the result.\n",
    "Concatenation means joining strings end-to-end. This is most commonly done using the + operator."
   ]
  },
  {
   "cell_type": "code",
   "execution_count": 8,
   "id": "68f9ec6b",
   "metadata": {},
   "outputs": [
    {
     "name": "stdout",
     "output_type": "stream",
     "text": [
      "concatenated result: ajay mokta\n"
     ]
    }
   ],
   "source": [
    "first_name=\"ajay\"\n",
    "last_name=\"mokta\"\n",
    "# Use the '+' operator to concatenate the two strings\n",
    "full_name=first_name + \" \"+last_name\n",
    "print(f\"concatenated result: {full_name}\")"
   ]
  },
  {
   "cell_type": "code",
   "execution_count": null,
   "id": "508e11da",
   "metadata": {},
   "outputs": [],
   "source": []
  },
  {
   "cell_type": "markdown",
   "id": "f2d2a927",
   "metadata": {},
   "source": [
    "30. Extract the first 5 characters of the string \"Unisole Empower\".\n",
    "\n",
    "This uses string slicing, a powerful technique to extract a part of a string.\n",
    "\n",
    "Concept: Slicing uses the format [start:end]. The character at the start index is included, but the character at the end index is excluded (it's non-inclusive).\n",
    "\n",
    "Indices: String indices start at 0.\n",
    "\n",
    "To get the first 5 characters (index 0, 1, 2, 3, 4), the slice needs to go up to index 5.\n",
    "\n",
    "[0:5] or simply [:5]"
   ]
  },
  {
   "cell_type": "code",
   "execution_count": 9,
   "id": "5eb824c6",
   "metadata": {},
   "outputs": [
    {
     "name": "stdout",
     "output_type": "stream",
     "text": [
      "original string: Unisole Empower\n",
      "first 5 character: Uniso\n"
     ]
    }
   ],
   "source": [
    "text=\"Unisole Empower\"\n",
    "# slicing from the start(index 0) up to, but not including, index 5.as_integer_ratio\n",
    "first_five_character=text[0:5]\n",
    "print(f\"original string: {text}\")\n",
    "print(f\"first 5 character: {first_five_character}\")"
   ]
  },
  {
   "cell_type": "code",
   "execution_count": null,
   "id": "f83fe461",
   "metadata": {},
   "outputs": [],
   "source": []
  },
  {
   "cell_type": "markdown",
   "id": "2cdd9394",
   "metadata": {},
   "source": [
    "31. Extract the last 4 characters of the string \"DataScience\".\n",
    "\n",
    "We can use negative indexing for slicing, which starts counting from the end of the string. The last character is index -1.\n",
    "\n",
    "Indices: The last 4 characters are at indices -4, -3, -2, and -1.\n",
    "\n",
    "Slice: To include the last character (-1) and everything before it, we omit the end index: [-4:]"
   ]
  },
  {
   "cell_type": "code",
   "execution_count": 10,
   "id": "ee3457be",
   "metadata": {},
   "outputs": [
    {
     "name": "stdout",
     "output_type": "stream",
     "text": [
      "original string: DataScience\n",
      "Last four characters: ence\n"
     ]
    }
   ],
   "source": [
    "text=\"DataScience\"\n",
    "# slicing from index -4 until the end of the string\n",
    "last_four_chars=text[-4:]\n",
    "print(f\"original string: {text}\")\n",
    "print(f\"Last four characters: {last_four_chars}\")"
   ]
  },
  {
   "cell_type": "code",
   "execution_count": null,
   "id": "a494cd27",
   "metadata": {},
   "outputs": [],
   "source": []
  },
  {
   "cell_type": "markdown",
   "id": "13fafb9d",
   "metadata": {},
   "source": [
    "32. Write a program to reverse a string.\n",
    "\n",
    "String reversal is a common task, often achieved using a special slicing technique called the step or stride.\n",
    "\n",
    "Slice Format: [start:end:step]\n",
    "\n",
    "Reversal Trick: Using a step of -1 tells Python to read the string backwards from the start to the end."
   ]
  },
  {
   "cell_type": "code",
   "execution_count": 11,
   "id": "156852fd",
   "metadata": {},
   "outputs": [
    {
     "name": "stdout",
     "output_type": "stream",
     "text": [
      "original: Dynamic Typing\n",
      "Reversed: gnipyT cimanyD\n"
     ]
    }
   ],
   "source": [
    "original_string=\"Dynamic Typing\"\n",
    "# use the slice [::-1] to reverse the string\n",
    "reversed_string=original_string[::-1]\n",
    "print(f\"original: {original_string}\")\n",
    "print(f\"Reversed: {reversed_string}\")"
   ]
  },
  {
   "cell_type": "code",
   "execution_count": null,
   "id": "7a8b3540",
   "metadata": {},
   "outputs": [],
   "source": []
  },
  {
   "cell_type": "markdown",
   "id": "0b99a188",
   "metadata": {},
   "source": [
    "33. Check if a substring \"Empower\" exists in \"Unisole Empower\".\n",
    "\n",
    "We can check for the presence of a substring using the in operator, which returns a boolean value (True or False)."
   ]
  },
  {
   "cell_type": "code",
   "execution_count": 12,
   "id": "20fd17dd",
   "metadata": {},
   "outputs": [
    {
     "name": "stdout",
     "output_type": "stream",
     "text": [
      "Is Empower present? True\n"
     ]
    }
   ],
   "source": [
    "main_string= \"Unisole Empower\"\n",
    "substring=\"Empower\"\n",
    "\n",
    "# the \"in\" operator checks if the sub_string exists within the main_string\n",
    "is_present= substring in main_string\n",
    "print(f\"Is {substring} present? {is_present}\")"
   ]
  },
  {
   "cell_type": "code",
   "execution_count": null,
   "id": "37b55336",
   "metadata": {},
   "outputs": [],
   "source": []
  },
  {
   "cell_type": "markdown",
   "id": "418508ff",
   "metadata": {},
   "source": [
    "34. Replace \"Python\" with \"Data Science\" in the string \"I am learning Python\".\n",
    "\n",
    "The .replace() method searches for all occurrences of a specified substring and replaces them with a new substring.\n",
    "\n",
    "Syntax: string.replace(\"old_text\", \"new_text\")\n",
    "\n",
    "Key Concept: Since strings are immutable, this method does not change the original string; it returns a new string with the replacements made."
   ]
  },
  {
   "cell_type": "code",
   "execution_count": null,
   "id": "c5974066",
   "metadata": {},
   "outputs": [],
   "source": []
  }
 ],
 "metadata": {
  "kernelspec": {
   "display_name": "base",
   "language": "python",
   "name": "python3"
  },
  "language_info": {
   "codemirror_mode": {
    "name": "ipython",
    "version": 3
   },
   "file_extension": ".py",
   "mimetype": "text/x-python",
   "name": "python",
   "nbconvert_exporter": "python",
   "pygments_lexer": "ipython3",
   "version": "3.12.11"
  }
 },
 "nbformat": 4,
 "nbformat_minor": 5
}
