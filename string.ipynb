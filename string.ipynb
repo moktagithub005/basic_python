{
 "cells": [
  {
   "cell_type": "markdown",
   "id": "9d52b839",
   "metadata": {},
   "source": [
    "Part B: Strings (26-51)\n",
    "26. Define what a string is in Python.\n",
    " \n",
    "Give 3 examples of string declarations.\n",
    "\n",
    "A string (str) in Python is a sequence of characters (letters, numbers, symbols, and spaces) enclosed in quotation marks.\n",
    "\n",
    "Concept: Strings are used to store textual information. They are immutable, meaning once created, their contents cannot be changed (a new string object must be created for any modification).\n",
    "\n",
    "3 Examples of String Declarations:\n",
    "\n",
    "Python allows you to use single, double, or triple quotes, which is especially useful when the text itself contains quotes."
   ]
  },
  {
   "cell_type": "code",
   "execution_count": 3,
   "id": "53d21bd0",
   "metadata": {},
   "outputs": [
    {
     "name": "stdout",
     "output_type": "stream",
     "text": [
      "type 1: welcome to Unisole\n",
      "type 2: I'm learning variables\n",
      "type 3:\n",
      "this string\n",
      "spans multiple\n",
      "lines easily\n",
      "\n"
     ]
    }
   ],
   "source": [
    "# 1. using single quotes (')- Most common for short string\n",
    "single_quoted_string='welcome to Unisole'\n",
    "print(f\"type 1: {single_quoted_string}\")\n",
    "\n",
    "# 2. using double quotes (\")- useful if the string contains single quotes\n",
    "double_quoted_string=\"I'm learning variables\"\n",
    "print(f\"type 2: {double_quoted_string}\")\n",
    "\n",
    "# 3. using triple quotes (\"\"\" or ''')-- used for multiline strings or docstring\n",
    "multi_line_string= \"\"\"\n",
    "this string\n",
    "spans multiple\n",
    "lines easily\n",
    "\"\"\"\n",
    "print(f\"type 3:{multi_line_string}\")\n"
   ]
  },
  {
   "cell_type": "code",
   "execution_count": null,
   "id": "74ad1d5f",
   "metadata": {},
   "outputs": [],
   "source": []
  },
  {
   "cell_type": "markdown",
   "id": "21299aff",
   "metadata": {},
   "source": [
    "27. Write a program to print your name in uppercase, lowercase, and title case.\n",
    "\n",
    "Python provides powerful string methods to easily change the casing of text:\n",
    "\n",
    ".upper(): Converts all characters to uppercase.\n",
    "\n",
    ".lower(): Converts all characters to lowercase.\n",
    "\n",
    ".title(): Converts the string to title case (first letter of every word is capitalized)."
   ]
  },
  {
   "cell_type": "code",
   "execution_count": 5,
   "id": "6cc5526f",
   "metadata": {},
   "outputs": [
    {
     "name": "stdout",
     "output_type": "stream",
     "text": [
      "original name: Ajay Mokta\n",
      "uppercase: AJAY MOKTA\n",
      "lowercase:ajay mokta\n",
      "Title case: Ajay Mokta\n"
     ]
    }
   ],
   "source": [
    "my_name= \"Ajay Mokta\"\n",
    "print(f\"original name: {my_name}\")\n",
    "\n",
    "# Convert to ALL CAPS\n",
    "uppercase_name=my_name.upper()\n",
    "print(f\"uppercase: {uppercase_name}\")\n",
    "\n",
    "# convert to all small letters\n",
    "lowercase_name=my_name.lower()\n",
    "print(f\"lowercase:{lowercase_name}\")\n",
    "\n",
    "# convert to Title case\n",
    "titlecase_name=my_name.title()\n",
    "print(f\"Title case: {titlecase_name}\")\n"
   ]
  },
  {
   "cell_type": "code",
   "execution_count": null,
   "id": "3a391894",
   "metadata": {},
   "outputs": [],
   "source": []
  },
  {
   "cell_type": "markdown",
   "id": "2812957f",
   "metadata": {},
   "source": [
    "28. Find the length of a string using len().\n",
    "\n",
    "The built-in Python function len() calculates and returns the number of characters in a string (including spaces and punctuation)."
   ]
  },
  {
   "cell_type": "code",
   "execution_count": 6,
   "id": "51f2edbf",
   "metadata": {},
   "outputs": [
    {
     "name": "stdout",
     "output_type": "stream",
     "text": [
      "the string is: unisole is a research community\n",
      "its length (number of character) is: 31\n"
     ]
    }
   ],
   "source": [
    "my_string=\"unisole is a research community\"\n",
    "# use the len() function to get the number of characters\n",
    "string_length=len(my_string)\n",
    "print(f\"the string is: {my_string}\")\n",
    "print(f\"its length (number of character) is: {string_length}\")"
   ]
  },
  {
   "cell_type": "code",
   "execution_count": null,
   "id": "cede97e2",
   "metadata": {},
   "outputs": [],
   "source": []
  },
  {
   "cell_type": "markdown",
   "id": "3667a17b",
   "metadata": {},
   "source": [
    "29. Concatenate two strings and print the result.\n",
    "Concatenation means joining strings end-to-end. This is most commonly done using the + operator."
   ]
  },
  {
   "cell_type": "code",
   "execution_count": 8,
   "id": "68f9ec6b",
   "metadata": {},
   "outputs": [
    {
     "name": "stdout",
     "output_type": "stream",
     "text": [
      "concatenated result: ajay mokta\n"
     ]
    }
   ],
   "source": [
    "first_name=\"ajay\"\n",
    "last_name=\"mokta\"\n",
    "# Use the '+' operator to concatenate the two strings\n",
    "full_name=first_name + \" \"+last_name\n",
    "print(f\"concatenated result: {full_name}\")"
   ]
  },
  {
   "cell_type": "code",
   "execution_count": null,
   "id": "508e11da",
   "metadata": {},
   "outputs": [],
   "source": []
  },
  {
   "cell_type": "markdown",
   "id": "f2d2a927",
   "metadata": {},
   "source": [
    "30. Extract the first 5 characters of the string \"Unisole Empower\".\n",
    "\n",
    "This uses string slicing, a powerful technique to extract a part of a string.\n",
    "\n",
    "Concept: Slicing uses the format [start:end]. The character at the start index is included, but the character at the end index is excluded (it's non-inclusive).\n",
    "\n",
    "Indices: String indices start at 0.\n",
    "\n",
    "To get the first 5 characters (index 0, 1, 2, 3, 4), the slice needs to go up to index 5.\n",
    "\n",
    "[0:5] or simply [:5]"
   ]
  },
  {
   "cell_type": "code",
   "execution_count": 9,
   "id": "5eb824c6",
   "metadata": {},
   "outputs": [
    {
     "name": "stdout",
     "output_type": "stream",
     "text": [
      "original string: Unisole Empower\n",
      "first 5 character: Uniso\n"
     ]
    }
   ],
   "source": [
    "text=\"Unisole Empower\"\n",
    "# slicing from the start(index 0) up to, but not including, index 5.as_integer_ratio\n",
    "first_five_character=text[0:5]\n",
    "print(f\"original string: {text}\")\n",
    "print(f\"first 5 character: {first_five_character}\")"
   ]
  },
  {
   "cell_type": "code",
   "execution_count": null,
   "id": "f83fe461",
   "metadata": {},
   "outputs": [],
   "source": []
  },
  {
   "cell_type": "markdown",
   "id": "2cdd9394",
   "metadata": {},
   "source": [
    "31. Extract the last 4 characters of the string \"DataScience\".\n",
    "\n",
    "We can use negative indexing for slicing, which starts counting from the end of the string. The last character is index -1.\n",
    "\n",
    "Indices: The last 4 characters are at indices -4, -3, -2, and -1.\n",
    "\n",
    "Slice: To include the last character (-1) and everything before it, we omit the end index: [-4:]"
   ]
  },
  {
   "cell_type": "code",
   "execution_count": 10,
   "id": "ee3457be",
   "metadata": {},
   "outputs": [
    {
     "name": "stdout",
     "output_type": "stream",
     "text": [
      "original string: DataScience\n",
      "Last four characters: ence\n"
     ]
    }
   ],
   "source": [
    "text=\"DataScience\"\n",
    "# slicing from index -4 until the end of the string\n",
    "last_four_chars=text[-4:]\n",
    "print(f\"original string: {text}\")\n",
    "print(f\"Last four characters: {last_four_chars}\")"
   ]
  },
  {
   "cell_type": "code",
   "execution_count": null,
   "id": "a494cd27",
   "metadata": {},
   "outputs": [],
   "source": []
  },
  {
   "cell_type": "markdown",
   "id": "13fafb9d",
   "metadata": {},
   "source": [
    "32. Write a program to reverse a string.\n",
    "\n",
    "String reversal is a common task, often achieved using a special slicing technique called the step or stride.\n",
    "\n",
    "Slice Format: [start:end:step]\n",
    "\n",
    "Reversal Trick: Using a step of -1 tells Python to read the string backwards from the start to the end."
   ]
  },
  {
   "cell_type": "code",
   "execution_count": 11,
   "id": "156852fd",
   "metadata": {},
   "outputs": [
    {
     "name": "stdout",
     "output_type": "stream",
     "text": [
      "original: Dynamic Typing\n",
      "Reversed: gnipyT cimanyD\n"
     ]
    }
   ],
   "source": [
    "original_string=\"Dynamic Typing\"\n",
    "# use the slice [::-1] to reverse the string\n",
    "reversed_string=original_string[::-1]\n",
    "print(f\"original: {original_string}\")\n",
    "print(f\"Reversed: {reversed_string}\")"
   ]
  },
  {
   "cell_type": "code",
   "execution_count": null,
   "id": "7a8b3540",
   "metadata": {},
   "outputs": [],
   "source": []
  },
  {
   "cell_type": "markdown",
   "id": "0b99a188",
   "metadata": {},
   "source": [
    "33. Check if a substring \"Empower\" exists in \"Unisole Empower\".\n",
    "\n",
    "We can check for the presence of a substring using the in operator, which returns a boolean value (True or False)."
   ]
  },
  {
   "cell_type": "code",
   "execution_count": 12,
   "id": "20fd17dd",
   "metadata": {},
   "outputs": [
    {
     "name": "stdout",
     "output_type": "stream",
     "text": [
      "Is Empower present? True\n"
     ]
    }
   ],
   "source": [
    "main_string= \"Unisole Empower\"\n",
    "substring=\"Empower\"\n",
    "\n",
    "# the \"in\" operator checks if the sub_string exists within the main_string\n",
    "is_present= substring in main_string\n",
    "print(f\"Is {substring} present? {is_present}\")"
   ]
  },
  {
   "cell_type": "code",
   "execution_count": null,
   "id": "37b55336",
   "metadata": {},
   "outputs": [],
   "source": []
  },
  {
   "cell_type": "markdown",
   "id": "418508ff",
   "metadata": {},
   "source": [
    "34. Replace \"Python\" with \"Data Science\" in the string \"I am learning Python\".\n",
    "\n",
    "The .replace() method searches for all occurrences of a specified substring and replaces them with a new substring.\n",
    "\n",
    "Syntax: string.replace(\"old_text\", \"new_text\")\n",
    "\n",
    "Key Concept: Since strings are immutable, this method does not change the original string; it returns a new string with the replacements made."
   ]
  },
  {
   "cell_type": "code",
   "execution_count": 14,
   "id": "c5974066",
   "metadata": {},
   "outputs": [
    {
     "name": "stdout",
     "output_type": "stream",
     "text": [
      "new sentence is: I am leraning Data science\n"
     ]
    }
   ],
   "source": [
    "original_sentence=\"I am leraning Python\"\n",
    "## replace all occurrences of \"Python\" with \"Data Science\"\n",
    "new_sentence=original_sentence.replace(\"Python\",\"Data science\")\n",
    "print(f\"new sentence is: {new_sentence}\")"
   ]
  },
  {
   "cell_type": "code",
   "execution_count": null,
   "id": "02f00fc2",
   "metadata": {},
   "outputs": [],
   "source": []
  },
  {
   "cell_type": "markdown",
   "id": "7c271b96",
   "metadata": {},
   "source": [
    "35. Remove spaces from the string \" Hello World \".\n",
    "The .strip() method is used to remove leading (at the start) and trailing (at the end) whitespace (spaces, tabs, newlines) from a string.\n",
    "\n",
    ".lstrip(): Removes leading (left) spaces only.\n",
    "\n",
    ".rstrip(): Removes trailing (right) spaces only."
   ]
  },
  {
   "cell_type": "code",
   "execution_count": 22,
   "id": "3f108a25",
   "metadata": {},
   "outputs": [
    {
     "name": "stdout",
     "output_type": "stream",
     "text": [
      "orginal string length:15\n",
      "clean string lenght:12\n"
     ]
    }
   ],
   "source": [
    "messy_string=\"  hello world. \"\n",
    "## use .strip() to remove all leading and trailing whitespaces\n",
    "clean_string=messy_string.strip()\n",
    "print(f\"orginal string length:{len(messy_string)}\")\n",
    "print(f\"clean string lenght:{len(clean_string)}\")"
   ]
  },
  {
   "cell_type": "code",
   "execution_count": null,
   "id": "247370eb",
   "metadata": {},
   "outputs": [],
   "source": []
  },
  {
   "cell_type": "markdown",
   "id": "fae90f64",
   "metadata": {},
   "source": [
    "36. Split the string \"apple,banana,mango\" into a list.\n",
    "The .split() method breaks a string into a list of substrings based on a specified delimiter (separator).\n",
    "\n",
    "Syntax: string.split(delimiter)\n",
    "\n",
    "Concept: This is essential for parsing data that is separated by a comma (CSV), a tab, or any other character."
   ]
  },
  {
   "cell_type": "code",
   "execution_count": 23,
   "id": "35ed401b",
   "metadata": {},
   "outputs": [
    {
     "name": "stdout",
     "output_type": "stream",
     "text": [
      "['apple', 'banana', 'mango']\n"
     ]
    }
   ],
   "source": [
    "fruits_string=\"apple,banana,mango\"\n",
    "delimeter=\",\"\n",
    "# use split() with the commaas the delimeter\n",
    "fruits_list=fruits_string.split(delimeter)\n",
    "print(fruits_list)"
   ]
  },
  {
   "cell_type": "code",
   "execution_count": null,
   "id": "059743f6",
   "metadata": {},
   "outputs": [],
   "source": []
  },
  {
   "cell_type": "markdown",
   "id": "4146fb2d",
   "metadata": {},
   "source": [
    "37. Join the list [\"AI\", \"ML\", \"DL\"] into a string with a separator.\n",
    "\n",
    "The .join() method is the opposite of .split(). It concatenates a list of strings into a single string, inserting the specified separator between each element.\n",
    "\n",
    "Syntax: separator.join(list_of_strings)\n",
    "\n",
    "Note: The method is called on the separator string, not the list."
   ]
  },
  {
   "cell_type": "code",
   "execution_count": 28,
   "id": "0daac466",
   "metadata": {},
   "outputs": [
    {
     "name": "stdout",
     "output_type": "stream",
     "text": [
      "AI|ML|DL\n"
     ]
    }
   ],
   "source": [
    "#syntax: seprator.join(list_of _string)\n",
    "technologies_list=[\"AI\",\"ML\",\"DL\"]\n",
    "separator=\"|\"\n",
    "## use the separator string to call join() on he list \n",
    "joined_string=separator.join(technologies_list)\n",
    "print(joined_string)"
   ]
  },
  {
   "cell_type": "code",
   "execution_count": null,
   "id": "3838aa9a",
   "metadata": {},
   "outputs": [],
   "source": []
  },
  {
   "cell_type": "markdown",
   "id": "cc8df97b",
   "metadata": {},
   "source": [
    "38. Write a program to count the number of vowels in a string.\n",
    "This requires iteration (looping) through the string, checking each character against a set of vowels, and keeping a running count."
   ]
  },
  {
   "cell_type": "code",
   "execution_count": 30,
   "id": "dbe7873b",
   "metadata": {},
   "outputs": [
    {
     "name": "stdout",
     "output_type": "stream",
     "text": [
      "input string is: programming is fun\n",
      "count the nubmers of vowels:18\n"
     ]
    }
   ],
   "source": [
    "input_string=\"programming is fun\"\n",
    "#define the set of vowels(can be lowercase or uppercase)\n",
    "vowels=\"aeiouAEIOU\"\n",
    "count=0\n",
    "for i in input_string:\n",
    "    if i in input_string:\n",
    "        count+=1\n",
    "print(f\"input string is: {input_string}\")\n",
    "print(f\"count the nubmers of vowels:{count}\")"
   ]
  },
  {
   "cell_type": "code",
   "execution_count": null,
   "id": "7db8a5d2",
   "metadata": {},
   "outputs": [],
   "source": []
  },
  {
   "cell_type": "markdown",
   "id": "4e7c71aa",
   "metadata": {},
   "source": [
    "39. Check if a string is palindrome or not.\n",
    "A palindrome is a word, phrase, or sequence that reads the same backward as forward (e.g., \"madam\" or \"level\"). We can check this by comparing the original string to its reversed version (from question 32).\n"
   ]
  },
  {
   "cell_type": "code",
   "execution_count": 33,
   "id": "6ecc3b48",
   "metadata": {},
   "outputs": [
    {
     "name": "stdout",
     "output_type": "stream",
     "text": [
      "level is pallindrome:True\n",
      "python is pallindrome: False\n"
     ]
    }
   ],
   "source": [
    "word1=\"level\"\n",
    "word2=\"python\"\n",
    "def is_pallindrome(text):\n",
    "    # 1. clean the text (convert to lowecase and remove spaces for better check)\n",
    "    clean_text=text.lower().replace(\" \",\"\")\n",
    "    # 2. Reversed the cleaned text using slicing\n",
    "    reversed_text=clean_text[::-1]\n",
    "    # 3. compare the original clean text with the reversed text\n",
    "    return clean_text==reversed_text\n",
    "print(f\"{word1} is pallindrome:{is_pallindrome(word1)}\")\n",
    "print(f\"{word2} is pallindrome: {is_pallindrome(word2)}\")"
   ]
  },
  {
   "cell_type": "code",
   "execution_count": null,
   "id": "2f7e7f6f",
   "metadata": {},
   "outputs": [],
   "source": []
  },
  {
   "cell_type": "markdown",
   "id": "68677530",
   "metadata": {},
   "source": [
    "40. Write a program to print each character of a string on a new line.\n",
    "\n",
    "We use a for loop to iterate over the string. In Python, looping over a string automatically yields each character sequentially."
   ]
  },
  {
   "cell_type": "code",
   "execution_count": 34,
   "id": "c76c0e67",
   "metadata": {},
   "outputs": [
    {
     "name": "stdout",
     "output_type": "stream",
     "text": [
      "printing characters...\n",
      "C\n",
      "O\n",
      "D\n",
      "E\n"
     ]
    }
   ],
   "source": [
    "data_string=\"CODE\"\n",
    "print(\"printing characters...\")\n",
    "#loop through the string\n",
    "for char in data_string:\n",
    "    print(char)# print function automatically adds a newline character at the end\n",
    "    "
   ]
  },
  {
   "cell_type": "code",
   "execution_count": null,
   "id": "c9da3d04",
   "metadata": {},
   "outputs": [],
   "source": []
  },
  {
   "cell_type": "markdown",
   "id": "4dd373eb",
   "metadata": {},
   "source": [
    "41. Convert \"12345\" (string) into integer and perform addition with another integer.\n",
    "\n",
    "This is a critical example of type casting (int()) to enable arithmetic operations."
   ]
  },
  {
   "cell_type": "code",
   "execution_count": 36,
   "id": "a8c882a6",
   "metadata": {},
   "outputs": [
    {
     "name": "stdout",
     "output_type": "stream",
     "text": [
      "print addition after conversion:12400\n",
      "concatenation result is diffferent: 1234555\n"
     ]
    }
   ],
   "source": [
    "string_number=\"12345\"\n",
    "integer_to_add=55\n",
    "# 1. convert the string to an integer using int()\n",
    "converted_number=int(string_number)\n",
    "# 2. perform the arithmatic addition, which is now possible\n",
    "result=converted_number+integer_to_add\n",
    "# 3. proof that string addition(concatnation) is different\n",
    "concatenation_result=string_number + str(integer_to_add)\n",
    "print(f\"print addition after conversion:{result}\")\n",
    "print(f\"concatenation result is diffferent: {concatenation_result}\")"
   ]
  },
  {
   "cell_type": "code",
   "execution_count": null,
   "id": "9b7a9839",
   "metadata": {},
   "outputs": [],
   "source": []
  },
  {
   "cell_type": "markdown",
   "id": "5b79923b",
   "metadata": {},
   "source": [
    "42. Find the index of \"E\" in \"Empower\".\n",
    "The .find() method (or .index()) is used to locate the starting position (index) of a substring within a string.\n",
    "\n",
    "Concept: Indexing starts at 0.\n",
    "\n",
    ".find(): Returns the index of the first occurrence. Returns -1 if the substring is not found.\n",
    "\n",
    ".index(): Returns the index of the first occurrence. Raises a ValueError if the substring is not found."
   ]
  },
  {
   "cell_type": "code",
   "execution_count": 42,
   "id": "1553670c",
   "metadata": {},
   "outputs": [
    {
     "name": "stdout",
     "output_type": "stream",
     "text": [
      "index of  E in Empower: 0\n",
      "index of e in Empower: 5\n"
     ]
    }
   ],
   "source": [
    "word=\"Empower\"\n",
    "## find the index of the first 'E'\n",
    "index_of_E=word.find('E')\n",
    "print(f\"index of  E in Empower: {index_of_E}\")\n",
    "## find the index of lowercase 'e'\n",
    "index_of_e=word.find(\"e\")\n",
    "print(f\"index of e in Empower: {index_of_e}\")"
   ]
  },
  {
   "cell_type": "code",
   "execution_count": null,
   "id": "22595b53",
   "metadata": {},
   "outputs": [],
   "source": []
  },
  {
   "cell_type": "markdown",
   "id": "2039a204",
   "metadata": {},
   "source": [
    "43. Use slicing to print characters from index 2 to 6 of \"DataScience\".\n",
    "\n",
    "As established in question 30, string slicing uses the format [start:end], where start is inclusive and end is exclusive.\n",
    "\n",
    "To include indices 2, 3, 4, 5, and 6, the slice must go up to (but not include) index 7.\n",
    "\n",
    "Slice: [2:7]"
   ]
  },
  {
   "cell_type": "code",
   "execution_count": 44,
   "id": "a3380ada",
   "metadata": {},
   "outputs": [
    {
     "name": "stdout",
     "output_type": "stream",
     "text": [
      "original: 'dataScience'\n",
      "slice [2:7]: 'taSci'\n"
     ]
    }
   ],
   "source": [
    "text=\"dataScience\"\n",
    "# Indices: 0  1  2  3  4  5  6  7  8  9 10\n",
    "# Chars:   D  a  t  a  S  c  i  e  n  c  e\n",
    "# slice from index 2 (t) up to index 7 (e is excluded)\n",
    "sub_string=text[2:7]\n",
    "print(f\"original: '{text}'\")\n",
    "print(f\"slice [2:7]: '{sub_string}'\")"
   ]
  },
  {
   "cell_type": "code",
   "execution_count": null,
   "id": "590cd708",
   "metadata": {},
   "outputs": [],
   "source": []
  },
  {
   "cell_type": "markdown",
   "id": "b428599a",
   "metadata": {},
   "source": [
    "44. Demonstrate the difference between single quotes, double quotes, and triple quotes.\n",
    "\n",
    "The primary difference lies in handling quotes within the string and dealing with multiple lines.\n",
    "\n",
    "Single Quotes ('): Standard, simple strings.\n",
    "\n",
    "example: 'This is a standard string.'\n",
    "\n",
    "Double Quotes (\"): Standard strings, but allows single quotes (apostrophes) inside without escaping.\n",
    "\n",
    "example: \"I'm a happy coder.\"\n",
    "\n",
    "Triple Quotes (\"\"\" or '''): Multi-line strings, or strings containing both single and double quotes. Used for documentation (docstrings).\n",
    "\n",
    "example: \"\"\"Text spans\n",
    "             \n",
    "             \\nlines.\"\"\"\n"
   ]
  },
  {
   "cell_type": "code",
   "execution_count": 45,
   "id": "a9966791",
   "metadata": {},
   "outputs": [
    {
     "name": "stdout",
     "output_type": "stream",
     "text": [
      "Single: It's a sunny day.\n",
      "Double: It's a sunny day.\n",
      "Triple:\n",
      "\n",
      "This\n",
      "text\n",
      "is\n",
      "multi-line!\n",
      "\n"
     ]
    }
   ],
   "source": [
    "# Single quotes (need a backslash to include an apostrophe)\n",
    "quote1 = 'It\\'s a sunny day.'\n",
    "print(f\"Single: {quote1}\")\n",
    "\n",
    "# Double quotes (allows an apostrophe without a backslash)\n",
    "quote2 = \"It's a sunny day.\"\n",
    "print(f\"Double: {quote2}\")\n",
    "\n",
    "# Triple quotes (used for multi-line text)\n",
    "quote3 = \"\"\"\n",
    "This\n",
    "text\n",
    "is\n",
    "multi-line!\n",
    "\"\"\"\n",
    "print(f\"Triple:\\n{quote3}\")"
   ]
  },
  {
   "cell_type": "code",
   "execution_count": null,
   "id": "57d26288",
   "metadata": {},
   "outputs": [],
   "source": []
  },
  {
   "cell_type": "markdown",
   "id": "d078e47b",
   "metadata": {},
   "source": [
    "45. Format a string using the .format() method. Example: \"My name is {}, I am {} years old\".\n",
    "\n",
    "The .format() method is the classic way (pre-f-strings) to insert values into placeholders ({}) within a string.\n",
    "\n",
    "Concept: It separates the string template from the data, making templates reusable. The values are passed as arguments to the method."
   ]
  },
  {
   "cell_type": "code",
   "execution_count": 46,
   "id": "a1018ba5",
   "metadata": {},
   "outputs": [
    {
     "name": "stdout",
     "output_type": "stream",
     "text": [
      "Formatted String: My name is Charlie, I am 35 years old.\n"
     ]
    }
   ],
   "source": [
    "name = \"Charlie\"\n",
    "age = 35\n",
    "\n",
    "# 1. Define the string template with placeholders {}\n",
    "template = \"My name is {}, I am {} years old.\"\n",
    "\n",
    "# 2. Call .format() on the template, passing the variables in order\n",
    "formatted_string = template.format(name, age)\n",
    "\n",
    "print(f\"Formatted String: {formatted_string}\")"
   ]
  },
  {
   "cell_type": "code",
   "execution_count": null,
   "id": "caba24f7",
   "metadata": {},
   "outputs": [],
   "source": []
  },
  {
   "cell_type": "markdown",
   "id": "ff21b93b",
   "metadata": {},
   "source": [
    "46. Count how many times \"a\" appears in \"banana\".\n",
    "The .count() method returns the number of non-overlapping occurrences of a specified substring within a string."
   ]
  },
  {
   "cell_type": "code",
   "execution_count": 49,
   "id": "127a62e4",
   "metadata": {},
   "outputs": [
    {
     "name": "stdout",
     "output_type": "stream",
     "text": [
      "a appears 3 times in the banana\n"
     ]
    }
   ],
   "source": [
    "word=\"banana\"\n",
    "char_to_count=\"a\"\n",
    "# use .count() to find the. total occurrences\n",
    "count_a=word.count(char_to_count)\n",
    "print(f\"a appears {count_a} times in the {word}\")"
   ]
  },
  {
   "cell_type": "code",
   "execution_count": null,
   "id": "9d2f1c60",
   "metadata": {},
   "outputs": [],
   "source": []
  },
  {
   "cell_type": "markdown",
   "id": "42ee9b0b",
   "metadata": {},
   "source": [
    "47. Write a program to check if a string starts with \"Uni\" and ends with \"wer\".\n",
    "Python provides two highly specific string methods for these checks:\n",
    "\n",
    ".startswith(prefix): Returns True if the string begins with the specified prefix.\n",
    "\n",
    ".endswith(suffix): Returns True if the string ends with the specified suffix."
   ]
  },
  {
   "cell_type": "code",
   "execution_count": 52,
   "id": "9020a01d",
   "metadata": {},
   "outputs": [
    {
     "name": "stdout",
     "output_type": "stream",
     "text": [
      "original string is : Unisole Empower\n",
      "is string start with Uni: True\n",
      "is ends with wer: True\n"
     ]
    }
   ],
   "source": [
    "text=\"Unisole Empower\"\n",
    "# check if the string with \"Uni\"\n",
    "starts_with_Uni=text.startswith(\"Uni\")\n",
    "# check if the string starts with \"wer\"\n",
    "ends_with_wer=text.endswith(\"wer\")\n",
    "print(f\"original string is : {text}\")\n",
    "print(f\"is string start with Uni: {starts_with_Uni}\")\n",
    "print(f\"is ends with wer: {ends_with_wer}\")\n"
   ]
  },
  {
   "cell_type": "code",
   "execution_count": null,
   "id": "e5301c12",
   "metadata": {},
   "outputs": [],
   "source": []
  },
  {
   "cell_type": "markdown",
   "id": "e63bf131",
   "metadata": {},
   "source": [
    "48. Explain string immutability.\n",
    "Immutability means that a data object cannot be changed after it is created. Strings in Python are immutable.\n",
    "\n",
    "Concept: When you perform an operation that seems to change a string (like concatenation or replacement), Python does not modify the original string object in memory. Instead, it creates an entirely new string object that holds the modified content, and the variable is then updated to reference this new object.\n",
    "\n",
    "Why is this important? Immutability makes strings predictable and thread-safe. It also allows Python to optimize memory usage for common string values."
   ]
  },
  {
   "cell_type": "code",
   "execution_count": 53,
   "id": "b132be07",
   "metadata": {},
   "outputs": [
    {
     "name": "stdout",
     "output_type": "stream",
     "text": [
      "initial ID(memory address): 4394753392\n",
      "new string value: old stringnew part\n",
      "new ID (memory Address): 4401503024\n"
     ]
    }
   ],
   "source": [
    "s=\"old string\"\n",
    "print(f\"initial ID(memory address): {id(s)}\")\n",
    "# operation that appears to change 's'\n",
    "s=s+\"new part\"\n",
    "print(f\"new string value: {s}\")\n",
    "print(f\"new ID (memory Address): {id(s)}\")\n"
   ]
  },
  {
   "cell_type": "code",
   "execution_count": null,
   "id": "88f971cc",
   "metadata": {},
   "outputs": [],
   "source": []
  },
  {
   "cell_type": "markdown",
   "id": "9c7ca756",
   "metadata": {},
   "source": [
    "49. Write a program to remove all digits from the string \"Unisoft123Empower456\".\n",
    "\n",
    "We can achieve this by iterating through the string and checking each character using the string method .isdigit(), keeping only the characters that are not digits."
   ]
  },
  {
   "cell_type": "code",
   "execution_count": 54,
   "id": "d8c61d24",
   "metadata": {},
   "outputs": [
    {
     "name": "stdout",
     "output_type": "stream",
     "text": [
      "original string:Unisole123Empower546\n",
      "string without string: UnisoleEmpower\n"
     ]
    }
   ],
   "source": [
    "mixed_string=\"Unisole123Empower546\"\n",
    "result_string=\"\" # initialize a empty string\n",
    "for char in mixed_string:\n",
    "    #check if the character is not a digit \n",
    "    if not char.isdigit():\n",
    "        result_string+=char\n",
    "\n",
    "print(f\"original string:{mixed_string}\")\n",
    "print(f\"string without string: {result_string}\")"
   ]
  },
  {
   "cell_type": "code",
   "execution_count": null,
   "id": "e564d00f",
   "metadata": {},
   "outputs": [],
   "source": []
  },
  {
   "cell_type": "markdown",
   "id": "01a15a46",
   "metadata": {},
   "source": [
    "50. Write a program to check if a string contains only alphabets.\n",
    "\n",
    "The .isalpha() method checks if a string contains only alphabetic characters (a-z and A-Z) and is not empty. If it contains numbers, spaces, or punctuation, it returns False."
   ]
  },
  {
   "cell_type": "code",
   "execution_count": 56,
   "id": "671a56ad",
   "metadata": {},
   "outputs": [
    {
     "name": "stdout",
     "output_type": "stream",
     "text": [
      "'helloworld' contains only alphabets:  True\n",
      " 'hello world'contains only alphabets:False\n",
      " 'Unisole Empower' coontains only alphabets: False \n"
     ]
    }
   ],
   "source": [
    "text1=\"helloworld\"\n",
    "text2=\"hello world\" # contains a space\n",
    "text3=\"hello123\" # contains digits\n",
    "\n",
    "print(f\"'{text1}' contains only alphabets:  {text1.isalpha()}\")\n",
    "print(f\" '{text2}'contains only alphabets:{text2.isalpha()}\")\n",
    "print(f\" '{text}' coontains only alphabets: {text3.isalpha()} \") "
   ]
  },
  {
   "cell_type": "code",
   "execution_count": null,
   "id": "704bd8a5",
   "metadata": {},
   "outputs": [],
   "source": []
  }
 ],
 "metadata": {
  "kernelspec": {
   "display_name": "base",
   "language": "python",
   "name": "python3"
  },
  "language_info": {
   "codemirror_mode": {
    "name": "ipython",
    "version": 3
   },
   "file_extension": ".py",
   "mimetype": "text/x-python",
   "name": "python",
   "nbconvert_exporter": "python",
   "pygments_lexer": "ipython3",
   "version": "3.12.11"
  }
 },
 "nbformat": 4,
 "nbformat_minor": 5
}
